{
 "cells": [
  {
   "cell_type": "markdown",
   "metadata": {},
   "source": [
    "# Keeneland Venue Analysis and Investment Recommendations\n",
    "\n",
    "## Introduction\n",
    "Many people associate horse racing and breeding with the state of Kentucky, and Central Kentucky in particular. Lexington, Kentucky’s official slogan is “Horse Capital of the World,” and it’s impossible to travel backroads in the Bluegrass without driving by miles and miles of pristine horse farms. Although Lexington’s economy has expanded beyond horse racing alone, owing to a large university and decades of relatively rapid development, the city is still highly dependent on the industry and has established an urban/rural boundary to prevent over-development of farmland surrounding the city. \n",
    "\n",
    "The center of horse racing in the city is the racetrack Keeneland. Hosting 18 stakes races in its fall 2019 meet with six grade I races and purses topping out at $1 million (Staff, 2019), the track attracts spectators both from the US and globally. The 2019 fall meet had attendance of 262,630 people (Keeneland, 2019). Considering the size of the city is around 330,000 people (US Census Bureau, 2019), the track drives a large part of the local economy during this period. Another meet is scheduled every year in April, with the 2019 spring meet having an attendance of 242,547 people (Keeneland, 2019). The 2020 Breeders’ Cup, one of the premier racing events in the US and in the world, is also on the horizon in November 2020. When Keeneland last hosted this two-day event in 2015 it attracted record attendance with 95,102 attendees (Breeders' Cup, 2015).\n",
    "\n",
    "Because Keeneland is very important to the city and clearly attracts a great number of visitors, the indirect benefits of racing in the area could influence decision making and new development. As such, the central problem proposed is how to quantify the indirect impact of Keeneland on different neighborhoods and venues. Also, how can this information be leveraged by someone looking to start a business in the area that caters to racetrack attendees? Developing a business themed around horse racing could be a promising venture if placed in the correct location and in the right category. Ideally this business would be relatively easy to start without requiring a great deal of capital investment."
   ]
  },
  {
   "cell_type": "markdown",
   "metadata": {},
   "source": [
    "## Literature Review\n",
    "\n",
    "To analyze the economic impact of Keeneland and racing on the local economy a study was conducted at the University of Kentucky. This study (Bollinger, 2015) measured the economic impact in two areas: racing and sales. In racing, the author relied on survey and sales data to determine that the top categories of spending annually were in retail (over 12M USD), lodging (over 15M USD), food and beverages (over 19M USD), and gasoline (9M USD). The total annual economic impact from racing was estimated at 123M USD directly and 200M USD total. This study is the first to estimate Keeneland’s economic impact.\n",
    "\n",
    "Although this study measured the economic impact of racing in the area generally, it did not analyze which areas of the city were most impacted and how more specific categories were impacted. This study aims to further evaluate these areas and to recommend specific locations and categories of venues for investment. Based on the prior study, food and beverage may be the best categories for investment, and locations in the city with close proximity to Keeneland may be ideal for development."
   ]
  },
  {
   "cell_type": "markdown",
   "metadata": {},
   "source": [
    "## Data\n",
    "\n",
    "The following data sources were used in determining the ideal location and category placement:\n",
    "\n",
    "- The Foursquare API (Foursquare, 2020) was used to determine the next venues that users visit after checking       in to a prior venue. This process was needed to evaluate the impact of Keeneland’s visitors on the local         economy. The API was also used to determine what venues are nearby to each chosen location and category. This     was necessary to determine two metrics for determination of ideal locations and venue categories: number of       venues of that category within a 1 km radius and minimum distance to a venue of that category.\n",
    "\n",
    "- A shapefile for the state of Kentucky (US Census Bureau, 2019) provided by the census bureau was used to         determine the location of each studied point by tract.\n",
    "\n",
    "- A shapefile for zoning area for the city of Lexington (LFUCG, 2020) was obtained to filter possible locations     to include only those located in business zones\n",
    "\n",
    "- The Google Maps Geocoding API (Google, 2020) was used to determine the addresses of each chosen location based   on the location’s coordinates.\n"
   ]
  },
  {
   "cell_type": "markdown",
   "metadata": {},
   "source": [
    "## Methodology"
   ]
  },
  {
   "cell_type": "markdown",
   "metadata": {},
   "source": [
    "First, install utm and geopandas if necessary, import necessary packages, and set matplotlib inline. Also set chained assignment warning to exception to enable debugging."
   ]
  },
  {
   "cell_type": "code",
   "execution_count": 7,
   "metadata": {},
   "outputs": [],
   "source": [
    "#!pip install geopandas\n",
    "#!pip install utm\n",
    "\n",
    "import os\n",
    "from dotenv import load_dotenv\n",
    "from zipfile import ZipFile\n",
    "from io import BytesIO\n",
    "import geopandas\n",
    "import json\n",
    "import requests\n",
    "import utm\n",
    "import numpy as np\n",
    "from sklearn.cluster import KMeans\n",
    "from sklearn.preprocessing import StandardScaler\n",
    "import matplotlib.pyplot as plt\n",
    "import folium\n",
    "from folium import plugins\n",
    "from matplotlib.ticker import FuncFormatter\n",
    "import re\n",
    "import seaborn as sns\n",
    "import pandas as pd\n",
    "from pandas.io.json import json_normalize\n",
    "import config\n",
    "\n",
    "pd.set_option('mode.chained_assignment', 'raise')\n",
    "%matplotlib inline"
   ]
  },
  {
   "cell_type": "markdown",
   "metadata": {},
   "source": [
    "### Determination of next venues"
   ]
  },
  {
   "cell_type": "markdown",
   "metadata": {},
   "source": [
    "This class creates the series of dataframes that are compiled using the Foursquare API next venues query. \n",
    "\n",
    "The first method, **IterateVenues**, is used to call the API and create a dictionary of the responses. The method also takes a dictionary of venues that have already been assigned next venues. If a new venue is evaluated, the response from Foursquare (Foursquare, 2020) is stored in this dictionary. This saves substantially on compute time. In addition to querying for next venues, the method assignes a weight to each venue returned. The weights assigned are linearly related and are computed using the weights lambda function. The category, venue ID, venue name, and latitude and longitude are stored in a temporary dictionary. The next weight is computed based on the weight of the parent node and is also included for each venue. The results for each next venues call are stored in a list of all next venue results. The already compiled responses are also stored in a dictionary that is returned.\n",
    "\n",
    "The second method, **FindTract** is used to determine the tract that each venue belongs to. This is needed to filter out venues not in Fayette County and those in rural tracts. In order to determine tract, the method first checks if certain tracts have already been returned. It then orders the geoJSON file to include the tracts that have already been returned first. This substantially reduces the time needed to determine tracts. It then determines the tract ID and the coordinates of the tract. The method uses the geometrical definition of whether a point is inside of a polygon. If a line is drawn to the right from a point and that line either crosses a side of the polygon an odd number of times or runs through a vertex, that point is inside that polygon. **An illustration of this concept is shown below:** \n",
    "![alt text](https://media.geeksforgeeks.org/wp-content/uploads/polygon1.png)\n",
    "The coordinates given by the geoJSON file are listed in order to draw the polygon. Thus, the sides of the polygon that they create and a slope intercept equation can be derived. First, the method creates a list of all of the min y and max y values as given by latitude, respectively. It searches the geoJSON file for sets of points that have a range of values in which the lattitude of the point lies. After filtering the points based on whether the lattitide lies in between the min and max values, the function determines an equation for the line. It uses the point-slope equation to determine slope and then point intercept to determine intercept. For each side of the tract that has been filtered the longitude value is computed based on the slope intercept equation and the latitude of the point. If the number of these longitude values greater than the slope's longitude is odd or the longitude value is equal to the predicted, the point is determined to be inside the tract. The tract ID of this tract is then returned.\n",
    "\n",
    "The third method, **TractDF**, compiles a dataframe for each level of analysis. This dataframe includes venue name, ID, latitude, longitude, weight, and tract. For each tract returned in the dataframe, the method checks if this tract has already been selected. If it has, the tract ID is returned from the list. If not, the tract is determined using the **FindTract** function and the tract and tract ID are appended to the tract list. The tract ID is then added to the dataframe.\n",
    "\n",
    "The fourth method, **LocationDFs**, first takes in the Foursquare credentials, latitude and longitude of the initial location studied, and the category ID of the starting location. The method uses this information to determine the latitude and longitude listed by Foursquare for the venue, category name, and venue name. This information is added as a tuple in a list. This list of one tuple is passed to the **IterateVenues** function, which is iterated a certain number of times defined by the class. The results from each layer are stored in a list and after all layers are iterated through the list of dataframes is returned."
   ]
  },
  {
   "cell_type": "code",
   "execution_count": 2,
   "metadata": {},
   "outputs": [],
   "source": [
    "class LocationDispersion:\n",
    "    \"\"\"\n",
    "    Create dataframes of next venue results at various levels. Each level \n",
    "    is dependent on the Foursquare next venue results from the previous level.\n",
    "    Starts with venue of certain latitude, longitude, and category id. \n",
    "    \n",
    "    Foursquare API credentials are needed to create the dataframes. For the \n",
    "    number of calls, the 'Personal' tier may be needed. None of the calls are \n",
    "    rated as 'Premium'.\n",
    "    \n",
    "    Available category ids are available at:\n",
    "    https://developer.foursquare.com/docs/build-with-foursquare/categories/.\n",
    "    \n",
    "    Note the the class structure is based on the KY census tract geojson available \n",
    "    from KY Geonet. This geojson is available at:\n",
    "    https://opendata.arcgis.com/datasets/d7e0ae24e6ea478eb405a2d292ce19f6_0.geojson.\n",
    "    Other geojson files may not be compatible. \n",
    "    \n",
    "    The parameter 'n' is the number of desired levels in the analysis.\n",
    "    \n",
    "    Note that the LocationDFs method may take a while to run as it iterates through\n",
    "    the geojson for each venue.\n",
    "    \"\"\"\n",
    "    weights = lambda self, x: [i * 1/((x+1)*(x//2)+(x%2)*((x+1)/2)) \n",
    "                               for i in range(x, 0, -1)]\n",
    "    \n",
    "    def __init__(self, latitude, longitude, category_id, census_json, n, \n",
    "                 CLIENT_ID, CLIENT_SECRET, VERSION):\n",
    "        self.latitude = latitude\n",
    "        self.longitude = longitude\n",
    "        self.category_id = category_id\n",
    "        self.census_json = census_json\n",
    "        self.n = n\n",
    "        self.CLIENT_ID = CLIENT_ID\n",
    "        self.CLIENT_SECRET = CLIENT_SECRET\n",
    "        self.VERSION = VERSION\n",
    "        \n",
    "    def IterateVenues(self, response, all_responses):\n",
    "        \"\"\"\n",
    "        Iterates through level of venues to create next level. \n",
    "        Outputs list with relevent information on next venues.\n",
    "        \"\"\"\n",
    "        next_responses = list()\n",
    "        for venue in response:\n",
    "            venue_id = venue[1]\n",
    "            if venue_id in all_responses.keys():\n",
    "                next_results = all_responses[venue_id]\n",
    "            else:\n",
    "                next_url = 'https://api.foursquare.com/v2/venues/{}/nextvenues?client_id={}&client_secret={}&v={}'\\\n",
    "                    .format(venue_id, self.CLIENT_ID, self.CLIENT_SECRET, self.VERSION)\n",
    "                next_results = requests.get(next_url).json()\n",
    "                all_responses[venue_id] = next_results\n",
    "            prev_weight = venue[5]\n",
    "            next_venues = list()\n",
    "            if not next_results[\"response\"]:\n",
    "                continue\n",
    "            count = next_results[\"response\"][\"nextVenues\"][\"count\"]\n",
    "            next_weights = [prev_weight * weight for weight in self.weights(count)]\n",
    "            results = next_results[\"response\"][\"nextVenues\"][\"items\"]\n",
    "            for i in range(len(results)):\n",
    "                next_id = results[i][\"id\"]\n",
    "                next_name = results[i][\"name\"]\n",
    "                category = results[i][\"categories\"][0][\"name\"]\n",
    "                lat = results[i][\"location\"][\"lat\"]\n",
    "                long = results[i][\"location\"][\"lng\"]\n",
    "                visit_weight = next_weights[i]\n",
    "                next_venues.append((next_name, next_id, category, lat, long, \n",
    "                                    visit_weight))\n",
    "            next_responses.extend(next_venues)\n",
    "        return next_responses, all_responses\n",
    "    \n",
    "    def FindTract(self, lat, long, prev=None):\n",
    "        \"\"\"\n",
    "        Iterates through geojson file to extract correct census tract using lat and long.\n",
    "        Utilizes basic geometrical definition of a polygon.\n",
    "        \"\"\"\n",
    "        tracts = sorted(self.census_json[\"features\"], key=lambda x: x[\"properties\"]\n",
    "                        [\"GEOID\"])\n",
    "        if prev and any(x for x in prev):\n",
    "            county_ids = set([x[2:5] for x in prev if x])\n",
    "            tracts1 = [tract for tract in tracts if tract[\"properties\"][\"COUNTYFP\"]\n",
    "                       in county_ids]\n",
    "            tracts2 = [tract for tract in tracts if tract[\"properties\"][\"COUNTYFP\"]\n",
    "                       not in county_ids]\n",
    "            tracts = tracts1 + tracts2\n",
    "        for tract in tracts:\n",
    "            tract_id = tract[\"properties\"][\"GEOID\"]\n",
    "            coords = tract[\"geometry\"][\"coordinates\"][0]\n",
    "            long_preds = list()\n",
    "            if len(coords) < 2:\n",
    "                continue\n",
    "            ymax = [max([coords[i][1], coords[i-1][1]]) for i in range(1, len(coords))]\n",
    "            ymin = [min([coords[i][1], coords[i-1][1]]) for i in range(1, len(coords))]    \n",
    "            new_coords = list()\n",
    "            for i in range(1, len(coords)):\n",
    "                if lat > ymin[i-1] and lat < ymax[i-1]:\n",
    "                        new_coords.append([coords[i-1],coords[i]])\n",
    "            if new_coords:\n",
    "                for i in range(len(new_coords)):\n",
    "                    x_diff = new_coords[i][1][0] - new_coords[i][0][0]\n",
    "                    y_diff = new_coords[i][1][1] - new_coords[i][0][1]\n",
    "                    m = y_diff / x_diff\n",
    "                    b = new_coords[i][1][1] - m * new_coords[i][1][0]\n",
    "                    if m == 0:\n",
    "                        long_pred = -b\n",
    "                    else:\n",
    "                        long_pred = (lat-b)/m\n",
    "                    long_preds.append(long_pred)\n",
    "            if long_preds and (sum(pred > long for pred in long_preds) % 2 == 1\\\n",
    "                or any(long == pred for pred in long_preds)):\n",
    "                return tract_id\n",
    "        print(\"Venue outside of Kentucky\")\n",
    "        return None\n",
    "    \n",
    "    def TractDF(self, layer, prev_tracts=None):\n",
    "        \"\"\"\n",
    "        Creates dataframe for each layer. Uses FindTract to determine tract number \n",
    "        and GetLikes to determine like count.\n",
    "        \"\"\"\n",
    "        venues_df = pd.DataFrame()\n",
    "        venues_df[\"Venue\"] = [v[0] for v in layer]\n",
    "        venues_df[\"Id\"] = [v[1] for v in layer]\n",
    "        venues_df[\"Category\"] = [v[2] for v in layer]\n",
    "        venues_df[\"Latitude\"] = [v[3] for v in layer]\n",
    "        venues_df[\"Longitude\"] = [v[4] for v in layer]\n",
    "        venues_df[\"VisitWeight\"] = [v[5] for v in layer]\n",
    "        tracts = list()\n",
    "        if not prev_tracts:\n",
    "            prev_tracts = dict()\n",
    "        for i in range(venues_df.shape[0]):\n",
    "            ID = venues_df.iloc[i,1]\n",
    "            if ID in prev_tracts.keys():\n",
    "                tracts.append(prev_tracts[ID])\n",
    "            else:\n",
    "                lat = venues_df.iloc[i,3]\n",
    "                long = venues_df.iloc[i,4]\n",
    "                tract = self.FindTract(lat, long, tracts)\n",
    "                tracts.append(tract)\n",
    "                prev_tracts[ID] = tract\n",
    "        venues_df[\"Tract\"] = tracts\n",
    "        print(\"Layer finished.\")\n",
    "        return prev_tracts, venues_df\n",
    "    \n",
    "    def LocationDFs(self):\n",
    "        \"\"\"\n",
    "        Creates list of DFs for each desired level of analysis for given location. \n",
    "        Uses all prior functions to generate.\n",
    "        \"\"\"    \n",
    "        venues_url = 'https://api.foursquare.com/v2/venues/search?client_id={}&client_secret={}&v={}&ll={},{}'\\\n",
    "            .format(self.CLIENT_ID, self.CLIENT_SECRET, self.VERSION, self.latitude, \n",
    "                self.longitude, self.category_id)\n",
    "        venue_results = requests.get(venues_url).json()\n",
    "        venue_response = venue_results[\"response\"][\"venues\"][0]\n",
    "        venue_id = venue_response[\"id\"]\n",
    "        venue_name = venue_response[\"name\"]\n",
    "        venue_cat = venue_response[\"categories\"][0][\"name\"]\n",
    "        venue_lat = venue_response[\"location\"][\"lat\"]\n",
    "        venue_long = venue_response[\"location\"][\"lng\"]\n",
    "        venue = [(venue_name, venue_id, venue_cat, venue_lat, venue_long, 1)]\n",
    "        layers = [venue]\n",
    "        all_responses = dict()\n",
    "        for i in range(self.n):\n",
    "            next_responses, all_responses = self.IterateVenues(layers[i], all_responses)\n",
    "            layers.append(next_responses)\n",
    "        dfs = list()\n",
    "        prev_tracts = None\n",
    "        for layer in layers:\n",
    "            prev_tracts, df = self.TractDF(layer, prev_tracts)\n",
    "            dfs.append(df)\n",
    "        return dfs"
   ]
  },
  {
   "cell_type": "markdown",
   "metadata": {},
   "source": [
    "The census data for Kentucky is available from the census bureau as a shapefile (US Census Bureau, 2019). This shapefile is stored in a zip file. **Requests** is used along with the census URL to extract the data from the site for the zip file. This zip file is written to a zip file stored locally, which is then extracted using the **zipfile** package. The **geopandas** package is then used to read the contents of the shapefile and convert it into geoJSON format, which is then loaded and stored as the variable census_json."
   ]
  },
  {
   "cell_type": "code",
   "execution_count": 3,
   "metadata": {},
   "outputs": [],
   "source": [
    "census_url = \"https://www2.census.gov/geo/tiger/TIGER2017/BG/tl_2017_21_bg.zip\"\n",
    "\n",
    "request = requests.get(census_url)\n",
    "open('census.zip', 'wb').write(request.content)\n",
    "with ZipFile(\"census.zip\", 'r') as zip_ref:\n",
    "    zip_ref.extractall()\n",
    "\n",
    "myshpfile = geopandas.read_file('tl_2017_21_bg.shp')\n",
    "myshpfile.to_file('census.json', driver='GeoJSON')\n",
    "\n",
    "with open('census.json') as f:\n",
    "  census_json = json.load(f)"
   ]
  },
  {
   "cell_type": "markdown",
   "metadata": {},
   "source": [
    "The Foursquare credentials along with the category ID for racetracks is supplied."
   ]
  },
  {
   "cell_type": "code",
   "execution_count": 8,
   "metadata": {},
   "outputs": [],
   "source": [
    "load_dotenv()\n",
    "\n",
    "category_id = '4bf58dd8d48988d1f4931735'\n",
    "CLIENT_ID = os.getenv('CLIENT_ID')\n",
    "CLIENT_SECRET = os.getenv('CLIENT_SECRET')\n",
    "VERSION = '20200529'"
   ]
  },
  {
   "cell_type": "markdown",
   "metadata": {},
   "source": [
    "The latitude and longitude of Keeneland are supplied and the **LocationDFs** method of the **LocationDispersion** class is used to extract dataframes for six levels of analysis. Note that this process may take several seconds to complete."
   ]
  },
  {
   "cell_type": "code",
   "execution_count": 5,
   "metadata": {},
   "outputs": [
    {
     "name": "stdout",
     "output_type": "stream",
     "text": [
      "Layer finished.\n",
      "Layer finished.\n",
      "Layer finished.\n",
      "Layer finished.\n",
      "Layer finished.\n",
      "Layer finished.\n",
      "Layer finished.\n"
     ]
    }
   ],
   "source": [
    "keene_lat = 38.0461\n",
    "keene_long = -84.6080\n",
    "loc = LocationDispersion(keene_lat, keene_long, category_id, \n",
    "    census_json, 6, CLIENT_ID, CLIENT_SECRET, VERSION)\n",
    "keene_dfs = loc.LocationDFs()"
   ]
  },
  {
   "cell_type": "markdown",
   "metadata": {},
   "source": [
    "The dataframes from each level of analysis are concatenated to form a full dataframe. The Fall 2019 meet attendance is then used to determine the total number of visits by venue based on visit weight."
   ]
  },
  {
   "cell_type": "code",
   "execution_count": 6,
   "metadata": {},
   "outputs": [],
   "source": [
    "keene_df = pd.DataFrame()\n",
    "for layer in keene_dfs[1:]:\n",
    "    keene_df = pd.concat([keene_df, layer], axis=0)\n",
    "keene_attendance = 262630 # Source: https://keeneland.com/media/news/strong-attendance-and-community-events-highlight-keeneland-fall-meet\n",
    "keene_df[\"Visits\"] = keene_df[\"VisitWeight\"] * keene_attendance"
   ]
  },
  {
   "cell_type": "markdown",
   "metadata": {},
   "source": [
    "The dataframe is grouped by venue and the number of visits and number of mentions for each venue were determined."
   ]
  },
  {
   "cell_type": "code",
   "execution_count": 7,
   "metadata": {},
   "outputs": [],
   "source": [
    "agg_visit = {row:\"first\" for row in [\"Id\", \"Category\", \"Latitude\", \"Longitude\", \"Tract\"]}\n",
    "agg_visit[\"Visits\"] = \"sum\"\n",
    "agg_visit[\"VisitWeight\"] = \"count\"\n",
    "\n",
    "visit_df = keene_df.groupby(\"Venue\").agg(agg_visit)\n",
    "visit_df.rename(columns={\"VisitWeight\":\"Mentions\"}, inplace=True)"
   ]
  },
  {
   "cell_type": "markdown",
   "metadata": {},
   "source": [
    "### Creation of points of interest to study"
   ]
  },
  {
   "cell_type": "markdown",
   "metadata": {},
   "source": [
    "The county code for Fayette County is used to filter out all tracts from other counties, as they are not within the scope of this analysis."
   ]
  },
  {
   "cell_type": "code",
   "execution_count": 8,
   "metadata": {},
   "outputs": [],
   "source": [
    "fayette_code = '067'\n",
    "lex_visits = visit_df[visit_df[\"Tract\"].apply(lambda x: str(x)[2:5]) == fayette_code].copy()"
   ]
  },
  {
   "cell_type": "markdown",
   "metadata": {},
   "source": [
    "The generalized tract numbers are extracted and the latitude and longitude are converted to x and y coordinates using the **utm** package."
   ]
  },
  {
   "cell_type": "code",
   "execution_count": 9,
   "metadata": {},
   "outputs": [],
   "source": [
    "lex_visits.loc[:,\"Block\"] = lex_visits.loc[:,\"Tract\"]\n",
    "lex_visits.iloc[:,4] = lex_visits.iloc[:,4].apply(lambda x: str(x)[:-1])\n",
    "lex_visits.reset_index(inplace=True)\n",
    "lex_visits.loc[:,\"X\"], lex_visits.loc[:,\"Y\"], lex_visits.loc[:,\"zone_num\"], lex_visits.loc[:,\"zone_let\"] \\\n",
    "    = zip(*lex_visits.copy().apply(lambda x: utm.from_latlon(x[3], x[4]), axis=1))"
   ]
  },
  {
   "cell_type": "markdown",
   "metadata": {},
   "source": [
    "The rural tracts in Fayette County are excluded from this analysis as only venues in the city with other nearby venues are considered."
   ]
  },
  {
   "cell_type": "code",
   "execution_count": 10,
   "metadata": {},
   "outputs": [],
   "source": [
    "rural_tracts = ['21067003701', '21067003802','21067004207']\n",
    "lex_urban = lex_visits[~lex_visits[\"Tract\"].isin(rural_tracts)]\n",
    "lex_urban = lex_urban.reset_index().drop(\"index\", axis=1)"
   ]
  },
  {
   "cell_type": "markdown",
   "metadata": {},
   "source": [
    "The census json file is filtered to include only tracts within Fayette County."
   ]
  },
  {
   "cell_type": "code",
   "execution_count": 11,
   "metadata": {},
   "outputs": [],
   "source": [
    "lex_json = census_json.copy()\n",
    "lex_json[\"features\"] = [tract for tract in census_json[\"features\"] if tract[\"properties\"][\"COUNTYFP\"] == fayette_code]"
   ]
  },
  {
   "cell_type": "markdown",
   "metadata": {},
   "source": [
    "The x and y coordinates for each venue are extracted and scaled. These scaled coordinates are then passed into K Means clustering algorithms with number of cluseters ranging from 1 to 14. The sum of squared errors is appended to a list for each number of clusters used."
   ]
  },
  {
   "cell_type": "code",
   "execution_count": 12,
   "metadata": {},
   "outputs": [],
   "source": [
    "lex_urban_xy = lex_urban[[\"X\", \"Y\"]].values\n",
    "scaler1 = StandardScaler()\n",
    "lex_xy_scaled = scaler1.fit_transform(lex_urban_xy)\n",
    "sum_squared = list()\n",
    "K = range(1, 15)\n",
    "for k in K:\n",
    "    kmeans = KMeans(n_clusters=k, random_state=0)\n",
    "    kmeans.fit(lex_xy_scaled)\n",
    "    sum_squared.append(kmeans.inertia_)"
   ]
  },
  {
   "cell_type": "markdown",
   "metadata": {},
   "source": [
    "An elbow chart is created using the sum of squared distances for each value of number of clusters. Based on this chart, the elbow appears to be at either 3 or 4."
   ]
  },
  {
   "cell_type": "code",
   "execution_count": 13,
   "metadata": {},
   "outputs": [
    {
     "data": {
      "image/png": "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\n",
      "text/plain": [
       "<Figure size 720x432 with 1 Axes>"
      ]
     },
     "metadata": {
      "needs_background": "light"
     },
     "output_type": "display_data"
    }
   ],
   "source": [
    "plt.figure(figsize=(10,6))\n",
    "plt.plot(range(1,15), sum_squared)\n",
    "plt.xlabel(\"Number of Clusuters\")\n",
    "plt.ylabel(\"Sum of Squared Distances\")\n",
    "plt.title(\"Elbow chart for K Means analysis of Lexington venues affected by Keeneland\")\n",
    "plt.xticks(ticks=range(1,15))\n",
    "plt.grid(b=True)\n",
    "plt.savefig(\"kmeans_all_venues.png\")\n",
    "plt.show()"
   ]
  },
  {
   "cell_type": "markdown",
   "metadata": {},
   "source": [
    "A final K Means algorithm is fitted using 4 clusters determined using the elbow method. The centers of the clusters are then inverse transformed to determine their centers in x and y coordinates."
   ]
  },
  {
   "cell_type": "code",
   "execution_count": 14,
   "metadata": {},
   "outputs": [],
   "source": [
    "k = 4 # Elbow on elbow chart.\n",
    "kmeans = KMeans(n_clusters=k, random_state=0)\n",
    "kmeans.fit(lex_xy_scaled)\n",
    "centers = scaler1.inverse_transform(kmeans.cluster_centers_)"
   ]
  },
  {
   "cell_type": "markdown",
   "metadata": {},
   "source": [
    "The zone number and letter for the region are extracted from the dataframe of urban venues, and these are used to transform the centers in x and y coordinates back to latitude and longitude so that the centers can be plotted."
   ]
  },
  {
   "cell_type": "code",
   "execution_count": 15,
   "metadata": {},
   "outputs": [],
   "source": [
    "zone_num = lex_urban.loc[0, \"zone_num\"]\n",
    "zone_let = lex_urban.loc[0, \"zone_let\"]\n",
    "centers_ll = list()\n",
    "for ll in centers:\n",
    "    centers_ll.append(utm.to_latlon(ll[0], ll[1], zone_num, zone_let))"
   ]
  },
  {
   "cell_type": "markdown",
   "metadata": {},
   "source": [
    "The cluster centers are plotted using **folium** and the latitude and longitude of downtown Lexington. The clusters are plotted as circles with a radius of 1 km. These centers are plotted on top of a heatmap showing the density of venues visited by Keeneland goers."
   ]
  },
  {
   "cell_type": "code",
   "execution_count": 16,
   "metadata": {},
   "outputs": [
    {
     "data": {
      "text/html": [
       "<div style=\"width:100%;\"><div style=\"position:relative;width:100%;height:0;padding-bottom:60%;\"><span style=\"color:#565656\">Make this Notebook Trusted to load map: File -> Trust Notebook</span><iframe src=\"about:blank\" style=\"position:absolute;width:100%;height:100%;left:0;top:0;border:none !important;\" data-html=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 onload=\"this.contentDocument.open();this.contentDocument.write(atob(this.getAttribute('data-html')));this.contentDocument.close();\" allowfullscreen webkitallowfullscreen mozallowfullscreen></iframe></div></div>"
      ],
      "text/plain": [
       "<folium.folium.Map at 0x7fcb1a070e50>"
      ]
     },
     "execution_count": 16,
     "metadata": {},
     "output_type": "execute_result"
    }
   ],
   "source": [
    "lex_urban_arr = lex_urban[[\"Latitude\", \"Longitude\"]].values\n",
    "\n",
    "lex_lat = 38.0406\n",
    "lex_long = -84.5037\n",
    "\n",
    "lex_map = folium.Map(location=[lex_lat, lex_long], zoom_start=12)\n",
    "for center in centers_ll:\n",
    "    folium.Circle([center[0], center[1]], radius=1000, color='green', fill=True, fill_opacity=0.25).add_to(lex_map)\n",
    "lex_map.add_child(plugins.HeatMap(lex_urban_arr, radius=15))\n",
    "\n",
    "lex_map.save('lex_map.html')\n",
    "\n",
    "lex_map"
   ]
  },
  {
   "cell_type": "markdown",
   "metadata": {},
   "source": [
    "Based on the x and y location of each cluster center, a series of points was generated at constant intervals away from those centers. These points were generated in an 11 x 11 grid spanning 1500 meters in every direction away from the center. The locations were then appended to a list with the x and y coordinates converted to latitude and longitude using the **utm** package. A dataframe was created using these coordinates."
   ]
  },
  {
   "cell_type": "code",
   "execution_count": 17,
   "metadata": {},
   "outputs": [],
   "source": [
    "chosen_loc_radius = 1500\n",
    "diff = 300\n",
    "\n",
    "locations = list()\n",
    "for center in centers:\n",
    "    new = [[center[0] + x, center[1] + y] \n",
    "           for x in range(-chosen_loc_radius, chosen_loc_radius+1, diff) \n",
    "           for y in range(-chosen_loc_radius, chosen_loc_radius+1, diff)]\n",
    "    for n in new:\n",
    "        locations.append(utm.to_latlon(n[0], n[1], zone_num, zone_let))\n",
    "loc_df = pd.DataFrame(locations, columns=[\"Latitude\", \"Longitude\"])"
   ]
  },
  {
   "cell_type": "markdown",
   "metadata": {},
   "source": [
    "Next, the zones for each point were determined in order to filter out points not zoned for business. This was completed using a shapefile of zoning in Lexington (LFUCG, 2020) obtained from the Lexington city datasets. The process of extracting the shapefile and converting this file to a usable GeoJSON file is the same as used to determine census tracts."
   ]
  },
  {
   "cell_type": "code",
   "execution_count": 18,
   "metadata": {},
   "outputs": [],
   "source": [
    "lex_zoning_zip_url = \"https://data.lexingtonky.gov/dataset/d99942a6-2828-496b-b675-82d3cb94e54d/resource/434a9cd5-f7b4-4af4-94a0-038d020081f2/download/zoning.zip\"\n",
    "\n",
    "request = requests.get(lex_zoning_zip_url)\n",
    "open('zoning.zip', 'wb').write(request.content)\n",
    "\n",
    "with ZipFile(\"zoning.zip\", 'r') as zip_ref:\n",
    "    zip_ref.extractall()\n",
    "\n",
    "myshpfile = geopandas.read_file('Zoning.shp')\n",
    "myshpfile.to_file('zoning.json', driver='GeoJSON')\n",
    "\n",
    "with open('zoning.json') as f:\n",
    "  zoning = json.load(f)"
   ]
  },
  {
   "cell_type": "markdown",
   "metadata": {},
   "source": [
    "This function is used to determine to which zone in Lexington a specific latitude and longitude coordinate belongs. The process of extracting coordinates is the same as that used to determine tract number. The definition of a point inside a polygon is used, in addition to coordinates supplied by the geojson, to determine to which zone each point belongs. The zone is returned. If the point is not inside the geoJSON file, None is returned."
   ]
  },
  {
   "cell_type": "code",
   "execution_count": 19,
   "metadata": {},
   "outputs": [],
   "source": [
    "def FindZone(lat, long, geojson):\n",
    "        \"\"\"\n",
    "        Iterates through geojson file to extract correct census tract using lat and long.\n",
    "        Utilizes basic geometrical definition of a polygon.\n",
    "        \"\"\"\n",
    "        for zone in geojson[\"features\"]:\n",
    "            zone_id = zone[\"properties\"][\"ZONING\"]\n",
    "            coords = zone[\"geometry\"][\"coordinates\"][0]\n",
    "            if len(coords) < 3:\n",
    "                coords = coords[0]\n",
    "            long_preds = list()\n",
    "            ymax = [max([coords[i][1], coords[i-1][1]]) for i in range(1, len(coords))]\n",
    "            ymin = [min([coords[i][1], coords[i-1][1]]) for i in range(1, len(coords))]\n",
    "            new_coords = list()\n",
    "            for i in range(1, len(coords)):\n",
    "                if lat > ymin[i-1] and lat < ymax[i-1]:\n",
    "                        new_coords.append([coords[i-1],coords[i]])\n",
    "            if new_coords:\n",
    "                for i in range(len(new_coords)):\n",
    "                    x_diff = new_coords[i][1][0] - new_coords[i][0][0]\n",
    "                    y_diff = new_coords[i][1][1] - new_coords[i][0][1]\n",
    "                    m = y_diff / x_diff\n",
    "                    b = new_coords[i][1][1] - m * new_coords[i][1][0]\n",
    "                    if m == 0:\n",
    "                        long_pred = -b\n",
    "                    else:\n",
    "                        long_pred = (lat-b)/m\n",
    "                    long_preds.append(long_pred)\n",
    "            if long_preds and (sum(pred > long for pred in long_preds) % 2 == 1\\\n",
    "                or any(long == pred for pred in long_preds)):\n",
    "                return zone_id\n",
    "        return None"
   ]
  },
  {
   "cell_type": "markdown",
   "metadata": {},
   "source": [
    "Now the **FindZone** function is used to filter out all points not in a business zone, excluding zone \"B-4\", which is a wholesale business zone and is outside of the scope of this analysis. The zone is then dropped after being used to filter the points."
   ]
  },
  {
   "cell_type": "code",
   "execution_count": 20,
   "metadata": {},
   "outputs": [],
   "source": [
    "loc_df[\"Zone\"] = loc_df.apply(lambda x: FindZone(x[0], x[1], zoning), axis=1)\n",
    "bus_df = loc_df[loc_df[\"Zone\"].apply(lambda x: False if not x else (x.split(\"-\")[0] == \"B\")\n",
    "                                     &(x.split(\"-\")[1] != \"4\"))]\n",
    "bus_df = bus_df.reset_index().drop([\"index\", \"Zone\"], axis=1)"
   ]
  },
  {
   "cell_type": "markdown",
   "metadata": {},
   "source": [
    "This **folium** map shows clusters of markers for the chosen locations. These markers are again overlayed on the heatmap of venues with Keeneland visits to give an understanding of where these locations are relative to visited venues. Most points are clustered in Downtown, along Harrodsburg Road, shown as \"US 68\", and along Nicholasville Road, shown as \"US 27\"."
   ]
  },
  {
   "cell_type": "code",
   "execution_count": 21,
   "metadata": {
    "scrolled": true
   },
   "outputs": [
    {
     "data": {
      "text/html": [
       "<div style=\"width:100%;\"><div style=\"position:relative;width:100%;height:0;padding-bottom:60%;\"><span style=\"color:#565656\">Make this Notebook Trusted to load map: File -> Trust Notebook</span><iframe src=\"about:blank\" style=\"position:absolute;width:100%;height:100%;left:0;top:0;border:none !important;\" data-html=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 onload=\"this.contentDocument.open();this.contentDocument.write(atob(this.getAttribute('data-html')));this.contentDocument.close();\" allowfullscreen webkitallowfullscreen mozallowfullscreen></iframe></div></div>"
      ],
      "text/plain": [
       "<folium.folium.Map at 0x7fcb19859c10>"
      ]
     },
     "execution_count": 21,
     "metadata": {},
     "output_type": "execute_result"
    }
   ],
   "source": [
    "lex_lat = 38.0406\n",
    "lex_long = -84.5037\n",
    "\n",
    "bus_map = folium.Map(location=[lex_lat, lex_long], zoom_start=12)\n",
    "bus_cats = plugins.MarkerCluster().add_to(bus_map)\n",
    "\n",
    "\n",
    "for lat, lng in zip(bus_df.Latitude,bus_df.Longitude):\n",
    "    folium.Marker(\n",
    "        location=[lat, lng],\n",
    "        icon=None,\n",
    "        popup=None,\n",
    "    ).add_to(bus_cats) \n",
    "\n",
    "bus_map.add_child(plugins.HeatMap(lex_urban_arr, radius=15))\n",
    "\n",
    "bus_map.save(\"bus_map.html\")\n",
    "\n",
    "bus_map"
   ]
  },
  {
   "cell_type": "markdown",
   "metadata": {},
   "source": [
    "### Category choice by point"
   ]
  },
  {
   "cell_type": "markdown",
   "metadata": {},
   "source": [
    "This function converts latitude and longitude to x and y coordinates using the **utm** package. It then computes the distance between two points in meters. This will be used to determine how close visited venues are to each point."
   ]
  },
  {
   "cell_type": "code",
   "execution_count": 22,
   "metadata": {},
   "outputs": [],
   "source": [
    "def LatLonDist(latlon1, latlon2):\n",
    "    \"\"\"\n",
    "    Determines distance in m between two points based on latitude and longitude.\n",
    "    \"\"\"\n",
    "    x1, y1, zone1, d1 = utm.from_latlon(latlon1[0], latlon1[1])\n",
    "    x2, y2, zone2, d2 = utm.from_latlon(latlon2[0], latlon2[1])\n",
    "    return np.sqrt((x2-x1)**2+(y2-y1)**2)"
   ]
  },
  {
   "cell_type": "markdown",
   "metadata": {},
   "source": [
    "The **LatLongDist** function is used to determine the distance of each visited venue to each point studied. This is stored in a temporary dataframe and then concatenated."
   ]
  },
  {
   "cell_type": "code",
   "execution_count": 23,
   "metadata": {},
   "outputs": [],
   "source": [
    "loc_all_df = pd.DataFrame()\n",
    "for i in range(bus_df.shape[0]):\n",
    "    dist_df = lex_urban.iloc[:,:7]\n",
    "    dist_df[\"Distance\"] = dist_df.apply(lambda x: LatLonDist([x[3], x[4]], bus_df.iloc[i,:]), axis=1)\n",
    "    dist_df.drop([\"Latitude\", \"Longitude\"], axis=1, inplace=True)\n",
    "    dist_df[\"Latitude\"] = bus_df.iloc[i,0]\n",
    "    dist_df[\"Longitude\"] = bus_df.iloc[i,1]\n",
    "    loc_all_df = pd.concat([loc_all_df, dist_df], axis=0)"
   ]
  },
  {
   "cell_type": "markdown",
   "metadata": {},
   "source": [
    "Next the top categories were determined based on number of total visits. The top 5 of these categories were compiled excluding grocery stores and supermarkets that were deemed too large of investments. The indices for the top categories were derived to enable highlighting the chosen categories while plotting."
   ]
  },
  {
   "cell_type": "code",
   "execution_count": 24,
   "metadata": {},
   "outputs": [],
   "source": [
    "cat_visits = lex_urban.groupby(\"Category\").sum()[[\"Visits\"]].sort_values(by=\"Visits\", ascending=False)\n",
    "cat_limit = 5\n",
    "exc_cat = [\"Grocery Store\", \"Supermarket\"]\n",
    "cat_top = cat_visits[~cat_visits.index.isin(exc_cat)][:cat_limit]\n",
    "cat_visits.reset_index(inplace=True)\n",
    "cat_top_i = [i for i in range(cat_visits.shape[0]) if cat_visits.iloc[i,0] in cat_top.index.to_list()]"
   ]
  },
  {
   "cell_type": "markdown",
   "metadata": {},
   "source": [
    "The visits in each of the chosen top categories are shown below."
   ]
  },
  {
   "cell_type": "code",
   "execution_count": 25,
   "metadata": {},
   "outputs": [
    {
     "data": {
      "text/html": [
       "<div>\n",
       "<style scoped>\n",
       "    .dataframe tbody tr th:only-of-type {\n",
       "        vertical-align: middle;\n",
       "    }\n",
       "\n",
       "    .dataframe tbody tr th {\n",
       "        vertical-align: top;\n",
       "    }\n",
       "\n",
       "    .dataframe thead th {\n",
       "        text-align: right;\n",
       "    }\n",
       "</style>\n",
       "<table border=\"1\" class=\"dataframe\">\n",
       "  <thead>\n",
       "    <tr style=\"text-align: right;\">\n",
       "      <th></th>\n",
       "      <th>Visits</th>\n",
       "    </tr>\n",
       "    <tr>\n",
       "      <th>Category</th>\n",
       "      <th></th>\n",
       "    </tr>\n",
       "  </thead>\n",
       "  <tbody>\n",
       "    <tr>\n",
       "      <td>Steakhouse</td>\n",
       "      <td>45749.549408</td>\n",
       "    </tr>\n",
       "    <tr>\n",
       "      <td>Ice Cream Shop</td>\n",
       "      <td>19424.907373</td>\n",
       "    </tr>\n",
       "    <tr>\n",
       "      <td>American Restaurant</td>\n",
       "      <td>12108.653781</td>\n",
       "    </tr>\n",
       "    <tr>\n",
       "      <td>Liquor Store</td>\n",
       "      <td>11518.817783</td>\n",
       "    </tr>\n",
       "    <tr>\n",
       "      <td>German Restaurant</td>\n",
       "      <td>4147.527894</td>\n",
       "    </tr>\n",
       "  </tbody>\n",
       "</table>\n",
       "</div>"
      ],
      "text/plain": [
       "                           Visits\n",
       "Category                         \n",
       "Steakhouse           45749.549408\n",
       "Ice Cream Shop       19424.907373\n",
       "American Restaurant  12108.653781\n",
       "Liquor Store         11518.817783\n",
       "German Restaurant     4147.527894"
      ]
     },
     "execution_count": 25,
     "metadata": {},
     "output_type": "execute_result"
    }
   ],
   "source": [
    "cat_top"
   ]
  },
  {
   "cell_type": "markdown",
   "metadata": {},
   "source": [
    "These are the top 15 categories by visits. The chosen categories are highliqhted in red. They will be used to determine which categories to focus on for each point."
   ]
  },
  {
   "cell_type": "code",
   "execution_count": 26,
   "metadata": {},
   "outputs": [
    {
     "data": {
      "image/png": "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\n",
      "text/plain": [
       "<Figure size 1080x864 with 1 Axes>"
      ]
     },
     "metadata": {
      "needs_background": "light"
     },
     "output_type": "display_data"
    }
   ],
   "source": [
    "plt.figure(figsize=(15,12))\n",
    "ax = plt.subplot(111)\n",
    "bar = ax.bar(\"Category\", \"Visits\", data=cat_visits.iloc[:15,:])\n",
    "for i in cat_top_i:\n",
    "    bar[i].set_color(\"#ED553B\")\n",
    "ax.set_xticklabels(labels=cat_visits.iloc[:15,:][\"Category\"],rotation=45, ha=\"right\")\n",
    "ax.set_xlabel(\"Category\", fontsize=14)\n",
    "ax.set_ylabel(\"Number of Keeneland Visitors\", fontsize=14)\n",
    "ax.yaxis.set_major_formatter(FuncFormatter(lambda x, p: format(int(x), ',')))\n",
    "ax.grid(b=True)\n",
    "ax.set_title(\"Top venue categories by number of Keeneland visitors\", fontsize=16)\n",
    "\n",
    "plt.savefig(\"top_venues.png\")\n",
    "plt.show()"
   ]
  },
  {
   "cell_type": "markdown",
   "metadata": {},
   "source": [
    "Next, the visited venues are filtered by distance from the studied point. This distance was chosen as 1 km. The dataframe containing nearby venues was then grouped by location and category of venue to determine which categories were at each location. The grouped dataframe was then used to extract the unique coordinates and the categories located near each of these coordinates."
   ]
  },
  {
   "cell_type": "code",
   "execution_count": 27,
   "metadata": {},
   "outputs": [],
   "source": [
    "loc_radius = 1000\n",
    "loc_radius_df = loc_all_df[loc_all_df[\"Distance\"] < loc_radius]\n",
    "loc_grouped = loc_radius_df.groupby([\"Latitude\", \"Longitude\", \"Category\"]).count()\n",
    "cat_lat = loc_grouped.index.get_level_values(0).unique().to_list()\n",
    "cat_long = loc_grouped.index.get_level_values(1).unique().to_list()\n",
    "groups = [loc_grouped.loc[cat_lat[i],:].index.get_level_values(1).to_list() for i in range(len(cat_lat))]"
   ]
  },
  {
   "cell_type": "markdown",
   "metadata": {},
   "source": [
    "The top categories not nearby each point were determined and these were saved back into the list of categories by point."
   ]
  },
  {
   "cell_type": "code",
   "execution_count": 28,
   "metadata": {},
   "outputs": [],
   "source": [
    "for i in range(len(groups)):\n",
    "    cats = cat_top.index.to_list()\n",
    "    for cat in groups[i]:\n",
    "        if cat in cats:\n",
    "            cats.remove(cat)\n",
    "    groups[i] = cats    "
   ]
  },
  {
   "cell_type": "markdown",
   "metadata": {},
   "source": [
    "### Nearby venues and metrics derivation"
   ]
  },
  {
   "cell_type": "markdown",
   "metadata": {},
   "source": [
    "This function is then used to convert the category names to ID numbers to be interpreted by the Foursquare API."
   ]
  },
  {
   "cell_type": "code",
   "execution_count": 29,
   "metadata": {},
   "outputs": [],
   "source": [
    "def GetCatID(cat):\n",
    "    \"\"\"\n",
    "    Determines the category ID by category using Foursquare API data.\n",
    "    \"\"\"\n",
    "    venues_url = 'https://api.foursquare.com/v2/venues/categories?client_id={}&client_secret={}&v={}'\\\n",
    "                .format(CLIENT_ID, CLIENT_SECRET, VERSION)\n",
    "    venue_results = requests.get(venues_url).json()\n",
    "    venue_text = json.dumps(venue_results)\n",
    "    cat_id = re.findall('(?<=id\\\"\\:\\s\\\")\\w+(?=[^\\}]+\\s\\\"%s\\\")' % cat, venue_text)[0]\n",
    "    return cat_id"
   ]
  },
  {
   "cell_type": "markdown",
   "metadata": {},
   "source": [
    "The IDs for catgories that do not have visited venues located nearby to each point, the latitude and longitude of each point, a 1 km radius, and a limit of 20 returned venues are then used to query the Foursquare API. For each category by point, the loop first checks if there are any categories not included at that venue. If not, it skips that location, appends None to the list of returned venues, and continues. \n",
    "\n",
    "It then determines the coordinated and the category ID, which it uses to query the API. If there are no nearby venues returned, the loop creates temporary dictionary with null values for the ID of the venue, name, and distance. It then appends this dictionary to a list of venues at each point. If the API does return nearby venues in that category, these reusults are looped to obtain a dictionary of ID, name, and distance fro the point for each venue. \n",
    "\n",
    "These dictionaries are then appended to the list of venues for each point. This temporary list by point is then appended to the full list of returned venues by location. Note that this process may take several seconds."
   ]
  },
  {
   "cell_type": "code",
   "execution_count": 30,
   "metadata": {},
   "outputs": [],
   "source": [
    "limit = 20\n",
    "all_cats = list()\n",
    "for i in range(len(groups)):\n",
    "    if not groups[i]:\n",
    "        all_cats.append(None)\n",
    "        continue\n",
    "    group = groups[i]\n",
    "    lat = cat_lat[i]\n",
    "    long = cat_long[i]\n",
    "    cats = dict()\n",
    "    for cat in group:\n",
    "        cat_id = GetCatID(cat)\n",
    "        venue_url = \"https://api.foursquare.com/v2/venues/search?client_id={}&client_secret={}&v={}&ll={},{}&limit={}&radius={}&categoryId={}\"\\\n",
    "            .format(CLIENT_ID, CLIENT_SECRET, VERSION, lat, long, limit, loc_radius, cat_id)\n",
    "        venue_results = requests.get(venue_url).json()\n",
    "        venues = list()\n",
    "        if not venue_results[\"response\"][\"venues\"]:\n",
    "            venue_dict = dict()\n",
    "            venue_dict[\"ID\"] = np.nan\n",
    "            venue_dict[\"name\"] = np.nan\n",
    "            venue_dict[\"distance\"] = np.nan\n",
    "            venues.append(venue_dict)\n",
    "        else:\n",
    "            for venue in venue_results[\"response\"][\"venues\"]:\n",
    "                venue_dict = dict()\n",
    "                venue_dict[\"ID\"] = venue[\"id\"]\n",
    "                venue_dict[\"name\"] = venue[\"name\"]\n",
    "                venue_dict[\"distance\"] = venue[\"location\"][\"distance\"]\n",
    "                venues.append(venue_dict)\n",
    "        cats[cat] = venues\n",
    "    all_cats.append(cats)"
   ]
  },
  {
   "cell_type": "markdown",
   "metadata": {},
   "source": [
    "After a list of returned nearby venues by category is created, a dataframe is created for each point including its returned venues. This dataframe is then concatenated to form a complete dataframe of nearby venues in each category."
   ]
  },
  {
   "cell_type": "code",
   "execution_count": 31,
   "metadata": {},
   "outputs": [],
   "source": [
    "all_loc_cat = pd.DataFrame()\n",
    "for i in range(len(all_cats)):\n",
    "    if not all_cats[i]:\n",
    "        continue\n",
    "    all_cat_df = pd.DataFrame()\n",
    "    for k,v in all_cats[i].items():\n",
    "        cat_df = pd.DataFrame(all_cats[i][k])\n",
    "        cat_df[\"category\"] = k\n",
    "        all_cat_df = pd.concat([all_cat_df, cat_df], axis=0)\n",
    "    all_cat_df[\"Latitude\"] = cat_lat[i]\n",
    "    all_cat_df[\"Longitude\"] = cat_long[i]\n",
    "    all_loc_cat = pd.concat([all_loc_cat, all_cat_df], axis=0)"
   ]
  },
  {
   "cell_type": "markdown",
   "metadata": {},
   "source": [
    "The dataframe containing nearby venues is then grouped by location and category to determine minimum distance to a venue of that cateogory and the number of venues nearby in each category. If there are no nearby venues in that category, the grouped dataframe will include zero for number of venues nearby and null values for minimum distance."
   ]
  },
  {
   "cell_type": "code",
   "execution_count": 32,
   "metadata": {},
   "outputs": [],
   "source": [
    "loc_cat_agg = {\"distance\": \"min\", \"ID\": \"count\"}\n",
    "possible_df = all_loc_cat.groupby([\"Latitude\", \"Longitude\", \"category\"]).agg(loc_cat_agg)\n",
    "possible_df.reset_index(inplace=True)\n",
    "possible_df.rename(columns={\"distance\": \"min_dist\", \"ID\": \"num_nearby\"}, inplace=True)"
   ]
  },
  {
   "cell_type": "markdown",
   "metadata": {},
   "source": [
    "Below is the head of the dataframe containing category by coordinated with minimum distance to a venue in that category amd number of venues roughly within 1 km. The Foursquare call returns some venues that are outside of the radius given, so not all categories will have venues with minimum distance less than 1 km."
   ]
  },
  {
   "cell_type": "code",
   "execution_count": 33,
   "metadata": {},
   "outputs": [
    {
     "data": {
      "text/html": [
       "<div>\n",
       "<style scoped>\n",
       "    .dataframe tbody tr th:only-of-type {\n",
       "        vertical-align: middle;\n",
       "    }\n",
       "\n",
       "    .dataframe tbody tr th {\n",
       "        vertical-align: top;\n",
       "    }\n",
       "\n",
       "    .dataframe thead th {\n",
       "        text-align: right;\n",
       "    }\n",
       "</style>\n",
       "<table border=\"1\" class=\"dataframe\">\n",
       "  <thead>\n",
       "    <tr style=\"text-align: right;\">\n",
       "      <th></th>\n",
       "      <th>Latitude</th>\n",
       "      <th>Longitude</th>\n",
       "      <th>category</th>\n",
       "      <th>min_dist</th>\n",
       "      <th>num_nearby</th>\n",
       "    </tr>\n",
       "  </thead>\n",
       "  <tbody>\n",
       "    <tr>\n",
       "      <td>0</td>\n",
       "      <td>37.978356</td>\n",
       "      <td>-84.532091</td>\n",
       "      <td>American Restaurant</td>\n",
       "      <td>212.0</td>\n",
       "      <td>5</td>\n",
       "    </tr>\n",
       "    <tr>\n",
       "      <td>1</td>\n",
       "      <td>37.978356</td>\n",
       "      <td>-84.532091</td>\n",
       "      <td>German Restaurant</td>\n",
       "      <td>NaN</td>\n",
       "      <td>0</td>\n",
       "    </tr>\n",
       "    <tr>\n",
       "      <td>2</td>\n",
       "      <td>37.978356</td>\n",
       "      <td>-84.532091</td>\n",
       "      <td>Ice Cream Shop</td>\n",
       "      <td>456.0</td>\n",
       "      <td>3</td>\n",
       "    </tr>\n",
       "    <tr>\n",
       "      <td>3</td>\n",
       "      <td>37.978356</td>\n",
       "      <td>-84.532091</td>\n",
       "      <td>Liquor Store</td>\n",
       "      <td>1236.0</td>\n",
       "      <td>1</td>\n",
       "    </tr>\n",
       "    <tr>\n",
       "      <td>4</td>\n",
       "      <td>37.978356</td>\n",
       "      <td>-84.532091</td>\n",
       "      <td>Steakhouse</td>\n",
       "      <td>367.0</td>\n",
       "      <td>1</td>\n",
       "    </tr>\n",
       "  </tbody>\n",
       "</table>\n",
       "</div>"
      ],
      "text/plain": [
       "    Latitude  Longitude             category  min_dist  num_nearby\n",
       "0  37.978356 -84.532091  American Restaurant     212.0           5\n",
       "1  37.978356 -84.532091    German Restaurant       NaN           0\n",
       "2  37.978356 -84.532091       Ice Cream Shop     456.0           3\n",
       "3  37.978356 -84.532091         Liquor Store    1236.0           1\n",
       "4  37.978356 -84.532091           Steakhouse     367.0           1"
      ]
     },
     "execution_count": 33,
     "metadata": {},
     "output_type": "execute_result"
    }
   ],
   "source": [
    "possible_df.head()"
   ]
  },
  {
   "cell_type": "markdown",
   "metadata": {},
   "source": [
    "A metric for Keeneland visitor proximity was also derived. The first step in determing this metric for each point was grouping the dataframe including all visits within a 1 km radius by the location of each point. This was used to determine the number of visits within 1 km of each point."
   ]
  },
  {
   "cell_type": "code",
   "execution_count": 34,
   "metadata": {},
   "outputs": [],
   "source": [
    "loc_visits = loc_radius_df.groupby([\"Latitude\", \"Longitude\"]).sum()[[\"Visits\"]]\n",
    "loc_visits.reset_index(inplace=True)"
   ]
  },
  {
   "cell_type": "markdown",
   "metadata": {},
   "source": [
    "As the number of visits is an approximation, a function was created that takes in any number and rounds it to a certain number of significant figures."
   ]
  },
  {
   "cell_type": "code",
   "execution_count": 35,
   "metadata": {},
   "outputs": [],
   "source": [
    "def SigFigs(num, sig_figs):\n",
    "    \"\"\"\n",
    "    Takes number and rounds to certain number of significant figures.\n",
    "    \"\"\"\n",
    "    if num >= 1:\n",
    "        i = 0\n",
    "        while num // 10**i > 10:\n",
    "            i += 1\n",
    "    if num < 1:\n",
    "        i = -1\n",
    "        while num // 10**i == 0:\n",
    "            i-= 1\n",
    "    power_num = num * 10**-i\n",
    "    rounded = round(power_num, sig_figs-1)\n",
    "    return rounded * 10**i "
   ]
  },
  {
   "cell_type": "markdown",
   "metadata": {},
   "source": [
    "First, the number of signifant figures is set at 2 due to the high level of uncertainty. The minimum distance figure for locations without a nearby venue was set to 2 km, as the points are outside of a 1 km range but still likely not too far away from a venue of that category. \n",
    "\n",
    "The dataframe with visits within a 1 km radius by location was then merged with the dataframe containing data on proximity to nearby venues. Next the dataframe containing number of visits by category was merged with this dataframe. \n",
    "\n",
    "The number of visits within 1 km and the number of visits by category were then rounded to 2 significant figures using the **SigFigs** function. Finally the \"Category\" column was redundant and thus dropped.\n",
    "\n",
    "Thus, four metrics were derived for consideration in choosing a final venue: minimum distance to a venue in that category, number of venues in that category roughly within 1 km, number of visits within 1 km of the venue, and number of visits in that category."
   ]
  },
  {
   "cell_type": "code",
   "execution_count": 36,
   "metadata": {},
   "outputs": [],
   "source": [
    "sig_figs = 2\n",
    "\n",
    "possible_df[\"min_dist\"].fillna(2000,inplace=True)\n",
    "possible_df = pd.merge(possible_df, loc_visits, on=[\"Latitude\", \"Longitude\"])\n",
    "possible_df = pd.merge(possible_df, cat_visits, left_on=\"category\", right_on=\"Category\")\n",
    "possible_df.rename(columns={\"Visits_x\": \"RadiusVisits\", \"Visits_y\": \"CatVisits\"}, inplace=True)\n",
    "possible_df[\"RadiusVisits\"] = possible_df[\"RadiusVisits\"].apply(lambda x: SigFigs(x, sig_figs))\n",
    "possible_df[\"CatVisits\"] = possible_df[\"CatVisits\"].apply(lambda x: SigFigs(x, sig_figs))\n",
    "possible_df.drop(\"Category\", axis=1, inplace=True)"
   ]
  },
  {
   "cell_type": "markdown",
   "metadata": {},
   "source": [
    "In order to get a better understanding of the distribution of the four chosen metrics across all studied points, histogram subplots were generated for each metric. Each histogram was grouped using 30 bins, except for in category visits, which was grouped using 20 bins. \n",
    "\n",
    "As shown in the figure below, the minimum distance is skewed left with many of the points with nearby venues having a relatively short distance to those venues. However, there are a large number of venues with a 2 km minimum distance, which, as previously described, indicates that there were no nearby venues in that category within 1 km. The histogram for number of venues nearby indicates that again the distribution is skewed left, with most location category pairs having under 4 venues nearby. There is a sizable number of pairs with 0 nearby venues.\n",
    "\n",
    "Number of visits in a 1 km radius is heavily skewed left, with the vast majority of points having relatively very few visits. However, there is one area with vastly more visits, at around 97,000. This indicates that the number of visitors from Keeneland is highly concentrated in certain areas but relatively low at most locations. The number of visits in each category is again slightly left skewed, but relatively uniform."
   ]
  },
  {
   "cell_type": "code",
   "execution_count": 37,
   "metadata": {},
   "outputs": [
    {
     "data": {
      "image/png": "iVBORw0KGgoAAAANSUhEUgAAA38AAAL6CAYAAACGve9QAAAABHNCSVQICAgIfAhkiAAAAAlwSFlzAAALEgAACxIB0t1+/AAAADh0RVh0U29mdHdhcmUAbWF0cGxvdGxpYiB2ZXJzaW9uMy4xLjEsIGh0dHA6Ly9tYXRwbG90bGliLm9yZy8QZhcZAAAgAElEQVR4nOzdebwcVZnw8d9DAihEWUQiAhocEHWMGxncnUREoziCO65EceK4O+A74jijjOI7oIMb6jgoGlTGoCjCgBsgwZcZYFhEg6KyGBSIibJEAggGz/vHORcqne57u+/t7uqmft/Ppz/31v7UqVN16ulaOlJKSJIkSZLu3TarOwBJkiRJ0uCZ/EmSJElSA5j8SZIkSVIDmPxJkiRJUgOY/EmSJElSA5j8SZIkSVIDmPxJNYuIJRGRKp9bI2JVRJwcES+LiM1axp9XxlvSwzIWRsThrfPqMq55lX6rIuIr3c5junFNZx2HKSI2i4iPR8TqiPhzRHyr7piqImJFRKwY4Pznle32sD7Pd2HZ7gv7Od9pxtLzOg673kbE6yPiioi4MyJuHsYyp4in0zFjWW1BTVMvdbGMd/jgo+pOXftRRCyLiFXTnPbwiHhmn0OS1IbJnzQ6Xgo8GXge8M/AHcBXge9HxH0r460u453ew7wXAu+nt33+9LKc1T1M06uFtI9rOus4TC8B3gF8BHgq8A/1hjN088jbra/J34iZR+/rOLR6GxEPBo4F/gd4JvCsQS+zYS4hb8tL6g5kjHwQeOE0p30/uR5LGrDZdQcg6W6XppSurHR/OSK+Dnwd+DDwNoCU0h3A+YMKIiI2BzaklH4H/G5Qy5nMoNexDx5Z/n48pfTnWiNR7SIigM2HXG/3AGYBx6eUzp3pzCr7fZpxZPcCKaU/UMMxKCK2LPVo7KSUrqo7BklT88qfNMJSSt8ATgH+NiK2gva3lkXEX0XEGRFxQ0TcFhFXR8RnyrDDyd+qAvxp4vbSlnm9OSI+HBHXk684btvuFq7K8v42Iq6MiD9GxCURsahleNvbDqu3gHUZ15KW6V8dET8uy/19RHw5InZqs4yvRMSBEXF5uY32ooh42lTlXaZfHBHnRcTtEbEuIr4VEXtW5w8cXjrvmuo2v4iYHRHviYifR8QdEXF9RBwdEfcpw7eMiBsj4ug20768zP9xpfuvIuKkiLi2xPeLiPi/LVeG28XQdluWW61SS7+3lvW/MSJujojzI2K/yvCFwNml84y453blhZVx/rZlOx0XEdu3LOeBEfGfEfGHspwvAdtOth6VaZeVMlgQEf9TKYv9yvBDSj34Q0ScEhEPbJl+qm0y6TpW6tjrI+LnwJ3AfpPU27+OvH+uK/XxxxFxcGX4KyPiRxGxvoyzMiLeONn6AytK51llmcvKsM0j4ogS453l7xGRk7uJ6Tvu9x2Wd5+I+FhEXFZi/G1E/FdEPGKy7dSLUh8+ExG/KdvkN5H37y0r40y6b5ZxVkTEuRHxrMjHpttK3Ae0jPfwyLfWry319NcR8fWImF2Gb3LrZETMKmW5usx3RUT8ZYf1eWxEnBoRN5V4/zsint4yzkQ9fvJEPSZ/0TcxfFj70VMi4sKynFUR8bY24+4dEWeW7X9rRJwVEXu3md+qSvdEPXtjRHyglNvNpe7sUhlv4hj03sq+dngZ1rFtkzQ9Jn/S6Ps2sCWwoN3AiJgDfA+4C1hCvm30A9xzZf/zwHHl/6eRb2V6csts3gs8HFhKvm3nj5PE89fAIWWaA8knjd9pPQnrQjdx3S0ilgJfBi4HXgQcBjwHOKeUQdXTgUPJt8++nHyF5LSImPSkKCIWk2/ZW1+mexPwaODciNi5jPZCYFn5fyLmyW7z+wrwT8B/AvsB/wocDJwAd1/l/BrwyoiY1TLtq4HLUkqXlu6HAJcCfwcsBj4BvB744mTr1aN55G3zUnIZXEQuu+eW4ZcAbyn/v517yuASgIg4EvgMcCbwAuD/lFi/07J+3wSeD/xjWc4G4Jge4rw/8KUS6wuBtcA3IifRi0qM7yz/f7pl2km3yVTrWCwi7wf/UtbvJ+2CjIj9gbOALYA3AvsDXwAeWoY/rcRzDnAAudw/x+Qn8B8scVHifHLpB3A8ed/4Erl8vwi8u/Rv1e1+vyVwP+AIcnm9CbgPcH5EPGiSOLsSEduRb199OfBR8jHsH4DNyeXW7b454S/I+8ZHyceK1cBJEbF7ZZzTgJ3LfJ5DLrM7mPy86HByfT2BvK2+D5zaZn2eUNZne+BvgRcDNwBnRsReLaNvAywn3+L/XHKdHPZ+dCK5fhxA/lLhk7Hxl4uPIdfP7chtzGvLdOdExGO7WMZ7gN3Jx6p3kOvrCZXhE8f9Zdyzr32+i7ZN0nSklPz48VPjh9yoJWD3DsOfU4a/vHTPK91LSveC0v2YSZZxeBlndkv/iXldAkSHuOZV+q0iX+V4SKXf/YAbgS9X+q0AVrSJYxWwrIe4JtZxFrAGOLtlvKeV8d7esoybgO0q/SbK6JVTbIuLgCuq8QC7AX8CPlrpd0Q+fE65bZ9elvvalv6vKv0fV7qfWrqfUxnngWW5/9Bh3kE+CXo18GfgAZ3Kv922rJb/JPFvVpbxfeCUSv+FZX7ParPd7gLe19J/Yv0OKN37lu4DW8b7Tum/cIpyXVbGe0al32NKv18Asyr9P1rKcVaP26TtOlbq2G3Ag6aot1HGvQjYrMO6vAu4caq61Ga6Z7WWFTkZSsDhLeP+E5VjBJPs910uexawFXAL8PeT1TNa9vkO8/tAqTeP78O+uaL026PSb8cy/38s3TuUOF8wyfImtv/C0r0dOfH8bMt4724tc3KyfzmwRUuZXQ58q0093r/m/ah1+jOAaybqBnAScDOwbWWc+5OP+99smd+qNvvDOW3qfAIeXOmXgCNaxpuybfPjx0/vH6/8SaMvyt/UYfgV5Ib5PyLfFrnrNJbxrZRSp/m3Oj+l9OuJjpTSLdzzcphB2ZN8Alf9tpiUn3W6hnw1suq8lNJNle6V5e9DOi0gIrYGngCcmFLaUFnGr4D/brOMbiwmJ8vfiHyr4exyW9n3y/BnlGX8N3AV8JrKtAeSk6+71zki7h8RR0XEVeSrFH8iXw0N8jNgMxYRe0XEaRGxhnwV4U/kk8xuruzuOxFzy/peAPyBsr7kunIX8I2W6Zf3EOqtKaUfVrp/Xv6emVK6q6X/bGDi9uCutkkXzk8p/XaKcfYkX+H7fOr8bOiFwHaRbyN9/lRXp6cwEXvrG3knulvrcNf7feQ3D18Q+a2iG4BbgTl0Vy+m8mzgwpTSjzosu9d984qU0hWV8daSrwxP7P83AFcDR5ZbK7vZd+YDW5Ov0ldtVGcj34L91+Rntf9cqV9BvorXWr82kK9CVg1zP+o0/UPIV0YpyzstpXT3G2VTfibyVLo7LrbeGTHl8bjoR9smqYXJnzT6Jhq8tm/dTCmtI9+Cdj35NqFfR37G5cU9LKOXN3qu6dCv9darfpp4zqVdnL+tDJ9wY7Uj3fMChftMsoztyCdo3S6jGzuSb1tbT06iJj5ry/AHVMb9CvDCyi2srwF+kFK6rjLOF8m3fH6SfIL4V9xze+Jk69aVcnJ1Fnld3wY8pSzju13Of8fy90o2Xt8/ka8UTKzvTsBNKaU/tUzfrm51stFPG6SU7iz/3tQy3kT/ifh72SaT6WafmZjXtZ1GSCmdQ77Vc1fgZOB35dmqx3QZR1Wn/eS3LcPpMF5bEfE35FsDLwdeCTyRXC9+Rx/qHbmcOpYRve+bN7YZ7w5KrCXh3Zd8NfFfgV+WZ8neNEkME18etNbR1u7tyVf5/plN94G3khP96rnX2pYvK2C4+9Fk008c07enc9lv18UyWrdHN8fjfrVtklp437Q0+vYjP4tzcacRUn4m7MXl2+EF5GcsvhYRj00pXdbFMrq96gcwt0O/apLyR/JJSqvpJFBwz8lDu+eLHkQ+iZupm8jl0GkZN0xjnjeQy+LpHYZfX/n/y+QX4LwwIi4gn1wfNDEw8stI9iffXvaJSv/5XcQx8SzXFi39WxOdxeRnkF6WUrr7ZDzKy4a6MFFGz2bTJKw6fDX5JHjzlhPPdnWr33rZJpPpZp/5ffk76RcjKaWTyM+kzSHfbngU8N2I2GWSK4btVPeT6psXJ+p0ax3udr8/ELgypbRkokfkF8hMd39u9XsmL6O+75sppauB10ZEAI8lJ2afiYhVKaXvtJlkIvmZC/y00r+1zt5Mvg370+TnLtstu7pN222DYe5Hk00/cUy/kc5l3y7R7ps+tG2SWnjlTxphEfEi8sP+n00p3TbV+CmlDSml88nfOm/GPT9JMPFN66RvhezSk6q330TE/cgJ6nmVca4BHh4RW1TGewb5+cCqbuP6Bfnb6AOrPSPiKeTb6s7pZQXaSSndSk6wX1p9oUJEPJR8BWw6y5i4YrZNSumiNp+7E42UX5N+HvmK32vIt9V9szKvLclXFFq/pV/SRRzXlL+PnuhRTqae3TLeRJL3p8p4Dyc/a1TVabudQT7xfUiH9f1VGe+8si6t3+AfyOB1u036sc/8kvzM2xtKkjGplNL6lNJpwH+Qr+p0exVywkQdbS3HV5W/P2R6tiLfnlj1GvI27IfvA3t3ennIgPbNiXmnkmAcUno9usOoPyHvky9r6b9RWZdY/x85obykXR3rIqxh7kedpv819yR/55DfZnv38bv8/zf04dhb3Mkk+9okbZukHnnlTxodj4uIHchXZx5CfoPbS8knAu/pNFFEPJ/8tr5vAb8iP5fydvLLGCYSsp+Vv4dGxHeAu7o8CWlnDfmH5w8nnyC/uyzzg5VxlpeYvhD5FfS7kU+u1rXMq6u4Ukp3RcT7yM9+fIV8i+TOwIfIz4V8cZrr0uqfyc+nnFZeJz6H/DbHdcAmP8UwlZTSioj4KvmqzkeB/yWf1M0jv7nu3SmlX1Ym+RL5isF84OSU0vrKvNZFxPnkslpNvlryerq73fZC8pWgj5Rbzu4A3kxOKKvOJJ/kf6m8NXMn8vr/mo2/LPxlGe/1EXFjmd8vUkpXRcRRwKfK21/PIV9l25V8m93nU0pnp5TOiIhzydtzB/I2fDmdT7z7podt0mkdb+lhWSki3klO4n8QEZ8l3yr5SGDHlNL7I+ID5CstZ5OvOu5C3n8vTfm3NntZt5+WdTu8JPf/Q34u7J+Br6aU2r6RtAvfBQ6IiI+Rn0/bq8R486RTde9j5NtJz4yII8jPhO1AvtL9d6XM+7ZvlltqP0G+lfVKcgK0hLy9f9BumpTSzWX93xsRt5AT1r8ivyW21SHkRPt7EXEc+QrdDuTnFmellA6bLL4h70e3AB+uTP8K8suEllSeB/0guT06q8SVyMf9rcgv6+mHn5ETzO+Sr3ZeTy6vqdo2Sb1q9xYYP378DO/DPW/Im/jcTr5SczI5+Wt9C+c8Nn6j4J7kk5hfkU8Qfkf+eYgnVqaZRU4q1pJPdFPLvN4wSVzzKv1WkROvN5CTiTuAHwHPbDP9G8knE7eTT0L3YtO3fU4V15KWeb4a+HFZ7g3kWyV3ahlnFfCVNvFs8hbEDttjMfnE4nbyieUpwJ4t43T1ts8y7mbk15v/uGyfdeX/D5OvPlXH3a6sWwKe3WZe88hv8rullNmnyFddW9/6uIKWt60Cf1n6rycnc4fQ5m2f5CsbPy+x/pR8FWAZlbf4Vbbv1eQT5tblv4b8A9m3luVdXmLdpTLOA8mvt7+FnER8iXyy3+1bCq/tsI1b3xi4hJa36Xa7TTqt4yR1bB7t6+0zycnd+vL5MfC6Mmw/8uvsV5dt/xvyT6A8eIoy2ORtn6X/5uT6eQ35Cu41pXvzNnFust9PUoePIJ+Q30ZORh7PpvvzRFm3HjOWdbGMHYFjSzncWcrheGDLHvfNFcC5beZ/dxxlWceTE/zbyLcunsPGb9td2Fq+5OPVEeRn3W4vy3oU7d+w+kjyl2Bry3a9lvyClOdNVY+HvR+Rr55eSN4XrqHy9uTKuE8kfzm0vsRzFrB3m/mtqnS3rWcdyvap5Ku7f5woT7po2/z48dP7Z+I1vpIkSWqIclfGs1JKu0w1rqR7D5/5kyRJkqQGMPmTJEmSpAbwtk9JkiRJagCv/EmSJElSA5j8SZIkSVIDmPxJkiRJUgOY/EmSJElSA5j8SZIkSVIDmPxJkiRJUgOY/EmSJElSA5j8SZIkSVIDmPxJkiRJUgOY/EmSJElSA5j8SZIkSVIDmPxJkiRJUgOY/EmSJElSA5j8SZIkSVIDmPxJkiRJUgOY/EmSJElSA5j8SZIkSVIDmPxJkiRJUgOY/EmSJElSA5j8SZIkSVIDmPxJkiRJUgOY/EmSJElSA5j8SZIkSVIDmPxJkiRJUgOY/EmSJElSA5j8SZIkSVIDmPxJkiRJUgOY/EmSJElSA5j8SZIkSVIDmPxJkiRJUgOY/EmSJElSA5j8SZIkSVIDmPxJkiRJUgOY/EmSJElSA5j8SZIkSVIDmPxJkiRJUgOY/EmSJElSA5j8SZIkSVIDmPxJkiRJUgOY/EmSJElSA5j8SZIkSVIDmPxJkiRJUgOY/EmSJElSA5j8SZIkSVIDzK47gH7aYYcd0rx583qe7tZbb2Xrrbfuf0ADMk7xjlOsYLyDNE6xgvEOUr9ivfjii3+fUnpgH0JqhOm2kVVNrGfDMk7xGutgGOvgjFO8/Yh10vYxpXSv+ey1115pOs4+++xpTVeXcYp3nGJNyXgHaZxiTcl4B6lfsQIXpRFoe8blM902sqqJ9WxYxileYx0MYx2ccYq3H7FO1j5626ckSZIkNYDJnyRJkiQ1gMmfJEmSJDWAyZ8kSZIkNYDJnyRJkiQ1wEgkfxHx9xHx04i4LCK+GhH3iYjdIuKCiLgiIk6MiC3qjlOSpGGzjZQk9UvtyV9E7Ay8HViQUno0MAs4EDgK+FhKaQ/gJuDg+qKUJGn4bCMlSf1Ue/JXzAbuGxGzga2A1cAzgZPK8OOBA2qKTZKkOtlGSpL6ovbkL6V0HfBvwK/JDdo64GLg5pTShjLatcDO9UQoSVI9bCMlSf0U+UfgawwgYjvgG8DLgZuBr5fu96eUdi/j7Ap8O6U0v830S4GlAHPnzt1r+fLlPcewfv165syZM+11GLZxinecYgXjHaRxihWMd5D6FeuiRYsuTikt6ENII2sU2siqJtazYRmneI11MIx1cMYp3n7EOmn7mFKq9QO8FDiu0v1a4N+B3wOzS78nA9+bal577bVXmo6zzz57WtPVZZziHadYUzLeQRqnWFMy3kHqV6zARanmNmzQn1FoI6uaWM+GZZziNdbBMNbBGad4+xHrZO1j7bd9km9leVJEbBURAewD/Aw4G3hJGecg4JSa4pMkqS62kZKkvqk9+UspXUB+aP0SYCU5pmOBdwOHRMSVwAOA42oLUpKkGthGSpL6aXbdAQCklN4PvL+l99XA3jWEI0nq0bzDTu963GWLtx5gJPc+o9RGrrxuHUt62NarjtxvgNFIknpV+5U/SZIkSdLgmfxJkiRJUgOY/EmSJElSA5j8SZIkSVIDmPxJkiRJUgOY/EmSJElSA5j8SZIkSVIDmPxJkiRJUgOY/EmSJElSA5j8SZIkSVIDmPxJkiRJUgOY/EmSJElSA5j8SZIkSVIDmPxJkiRJUgOY/EmSJElSA5j8SZIkSVIDmPxJkiRJUgOY/EmSJElSA5j8SZIkSVIDmPxJkiRJUgOY/EmSJElSA5j8SZIkSVIDmPxJkiRJUgOY/EmSJElSA5j8SZIkSVIDmPxJkiRJUgOY/EmSJElSA9Se/EXEnhFxaeXzh4h4Z0RsHxFnRMQV5e92dccqSdIw2UZKkvqp9uQvpfSLlNLjUkqPA/YCbgNOBg4Dzkop7QGcVbolSWoM20hJUj/Vnvy12Ae4KqV0DbA/cHzpfzxwQG1RSZJUP9tISdKMjFrydyDw1fL/3JTSaoDyd8faopIkqX62kZKkGYmUUt0xABARWwDXA3+ZUloTETenlLatDL8ppbTJMw0RsRRYCjB37ty9li9f3vOy169fz5w5c6Yf/JCNU7zjFCsY7yCNU6xgvL1aed26rsfdbZtZfYl10aJFF6eUFsx4RmOgzjayau2N61hze/fjz995mxktbybq3id6NU7xGutgGOvgjFO8/Yh1svZx9ozm3F/PBS5JKa0p3WsiYqeU0uqI2AlY226ilNKxwLEACxYsSAsXLux5wStWrGA609VlnOIdp1jBeAdpnGIF4+3VksNO73rcZYu3HquyHRG1tZFVx5xwCkev7P7UYdWrZra8mah7n+jVOMVrrINhrIMzTvEOOtZRuu3zFdxzOwvAqcBB5f+DgFOGHpEkSaPBNlKSNGMjkfxFxFbAvsA3K72PBPaNiCvKsCPriE2SpDrZRkqS+mUkbvtMKd0GPKCl3w3kN5tJktRYtpGSpH4ZiSt/kiRJkqTBMvmTJEmSpAYw+ZMkSZKkBjD5kyRJkqQGMPmTJEmSpAYw+ZMkSZKkBjD5kyRJkqQGMPmTJEmSpAYw+ZMkSZKkBjD5kyRJkqQGMPmTJEmSpAYw+ZMkSZKkBjD5kyRJkqQGMPmTJEmSpAYw+ZMkSZKkBjD5kyRJkqQGMPmTJEmSpAYw+ZMkSZKkBjD5kyRJkqQGMPmTJEmSpAYw+ZMkSZKkBjD5kyRJkqQGMPmTJEmSpAYw+ZMkSZKkBjD5kyRJkqQGMPmTJEmSpAYw+ZMkSZKkBhiJ5C8ito2IkyLi5xFxeUQ8OSK2j4gzIuKK8ne7uuOUJGnYbCMlSf0yEskf8AnguymlRwCPBS4HDgPOSintAZxVuiVJahrbSElSX9Se/EXE/YFnAMcBpJTuTCndDOwPHF9GOx44oJ4IJUmqh22kJKmfak/+gIcBvwO+GBE/iojPR8TWwNyU0mqA8nfHOoOUJKkGtpGSpL6JlFK9AUQsAM4HnppSuiAiPgH8AXhbSmnbyng3pZQ2eaYhIpYCSwHmzp271/Lly3uOYf369cyZM2e6qzB04xTvOMUKxjtI4xQrGG+vVl63rutxd9tmVl9iXbRo0cUppQUzntEIG4U2smrtjetYc3v348/feZsZLW8m6t4nejVO8RrrYBjr4IxTvP2IdbL2cRSSvwcB56eU5pXup5OfXdgdWJhSWh0ROwErUkp7TjavBQsWpIsuuqjnGFasWMHChQt7nq4u4xTvOMUKxjtI4xQrGG+v5h12etfjLlu8dV9ijYgmJH+1t5FVx5xwCkevnN31+KuO3G9Gy5uJuveJXo1TvMY6GMY6OOMUbz9inax9rP22z5TSb4HfRMREo7UP8DPgVOCg0u8g4JQawpMkqTa2kZKkfur+67vBehtwQkRsAVwNvI6cmH4tIg4Gfg28tMb4JEmqi22kJKkvRiL5SyldCrS7NLnPsGORJGmU2EZKkvql9ts+JUmSJEmDZ/InSZIkSQ1g8idJkiRJDWDyJ0mSJEkNYPInSZIkSQ1g8idJkiRJDWDyJ0mSJEkNYPInSZIkSQ1g8idJkiRJDWDyJ0mSJEkNYPInSZIkSQ1g8idJkiRJDWDyJ0mSJEkNYPInSZIkSQ1g8idJkiRJDWDyJ0mSJEkNYPInSZIkSQ1g8idJkiRJDWDyJ0mSJEkNYPInSZIkSQ1g8idJkiRJDWDyJ0mSJEkNYPInSZIkSQ1g8idJkiRJDWDyJ0mSJEkNYPInSZIkSQ0wu+4AACJiFXALcBewIaW0ICK2B04E5gGrgJellG6qK0ZJkupgGylJ6pdRuvK3KKX0uJTSgtJ9GHBWSmkP4KzSLUlSE9lGSpJmbJSSv1b7A8eX/48HDqgxFkmSRoltpCSpZ6OS/CXg+xFxcUQsLf3mppRWA5S/O9YWnSRJ9bGNlCT1RaSU6o6BiHhwSun6iNgROAN4G3BqSmnbyjg3pZS2azPtUmApwNy5c/davnx5z8tfv349c+bMmXb8wzZO8Y5TrGC8gzROsYLx9mrldeu6Hne3bWb1JdZFixZdXLkN8l6r7jayau2N61hze/fjz995mxktbybq3id6NU7xGutgGOvgjFO8/Yh1svZxJF74klK6vvxdGxEnA3sDayJip5TS6ojYCVjbYdpjgWMBFixYkBYuXNjz8lesWMF0pqvLOMU7TrGC8Q7SOMUKxturJYed3vW4yxZvPVZlW7e628iqY044haNXdn/qsOpVM1veTNS9T/RqnOI11sEw1sEZp3gHHWvtt31GxNYRcb+J/4FnA5cBpwIHldEOAk6pJ0JJkuphGylJ6qdRuPI3Fzg5IiDH858ppe9GxIXA1yLiYODXwEtrjFGSpDrYRkqS+qb25C+ldDXw2Db9bwD2GX5EkiSNBttISVI/1X7bpyRJkiRp8Ez+JEmSJKkBTP4kSZIkqQFM/iRJkiSpAUz+JEmSJKkBTP4kSZIkqQFM/iRJkiSpAWac/EXEMyJik98LjIjZEfGMmc5fkqRxZRspSRol/bjydzawfZv+25RhkiQ1lW2kJGlk9CP5CyC16f8A4NY+zF+SpHFlGylJGhmb3IrSrYg4tfybgK9ExB2VwbOARwP/M4PYJEkaS7aRkqRRNO3kD7ih/A3gJuD2yrA7gXOBz81g/pIkjSvbSEnSyJl28pdSeh1ARKwC/i2l5O0rkiRhGylJGk0zufIHQErpX/oRiCRJ9za2kZKkUTLj5C8itgc+BOwD7EjLS2RSSvef6TIkSRpHtpGSpFEy4+QPOA54PHAscD3t32omSVIT2UZKkkZGP5K/fYB9U0oX9GFekiTdm9hGSpJGRj9+528tsL4P85Ek6d7GNlKSNDL6kfy9F/hARMzpw7wkSbo3sY2UJI2Mftz2+U/APGBtRFwD/Kk6MKX0mD4sQ5KkcWQbKUkaGf1I/k7qwzwkSbo3so2UJI0Mf+dPkqQBsY2UJI2SfjzzJ0mSJEkacf34kfdbmOR3i/wBW0lSU9lGSpJGST+e+XtrS/fm5B+0fTHwoT7MX5KkcWUbOSDzDjt90uGHzt/AkjLOqiP3G0ZIkjTy+vHM3/Ht+kfEJeQftz1mpsuQJGkc2UZKkkbJIJ/5Oxv4mwHOX5KkcWUbKUkaukEmfwcCv+925IiYFRE/iojTSvduEWdLMSYAACAASURBVHFBRFwRESdGxBYDi1SSpOGyjZQkDV0/Xviyko0fZg9gLrA98KYeZvUO4HJg4uH3o4CPpZSWR8RngYOBf59pvJIkDYttpCRplAziR97/DPwOWJFS+nk3M4iIXYD9yA+/HxIRATwTeGUZ5XjgcGzYJEnjxTZSkjQyRuVH3j8O/ANwv9L9AODmlNKG0n0tsHMfliNJ0tDYRkqSRkmk1PHnh3qbUcQzgUeRb2/5aUppRZfTPR94XkrpzRGxEHgX8DrgvJTS7mWcXYFvp5Tmt5l+KbAUYO7cuXstX76859jXr1/PnDlzep6uLuMU7zjFCsY7SOMUKxhvr1Zet67rcXfbZlZfYl20aNHFKaUFM57REIxzG1m19sZ1rLm9+/Hn77zNjJY3manq3Nz7cnesg4yjX+reh3thrINhrIMzTvH2I9bJ2sd+PPO3M3AysBdwfen94Ii4CHhhSun6jhNnTwVeEBHPA+5Dfp7h48C2ETG7fLO5S2XeG0kpHQscC7BgwYK0cOHCntdhxYoVTGe6uoxTvOMUKxjvII1TrGC8vVoyxW+uVS1bvPVYle1M3BvayKpjTjiFo1d2f+qw6lUzW95kpqpzh87fcHesg4yjX+reh3thrINhrIMzTvEOOtZ+vO3zk8BdwO4ppV1TSrsCe5R+n5xq4pTSe1JKu6SU5pHffvaDlNKryK/BfkkZ7SDglD7EKknSMNlGSpJGRj+Sv32Bt6SUfjXRI6V0NfD2Mmy63k1+sP1K8vMNx80oSkmShs82UpI0Mvrxts9O/tzrBOUZiBXl/6uBvfsbkiRJI6ERbeS8Hm4HXnXkfgOMRJIE/bnydxbwyfLAOQAR8RDgE2WYJElNZRspSRoZ/Uj+3g5sBVwdEddExCrgqtLv7X2YvyRJ48o2UpI0MvrxO3+/AZ4QEfsCjwAC+FlK6cyZzluSpHFmGylJGiXTvvIXEc+NiFURsQ1ASumMlNIxKaVPAheWYc/uW6SSJI0J20hJ0iiayW2fbwU+klLa5FdWS7+jgHfMYP6SJI0r20hJ0siZSfL3GGCy21Z+ADx2BvOXJGlc2UZKkkbOTJK/BzL5q6oT+beHJElqGttISdLImUnydy35m81OHgNcN4P5S5I0rmwjJUkjZybJ3+nAByPivq0DImIr4ANlHEmSmsY2UpI0cmbyUw8fAl4CXBERxwA/L/0fSX7QPYD/O7PwJEkaS7aRkqSRM+3kL6W0NiKeAvw7uQGLiUHA94A3p5TWzDxESZLGi22kJGkUzehH3lNK1wDPi4jtgN3JjdsVKaWb+hGcJEnjyjZSkjRqZpT8TSgN2YX9mJckSfcmtpGSpFExkxe+SJIkSZLGhMmfJEmSJDWAyZ8kSZIkNYDJnyRJkiQ1gMmfJEmSJDWAyZ8kSZIkNYDJnyRJkiQ1gMmfJEmSJDWAyZ8kSZIkNYDJnyRJkiQ1gMmfJEmSJDWAyZ8kSZIkNYDJnyRJkiQ1gMmfJEmSJDXA7LoDiIj7AD8EtiTHc1JK6f0RsRuwHNgeuAR4TUrpzvoilSRpuGwj+2PeYaf3NP6qI/cbUCSSVK9RuPJ3B/DMlNJjgccBiyPiScBRwMdSSnsANwEH1xijJEl1sI2UJPVN7clfytaXzs3LJwHPBE4q/Y8HDqghPEmSamMbKUnqp9qTP4CImBURlwJrgTOAq4CbU0obyijXAjvXFZ8kSXWxjZQk9UuklOqO4W4RsS1wMvA+4Isppd1L/12Bb6eU5reZZimwFGDu3Ll7LV++vOflrl+/njlz5swk9KEap3jHKVYw3kEap1jBeHu18rp1XY+72zaz+hLrokWLLk4pLZjxjMZEXW1k1dob17Hm9hnNoqP5O2/T0/hT1bm592XasfYaSz/UvQ/3wlgHw1gHZ5zi7Uesk7WPtb/wpSqldHNErACeBGwbEbPLN5u7ANd3mOZY4FiABQsWpIULF/a83BUrVjCd6eoyTvGOU6xgvIM0TrGC8fZqSQ8v1Fi2eOuxKttRUVcbWXXMCadw9MrBnDqsetXCnsafqs4dOn/DtGPtNZZ+qHsf7oWxDoaxDs44xTvoWGu/7TMiHli+zSQi7gs8C7gcOBt4SRntIOCUeiKUJKketpGSpH4ahSt/OwHHR8QscjL6tZTSaRHxM2B5RBwB/Ag4rs4gJUmqgW2kJKlvak/+Uko/AR7fpv/VwN7Dj0iSpNFgGylJ6qfab/uUJEmSJA2eyZ8kSZIkNYDJnyRJkiQ1gMmfJEmSJDWAyZ8kSZIkNYDJnyRJkiQ1gMmfJEmSJDWAyZ8kSZIkNYDJnyRJkiQ1wOy6A1Bn8w47vW3/Q+dvYEmbYauO3G/QIUmSJEkaU175kyRJkqQGMPmTJEmSpAYw+ZMkSZKkBjD5kyRJkqQGMPmTJEmSpAYw+ZMkSZKkBjD5kyRJkqQGMPmTJEmSpAYw+ZMkSZKkBjD5kyRJkqQGMPmTJEmSpAYw+ZMkSZKkBjD5kyRJkqQGMPmTJEmSpAYw+ZMkSZKkBjD5kyRJkqQGMPmTJEmSpAaoPfmLiF0j4uyIuDwifhoR7yj9t4+IMyLiivJ3u7pjlSRpmGwjJUn9VHvyB2wADk0pPRJ4EvCWiHgUcBhwVkppD+Cs0i1JUpPYRkqS+qb25C+ltDqldEn5/xbgcmBnYH/g+DLa8cAB9UQoSVI9bCMlSf0UKaW6Y7hbRMwDfgg8Gvh1SmnbyrCbUkqb3NYSEUuBpQBz587da/ny5T0vd/369cyZM2eaUQ/OyuvWte0/976w5vaZzXv+ztvMbAZdGtWy7cR4B2ecYgXj7VWn41U7u20zqy+xLlq06OKU0oIZz2hM1NVGVq29cd2M259Oem2XpqpzM2krh9VGVtW9D/fCWAfDWAdnnOLtR6yTtY8jk/xFxBzgHOBDKaVvRsTN3TRsVQsWLEgXXXRRz8tesWIFCxcu7Hm6QZt32Olt+x86fwNHr5w9o3mvOnK/GU3frVEt206Md3DGKVYw3l51Ol61s2zx1n2JNSIak/zV2UZWHXPCKTNufzrptV2aqs7NpK0cVhtZVfc+3AtjHQxjHZxxircfsU7WPtZ+2ydARGwOfAM4IaX0zdJ7TUTsVIbvBKytKz5JkupiGylJ6pfak7+ICOA44PKU0kcrg04FDir/HwScMuzYJEmqk22kJKmfBnPvRm+eCrwGWBkRl5Z+/wgcCXwtIg4Gfg28tKb4JtXLrU5Qz60k/dDLeo7rOkrSCBrrNlKSNFpqT/5SSucC0WHwPsOMRZKkUWIbKUnqp9pv+5QkSZIkDZ7JnyRJkiQ1QO23fY6aXp/hkyRJzdWUZ/8l3Tt45U+SJEmSGsDkT5IkSZIawORPkiRJkhrA5E+SJEmSGsDkT5IkSZIawORPkiRJkhrAn3oYMn9KQpKk5up0HnDo/A0saRnmz0JI6jev/EmSJElSA5j8SZIkSVIDmPxJkiRJUgOY/EmSJElSA5j8SZIkSVIDmPxJkiRJUgP4Uw8N5U9OSJIkSc3ilT9JkiRJagCTP0mSJElqAJM/SZIkSWoAkz9JkiRJagCTP0mSJElqAJM/SZIkSWoAf+pBkiRJkrrUy0+mrTpyvwFG0juv/EmSJElSA5j8SZIkSVIDjETyFxFfiIi1EXFZpd/2EXFGRFxR/m5XZ4ySJA2b7aMkqZ9G5Zm/ZcCngC9V+h0GnJVSOjIiDivd764hNg1YL/dN92rU7rOWpB4tw/ZRXRrn55AkDcdIXPlLKf0QuLGl9/7A8eX/44EDhhqUJEk1s32UJPXTSCR/HcxNKa0GKH93rDkeSZJGge2jJGlaIqVUdwwARMQ84LSU0qNL980ppW0rw29KKW3yXENELAWWAsydO3ev5cuX97zs9evXM2fOHABWXrduOuEP1dz7wprb646iO3XHOn/nbXoav1oXxsE4xTtOsYLx9qqXY+du28zqS6yLFi26OKW0YMYzGnHTbR/LsBm3kVVrb1w3sGN6r8frqercTNqfXmLp13lDu3j7XSYzmXdV3cebXhjrYIxTrND/eAe5r/Uj1snax1F55q+dNRGxU0ppdUTsBKxtN1JK6VjgWIAFCxakhQsX9rygFStWMDHdkgE+f9Yvh87fwNErR3nT3aPuWFe9amFP41frwjgYp3jHKVYw3l71cuxctnjrsSrbEdRV+wj9aSOrjjnhlIEd03s9Xk9V52bS/vQSS7/OG9rF2+8ymcm8q+o+3vTCWAdjnGKF/sc7yH1t0GU7yrd9ngocVP4/CDilxlgkSRoVto+SpGkZieQvIr4KnAfsGRHXRsTBwJHAvhFxBbBv6ZYkqTFsHyVJ/TQS9w6mlF7RYdA+Qw1E9zq+9lrSOLN91Djq9SecbH+l4RmJK3+SJEmSpMEy+ZMkSZKkBjD5kyRJkqQGMPmTJEmSpAYw+ZMkSZKkBjD5kyRJkqQGGImfepBGwbzDTufQ+RtY0uUrqn01tSRJksaJV/4kSZIkqQFM/iRJkiSpAUz+JEmSJKkBfOZPkiSpYeZ1+Xz7BJ9zl+4dvPInSZIkSQ1g8idJkiRJDWDyJ0mSJEkNYPInSZIkSQ1g8idJkiRJDWDyJ0mSJEkN4E89SEPgK7UlSZJUN6/8SZIkSVIDmPxJkiRJUgN426c0Tb3eyjmIeR86fwMLBxaFt6tKkpqll3av1zZvqnkfOn8DS8o4tqf3Hr2eSy1bvPWAIsm88idJkiRJDWDyJ0mSJEkNYPInSZIkSQ3gM3/SmBvks4e9miyW6rMME3ymQZIkaXi88idJkiRJDWDyJ0mSJEkNMPK3fUbEYuATwCzg8ymlI2sOSZKk2tk+6t5ikD+vsPK6dZs8cjAORumnltrF0u5RjunEMchtP6g4xt1IX/mLiFnAp4HnAo8CXhERj6o3KkmS6mX7KEmajpFO/oC9gStTSlenlO4ElgP71xyTJEl1s32UJPVs1JO/nYHfVLqvLf0kSWoy20dJUs8ipVR3DB1FxEuB56SU3lC6XwPsnVJ6W2WcpcDS0rkn8ItpLGoH4PczDHeYxinecYoVjHeQxilWMN5B6lesD00pPbAP8xk73bSPpX8/2siqJtazYRmneI11MIx1cMYp3n7E2rF9HPUXvlwL7Frp3gW4vjpCSulY4NiZLCQiLkopLZjJPIZpnOIdp1jBeAdpnGIF4x2kcYp1hE3ZPkJ/2siqcdp24xQrjFe8xjoYxjo44xTvoGMd9ds+LwT2iIjdImIL4EDg1JpjkiSpbraPkqSejfSVv5TShoh4K/A98qusv5BS+mnNYUmSVCvbR0nSdIx08geQUvo28O0BL6Zvt8QMyTjFO06xgvEO0jjFCsY7SOMU68gaUvvYapy23TjFCuMVr7EOhrEOzjjFO9BYR/qFL5IkSZKk/hj1Z/4kSZIkSX3Q6OQvIhZHxC8i4sqIOKzueAAiYteIODsiLo+In0bEO0r/wyPiuoi4tHyeV5nmPWUdfhERz6kh5lURsbLEdVHpt31EnBERV5S/25X+ERGfLPH+JCKeMMQ496yU36UR8YeIeOeolG1EfCEi1kbEZR2GbxkRJ5Z4LoiIeVPFOag63kWsh0TEz8o2PisiHloZdlelrE+t9N+trNcVZT23GGK8SyLid5W43lAZdlCJ6YqIOKjSf69S768sdTqGGO/HKrH+MiJurgwbavl2Oma1jDMydVfdmar8J9umw9Rl/VsYEesq+8X76oi1xLJJe9kyPKKmNrJNLG3bzJZxaivbdsfJ6HDu0Wbatsf1Icf6kYj4ednOJ0fEth2mnbTODCnWjudJLdMO/bjdId4TK7GuiohLO0w77LLtdI4/3HqbUmrkh/yA/FXAw4AtgB8DjxqBuHYCnlD+vx/wS+BRwOHAu9qM/6gS+5bAbmWdZg055lXADi39PgwcVv4/DDiq/P884DtAAE8CLqhx+/8WeOiolC3wDOAJwGUdhr8Z+Gz5/0DgxMniHGQd7yLWRcBW5f83TcRautd3mOZrwIHl/88Cbxpi2S4BPtWm//bA1eXvduX/7cqw/wWeXOryd4DnDivelnHfRn7ZRy3l2+mYNap1109X23TK8u+0TWuItZv6txA4re5yLbGsoqW9bBk+Em1khzrxW/Jvh41E2bY7TtLh3KNluo7H9SHH+mxgdvn/qHaxdlNnhhTr4bQ5T2pTR4Z+3G4Xb8vwo4H3jUjZdjrHH2q9bfKVv72BK1NKV6eU7gSWA/vXHBMppdUppUvK/7cAlwM7TzLJ/sDylNIdKaVfAVeS161u+wPHl/+PBw6o9P9Sys4Hto2InWqIbx/gqpTSNZOMM9SyTSn9ELhxingmyvQkYJ+IiEniHFgdnyrWlNLZKaXbSuf55N8g66isxzPJ6wUb15kZ66JsO3kOcEZK6caU0k3AGcDiUmfvn1I6L+Wj8pdqjPcVwFcnG2GQ5dvlMWtk6q660k35d9qmQzWNNnPUjUob2aqbNnOoOhwnO517VLU9rg8sUNrHmlL6fkppQ+mcsp0clhm0l7UctyeLtxyTXsYUbeSwTHK8Gmq9bXLytzPwm0r3tYxYg1Fuo3k8cEHp9dZye8AXKpeER2E9EvD9iLg4IpaWfnNTSqshV3Zgx9J/FOKF/E119WAwqmVbdXc8pcFYBzyAznGOSvwHk7/JnnCfiLgoIs6PiIkD3AOAmysNYR2xvrjUgZMiYuLHsycr22vb9B+qyLfT7gb8oNK7tvJtc8yaMK51t6m6Kf9O27Q2k9Q/gCdHxI8j4jsR8ZdDDWxj7drLqlGt+61tZtWolC10PveoGsUyfj0bt5NVU9WZYWl3nlQ1iuX6dGBNSumKDsNrK9uW49VQ622Tk79231COzKtPI2IO8A3gnSmlPwD/DvwF8DhgNfkyNozGejw1pfQE4LnAWyLiGZOMW3u8kZ91egHw9dJrlMu2qlM8vfYfmoh4NbAA+Eil90NSSguAVwIfj4i/oP5Y/wuYl1J6DHAm93wDN7JlWxwInJRSuqvSr5bybXPM2mhwh+WPevk2VTflP1LbaIr6dwn5dsXHAscA3xp2fBVTtZcjVa7Qts2sGqWy7dZIlXFEvBfYAJzQYZRezrEGpdN5UtVIlWsx1Z0xtZTtFMerjpO16Tet8m1y8nctsGulexfg+ppi2UhEbE6uFCeklL4JkFJak1K6K6X0Z+Bz3HP7Ye3rkVK6vvxdC5xcYlszcatK+bu2jF57vOSd/JKU0hoY7bJtcXc8ETEb2IZ8q0OnOGuNPyKeBbwXeEFK6Y6J/pX6cjWwgvzN1+/JtzdN/PboUGNNKd1QifFzwF7l/8nKdpc2/Ydtk2/j6yjfdsesFmNVd9VV+XfapkM3Vf1LKf0hpbS+/P9tYPOI2GHIYU7E0q69rBrFur9Rm1k1SmVbdDr3qBqZMi4v7Xg+8KryCMEmuqgzAzfJeVLVyJQr3H1cehFwYqdx6ijbDserodbbJid/FwJ7RH4D3hbkk6hTp5hm4Mr9yccBl6eUPlrpX73n/4XAxFuNTgUOjPzmtd2APcgvohhWvFtHxP0m/ic/wHxZiWviTUQHAadU4n1tZE8C1k1c6h6ijb4JGtWyLbG9NSLeWolnokxfAvygNBad4hxqHa/GGhGPB/6DnPitrYyzXURsWf7fAXgq8LOyHmeX9YKN68ww4q3WgReQ78MH+B7w7BL3duT6/b1SZ2+JiCeVffa1w4y3dO9Jfuj7vEq/oZfvJMessam72kQ35d9pmw5Vp/rXMs6DynhExN7kc58bhhfl3XF0ai+rRqGNbNXx6smolG1Fp3OPqrbH9SHFd7eIWAy8m9xO3tZhnG7qzMBNcp5UNWrH7WcBP08pXdtuYB1lO8nxarj1Ng3pDTej+CG/VeuX5LcTvbfueEpMTyNfxv0JcGn5PA/4MrCy9D8V2KkyzXvLOvyCPr5xsMt4H0Z+o9OPgZ9OlCP52Y+zgCvK3+1L/wA+XeJdCSwYcrxbkRumbSr9RqJsyY3rauBP5G94DgY+BbyiDL8P+babK8knyA+bKs5B1fEuYj0TWFOpw6eW/k8pZf3j8vfglrr0v2X9vg5sOcR4/7XU3x+Tk6RHVKZ9fYnpSuB1lf4LyA3FVWVeMax4yziHA0e2TDf08qXzMWsk666frrfrJuUPfIB8ojrpNh1ynJ3q398Bf1fGeWtl/z4feEpNsXZqL6ux1tpGtom5XZs5EmXb4TjZ6dxjAfD5yrRtj+tDjvVK8jNcE/V24u25Dwa+PVmdqSHWtudJ1VhL99CP2+3iLf2XTdTTyrh1l22n49VQ622UmUkaQRFxGvCilN+cNdLGKVYw3kEbt3glSWoCkz9JkiRJaoAmP/MnSZIkSY1h8idJkiRJDWDyJ0mSJEkNYPInSZIkSQ1g8qdNRMThETH035EZNxGRIuIlU485fspvN30/Im6NCN8KJUkaaRHxlYj41gDme21EvLPf85XqYvLXABGxrCQqn28z7MNl2GmV3v8G/PXwIhwdEbGqlEeKiD9GxG8i4uSI+Js2o+8E/FeX810REZ/qb7QD9S7y7+E8jryeIyEi7hcRH4yIn0XE7RGxppTtKyKiq+NZRCws23eHQccrqdki4r8i4swOwx5ZjkX7DjuufoqI2ZU286EtwwaSkA3Z44FjZzqTiLh/RHwoIi6vtF9nR8TLe2i/nlXKetuZxqPmMvlrjt8AL4+IrSd6RMRs4DXAr6sjppTWp5RuGHJ8o+QD5ITn4cCBwCrg5Ig4pjpSSum3KaU7hh/eUOwOXJxSuiKl9Nt2I0TEFsMMqDR255F/5PQj5B8/fRpwPPDPwEOGGU+/DLscJQ3V54FnRsS8NsMOBq4h/6jzvUECjhj2QiNis4iYNaj5p5R+l1K6bSbziIjtgQuA1wJHck/79WXgX8hfto4d268xNehfs/dT/wdYBpwGXAK8rtJ/f+BX5JPn0yr9DwcuazP9O4DrgJuALwJbVcZZAXyq3XJbxvl34GjgRuB3ZZ5bAp8GbiYnoq+pTDOP3KAsaJl3Al7SMs6BwDnA7cCPgMcAjwb+B7gVOBfYbYqyWgW8q03/pWUZi9rFULrfR27I7wB+C3ypUg6p5TMPmAUcV7bB7cAVwD8Am/VY9gEcWqa/A7gW+NfK8J2B5WXam4DTgT2mKINqrMsq6/sW4JulPP+t9H8GuVH7I7AG+BiwxUy2e4e4PlOWu0ubYfcB7lP+fzVwIXALsBb4OrBzS11pt35Ryv+qsj1WAq9uWc4TyfvRH8l17HllHgsr43RbHv9WyuJC4AtU9pUy3malXA6p+xjix4+f6X2A2cBq4F9a+m9ejg/vq/TbFfhaOU7fWI79f1EZfgRwKfAq4GrgD+V4vH1lnK8A32pZ1hHApS393gBcXo5TvwDeTvnt5zL8zdzTpvwO+C6VtqnNOibgKOAu4HFTxDPVsv9POf7eSm7P/gPYpmX6m4G/AX4KbAAeMbEs4P3l2H8LOfmeaBteX/pv3hLPicA3J9mG1wLvbFnXNwDfKDFeBbxiinpwLLAeeHCbYfcFtiz/HwRcVGJfU2LbqQzbnU3br8+XYZsB7yn1YqL9ekXLcp5S6s8fye3Y88s8nlYZZyHwv2Wc35LbqWr7dS7wKeCjpV6cB3ypzTaeRT5neXvd+6CfNvWx7gD8DGEj35NAvAX4f5X+p5ATlmVMnfytAz4HPBJ4djnwvqcyzgq6S/7+UOa/BzlhScB3yMnA7sAHyY3Ng8s08+g++fsF+WT8EcDZwGXl7yLgL8sB9b+mKKtVtE/+ZpEb4091iOHFZd32I1+BWgC8tQzbhpyAfgF4UPnMIjf+HwD+qqzDy0q5Htxj2f9r6ff6UoZPBt5chm0F/LLM5zGlbD5PTlK36lAGDwTOIDc6D6I0umV915IbvYcBu5ETy1uBz5b4nk9uMI6eyXZvE9NmpfyP7aK+v77Ug4cBe5c68MPKdnxRWf6jWtbvQ6UOLS7r9sqybvuV4XPIjd1/lvq0L/nE4+7kr4fyuIWcDD+ijPdk8gnMTpXxngPcCTyw7mOIHz9+pv8hX+m5ho2/2HsROVHatXTPIScRx1WO1V8kfzl43zLOEeXY8Q1gPvBU8l09n67Md8rkD3gTcD253dqN/EXwWuDvyvAnAn8CXgE8lHz7/yFMnfwdQE5Gv9cpnqmWXcY5hNxu70ZORi4DvlgZ/oZybPxvckKzZym/r5TyWV6O0YvLsj5aptua3J6+qDKv7cmJzn6TbL92yd9vyG3E7uQ7Ue6gzReTZZpZZbmf6aKuvAF4Lrn9eiL5C+2zK/N5aVn+w8nt1/3LsKPICfVzSrm9GrgNWFyG3x+4gXyl8VFlvMupJH/kLx9uJ3/R+kjgBWXbHFWJ79xSxh8u5f5I4OmlvsytjLdfKdftp1pnP8P/1B6AnyFs5HuSv+3Kjr1HOWjcQU5UljF18vcbYHal3+eAMyvdK+gu+Tuv0h3kk+lTK/02Jx/UWxO7bpK/N1aGT3yjVT3ILwHWT1FWq2iT/JVh5wPf7hDDIeTEYfMO025SPh3GO7KlXCcte3KD90cqDWfL/F5P/va2+q3qLHIj8LJJ4jiNckWsZX2Paen3IeBKNj6pWVLq1lbT3e5t4tmxLP/vp1H/H1Gm3aV0LyzdO1TG2Zq8bzy9ZdqPT2xz4I3kBPS+leGvZOPkr9vy+EmbOC8DDqt0nwic1Ov6+vHjZ7Q+5DY3Ac+u9Dsd+E6leynw85Zj9WzyF3svKt1HkL9cul9lnPcDP690d5P8XcemV4XeNXFcIn8ReSMwp8v1qyZ/e5ITgX3axTPVsjvM//nkRCZK9xvK8h7bMt5XyG1b9c6YJeXYPpFAf5aNz0veVmKaNcny2yV/H6wM36Ic4w/sMP2DyzRvm0bdeXSZ9kGl+1mle9vKOPcjnwc8uWXaT1HaWfKX/7+nXAUt/V7LxsnfUW3q4BvKvCeunp4L/KhNnJdTOXcif0GxvO59z0/7j8/8NUhK6SbgkDrIQgAAIABJREFUZHJC8P/bu/c42+q6/uOvt+IFvELoERE7mKSiKCIRXrKjZIpUaGrpzxRQf5T3zErQUsvMS961Ui4qGoqI+oPEVERPZiYJaIIiQoJwALkkIMdQQD6/P75rOJth9pw9Z/bM3jPr9Xw85jGz121/12evWZ/9Weu71joAWF9VF8w/102+U1U3DLy+mPaFfKG+NdCeoh1VOmNg2PW0Li+LWjatuwSDy+6G3SHJNluwbGhFSw0Z93Fa18PzkhyZ5GlJbrfZBSZ/lOTUJJcn2Qi8jFteuzZf7HeldZ8cds3Iw2hHAa9JsrF7j6tpBwJ+aXPtm8Ops14/gFbY3Tgw7Cu0ZHjfgWGL/dwzagOT7JHk+CQ/SHLNQJvnuyZwV9rn99mZOHWxej6b4nR/2kGRawfmO2XWckaNx2lztOFw4KBuHbajHRE/cp42S1oBquoc4Mu03EuSe9LOvAzehO1htH3E4L76KtoZm8F99flVdc3A6wXl4iQ70IqRI2ft6/5m4H0+2y33vO6GLc9OcscR1/VsWi+XNye52X57xPeeuanJyUku6vbhx9K6Rt5tYHHXcfOcP+O/6ubX5/0Hbd++c/f6cOAJXVugfSYfrKqfj7J+AwZz2nW0wmoc+WvPJCcM5K+ZHDNf/noQ7XvASbPi+n+5ef76VlX9dGC+Yflr8HvOV7pl32dg2OzvAdC25Znte3tal1zz15TaatIN0LJ7P+0av420Lp+jun7W6+LmNwy6kVvu4G4z4nLmW/bMl+iblp1kruXOXnbNM2zBBz26i8l/mdYX/haq6sIk9wP2oR2ZeyvwmiS/WlU/GbLM36edWfpTWrfQH9OOzj151qTzxWdzSeVWtD7+T59j3I82M+9cZq/LfAXx4PCFfu6zXU4rDh8wX+O6Gxp9DvgC7WZGlwHbA/9GK8CGmXnf32bWDZAG2jnfujLCNIPD59omPgy8KcmjaHeXuwL4/GbeT9LKcARweHdg50Da/veEgfG3oh0UeuYc8w7egG2xuXhm2v/LLb/8ty4eVT9Osjutl8RvAK8CXp/kV2rIDcBmeS2tB8TsvLPZ905yH1rPk3/s3vdHtEsj/omb78OvnVWkjKSqTktyBnBAks8CD6F1pVyoheSvH9Ly++by151o+euztG6blwNraL1FRslf+9HOYg66bmbxLG3+Ogr42yR70y5juJjVcyOjVcfir39Opu0MtqddGD0ul3PLRwI8hNaNcrHLZdayd1/kMrfE84C7AscNm6A7onYicGKSN9J2+I+kfYG/jtbdctCjgFOq6qZHQCRZ6Nm479C6m+xD69452+m06zauqKqrFrjsUd//95LcauBs16No6/vf43qTqroxyceAZyf566raMDg+ye27P+9P27ZfWVXndeN+d9biZpLh4OcxE8dfrKovDmnGWd37bz1w9m+vWdNscTyq6kdJPkk7evpQtuxotKTpdBzwbtqX+ufQbgg2WECcTrsO7rKq+vEi3udy2n5w0GDOvJjWC+Y+VXX0sIV0vU2+AHwhyWu75T6RdgB5XlV1SZK30brBD54lGuW9f4W2b375zD40yZM2954DHjJrH703bd9+3sA0h9OuN9+Rdj34uQtY/oJV1c+THEvLH39TVRcPjk+yNa1o35V2DeIhVXVhN+7BsxY3V/46sxt+76r61yHNOIt2x/fb1aa7lM+Vv/ZPkoHC+lG0+H1/M+t4RZLjadv23rT8deN882hy7PbZM90/9INpd70c52MKvgjsm+R3ktyv2/HvtNiFdjvwrwGvSPLAJI+g3X1qKd0p7SHnOyV5RJK30+5K+Z5hO9YkByZ5XpLdkuxM6753PZsKsvOBvZKsTbJ990yf7wF7JNk3yS5J/pIFPl+x6/7zTuANSQ5K8ktJ9kry/G6So2nJ9vgkv55k5ySPTvLWJLssLCxz+gdaN55/SHtm1X606xbfU4u8NfYcXkk7K3dKt64PTHLfJM+iHTG/Rzf+Z8CLktyna8/rZi3nB7SjmPsluVuSO3ZxfAvwliTP6Za7e9ct9+BuvqNpN2g4PMmuSX6jaxNsOiq62HgcTjvy/xDazR4krQJdLvsI7azYL3HLLnEfpp3lOj7Jr3X76l9P8vbubNiovgjsmeSAbj92KO3GITPtqK4NhyZ5aZevH9RN/wqAJPsneUm3D/xF2rXN29AKiFG9mXZN+k3PyB3lvWk5cyvgJV0Mnkm7Lm9Ut6V1K901yeOBvwXeO6u7/tHAvWjXWS5X18RDaGflTunWd9fu83k2LX/djfY94Trgxd26/xbtMRCDftD9HsxfV9PuKv327rvILyV5aJIXJHleN/2Had/5D+ty0+O6NsGm/PUe2g1+3pPk/mnPN/5b4J0jfl88nHZJ0YMwf001i78eqqprFnlkcS7vH/j5d1q30k+NadnP6X5/nXbL578Y03KHeTXt1tzn0q412Jl2wf18Cegq2jOb/o12FO4p3TwzRxvfQtupf4d2BPXetHU5lvaF4Ou0G9e8dQvaeyjtQu2/pCXnT9ASG13B8WjaUbuP0y7mPop2zd+VW/BeN1NVF9HuTPZQWvfS9wMfZVNRNDbdNat7026C8wpawvwqLe6vAy6oqstpyedJtFi/hnYzntltfg3tqPSltIQHLX6vpXXD/TbtjqdPoTtiXFUbaV9kHkh7zMPfddNDuyB+HPFYT7u5wPqqGtuZU0lT4QjavverVXWzQqrbv/wa7QDWJ2j76g/QbuYxcq+NqjqRtm97E20fuSMt1wxO815a4XMg8F+06xGfx6azY1fS7kZ6cteOl9EeE/UfC2jHNbT98u1nDZ/3vavqdNo++89o+/ADaY/gGdXJtALyX2lx/BwtRw624epu3LXM05tnnKo9O/lXad1XX0k70/tV2oHi1wIXV9WltPV9Ki2X/wW3zF8/oBWEb6blr3d0ow6lXTv5im7ez9Py4Excf0zLX7vTctObaHkQNuWvC2n561don80RtKLxL0dczS/Qvjt9oWunptTMnZMkSQuUZH/aQY67V9UVY1je1rSjwy+er0uWJGnLJTkJOLeqnr/ZiVepJE+hHYDevju4utjlbUPr2vuHVfWxxS5PS8dr/iRpREkOoJ1FvZDWteUdtGdHLqrw67oBr6EdYb+WdpZWkjRGaTfceTzwWNrD5XsjyUG0s6IbaM+JfBvtMRyLKvy6/HUP2jN8f0w7q6opZvEnSaNbQ+tyswPthj4n0rrZLNa9ad1zNtC6V123meklSQv3LVpX2lfM7nrbA/egdTG9B6175j+z6bq/xbgPrai8kJa/btjM9Jowu31KkiRJUg94wxdJkiRJ6gGLP0mSJEnqAYs/SZIkSeoBiz9JkiRJ6gGLP0mSJEnqAYs/SZIkSeoBiz9JkiRJ6gGLP0mSJEnqAYs/SZIkSeoBiz9JkiRJ6gGLP0mSJEnqAYs/SZIkSeoBiz9JkiRJ6gGLP0mSJEnqAYs/SZIkSeoBiz9JkiRJ6gGLP0mSJEnqAYs/SZIkSeoBiz9JkiRJ6gGLP0mSJEnqAYs/SZIkSeoBiz9JkiRJ6gGLP0mSJEnqga0m3YBx2n777Wvt2rWLWsZPfvIT7nCHO4ynQauQ8RnO2AxnbOZnfIabLzannXbaFVV1t2Vu0oo1jhy5Gvj/Nh7GcXyM5XgYx03my4+rqvhbu3Ytp5566qKWsX79etatWzeeBq1Cxmc4YzOcsZmf8Rluvtgk+cHytmZlG0eOXA38fxsP4zg+xnI8jOMm8+VHu31KkiRJUg9Y/EmSJElSD1j8SZIkSVIPWPxJkiRJUg9Y/EmSJElSD1j8SZIkSVIPWPxJkiRJUg9Y/EmSJElSD1j8SZIkSVIPWPxJkiRJUg9Y/EmSJElSD1j8SZIkSVIPbDXpBkybMy66mgMPOXHk6c9/435L2BpJkrRU1i4g3w/j9wBJK4ln/iRJkiSpByz+JEmSJKkHLP4kSZIkqQcs/iRJkiSpByz+JEmSJKkHLP4kSZIkqQcs/iRJkiSpByz+JEmSJKkHLP4kSZIkqQcs/iRJkiSpByz+JEmSJKkHLP4kSZIkqQcs/iRJkiSpByz+JEmSJKkHLP4kSZIkqQcs/iRJkiSpByz+JEmSJKkHLP4kSZIkqQcs/iRJkiSpByz+JEmSJKkHLP4kSZIkqQcs/iRJkiSpByz+JEmSJKkHLP4kSZIkqQcs/iRJkiSpByz+JEmSJKkHLP4kSZIkqQcs/iRJkiSpByz+JEmSJKkHLP4kSZIkqQcs/iRJkiSpByz+JEmSJKkHLP4kSZIkqQcs/iRJkiSpByz+JEmSJKkHLP4kSZIkqQcs/iRJkiSpByz+JEmSJKkHLP4kSZpiSV6W5NtJzkzy0SS3T7JzklOSnJPkY0luO+l2SpKmn8WfJElTKsmOwEuAPavqQcCtgacDbwLeXlW7AFcCz51cKyVJK4XFnyRJ020rYOskWwHbAJcAjwWO68YfBTxpQm2TJK0gWy3XGyXZCfgQcA/gRuCwqnpnku2AjwFrgfOB36uqK5MEeCfwROB/gQOr6vTlaq8kSZNWVRcleQtwAXAt8HngNOCqqrqhm2wDsONc8yc5GDgYYM2aNaxfv37J2zztNm7ceFMcXr7bDfNPPIK+xnQwjlocYzkexnE0y1b8ATcAL6+q05PcCTgtyUnAgcDJVfXGJIcAhwCvAPYFdul+fhX4x+63JEm9kGRbYH9gZ+Aq4OO0/DhbzTV/VR0GHAaw55571rp165amoSvI+vXrmYnDgYecuOjlnf/MdYtexko0GEctjrEcD+M4mmXr9llVl8ycuauqa4CzaEcq96d1WYGbd13ZH/hQNV8D7ppkh+VqryRJU+A3gPOq6vKquh74JPAIWk6cOYB7L+DiSTVQkrRyLOeZv5skWQs8FDgFWFNVl0ArEJPcvZtsR+DCgdlmurVcMmtZY+3SsmbrhXUD6dvpZU+pD2dshjM28zM+wxkbLgD2TrINrdvnPsCpwJeApwLHAAcAx0+shZKkFWPZi78kdwQ+AfxxVf24Xdo396RzDLtFt5Zxd2l599HH89YzRg9L37p7eEp9OGMznLGZn/EZru+xqapTkhwHnE67fOIbtJx3InBMkr/phh05uVZKklaKZS3+ktyGVvgdXVWf7AZfmmSH7qzfDsBl3fANwE4Ds9utRZLUO1X1GuA1swZ/H9hrAs2RJK1gy3bNX3f3ziOBs6rqbQOjTqB1WYGbd105AXh2mr2Bq2e6h0qSJEmSFmY5z/w9EngWcEaSb3bDXgm8ETg2yXNp1zY8rRv3GdpjHs6lPerhoGVsqyRJkiStKstW/FXVV5j7Oj5oF7DPnr6AFy5poyRJkiSpJ5at26ckSZIkaXIs/iRJkiSpByz+JEmSJKkHLP4kSZIkqQcs/iRJkiSpByz+JEmSJKkHLP4kSZIkqQcs/iRJkiSpByz+JEmSJKkHLP4kSZIkqQcs/iRJkiSpByz+JEmSJKkHLP4kSZIkqQcs/iRJkiSpByz+JEmSJKkHLP4kSZIkqQcs/iRJkiSpByz+JEmSJKkHLP4kSZIkqQcs/iRJkiSpByz+JEmSJKkHLP4kSZIkqQcs/iRJkiSpByz+JEmSJKkHLP4kSZIkqQcs/iRJkiSpByz+JEmSJKkHLP4kSZIkqQcs/iRJkiSpByz+JEmSJKkHLP4kSZIkqQcs/iRJkiSpByz+JEmSJKkHLP4kSZIkqQcs/iRJkiSpByz+JEmSJKkHLP4kSZIkqQcs/iRJkiSpByz+JEmSJKkHLP4kSZIkqQcs/iRJkiSpByz+JEmSJKkHLP4kSZIkqQcs/iRJkiSpByz+JEmSJKkHLP4kSZIkqQe2mnQDJEmSNB3WHnLiSNO9fLcbOHDItOe/cb9xNklaMUb9/5nPUv//eOZPkiRJknrA4k+SpCmW5K5Jjkvy3SRnJXl4ku2SnJTknO73tpNupyRp+ln8SZI03d4JfLaq7g88BDgLOAQ4uap2AU7uXkuSNK9lK/6SvD/JZUnOHBj22iQXJflm9/PEgXGHJjk3ydlJHr9c7ZQkaVokuTPwaOBIgKq6rqquAvYHjuomOwp40mRaKElaSZbzzN8HgSfMMfztVbV79/MZgCS7Ak8HHtjN8w9Jbr1sLZUkaTrcB7gc+ECSbyQ5IskdgDVVdQlA9/vuk2ykJGllWLa7fVbVl5OsHXHy/YFjqupnwHlJzgX2Av5jiZonSdI02grYA3hxVZ2S5J0soItnkoOBgwHWrFnD+vXrF9WYMy66elHzA+y2410WvYzF2Lhx401xePluNyx6eYuN6bQZNSZrth4+7WqLyVIb3Ca15aYhjithnzINj3p4UZJnA6cCL6+qK4Edga8NTLOhGyZJUp9sADZU1Snd6+Noxd+lSXaoqkuS7ABcNtfMVXUYcBjAnnvuWevWrVtUY4bd2n8hzn/m4tqwWOvXr2cmDqthfcZt1Ji8fLcbeOsZc3+NXG0xWWqD26S23DTEcSXsUyZd/P0j8Dqgut9vBZ4DZI5pa64FjPuo5nxHsuYy6SMMy20ajqpMK2MznLGZn/EZru+xqaofJrkwyf2q6mxgH+A73c8BwBu738dPsJmSpBViosVfVV0683eSw4FPdy83ADsNTHov4OIhyxjrUc13H3380CNZc+nb0a1pOKoyrYzNcMZmfsZnOGMDwIuBo5PcFvg+cBDtmv1jkzwXuAB42gTbJ0laISZa/M10WelePhmYuRPoCcBHkrwNuCewC/CfE2iiJEkTVVXfBPacY9Q+y90WSdLKtmzFX5KPAuuA7ZNsAF4DrEuyO61L5/nAHwJU1beTHEvr1nID8MKq+vlytVWSJEmSVpvlvNvnM+YYfOQ8078eeP3StUiSJEmS+mM5n/MnSZIkSZoQiz9JkiRJ6gGLP0mSJEnqAYs/SZIkSeoBiz9JkiRJ6gGLP0mSJEnqgZGLvySPTnKLR0Mk2SrJo8fbLEmSVj5zpyRpmizkzN+XgO3mGH6XbpwkSbo5c6ckaWospPgLUHMM/wXgJ+NpjiRJq4q5U5I0NW7RFWW2JCd0fxbwT0l+NjD61sCDgK8uQdskSVqRzJ2SpGm02eIP+J/ud4ArgWsHxl0HfAU4fMztkiRpJTN3SpKmzmaLv6o6CCDJ+cBbqspuKpIkzcPcKUmaRqOc+QOgqv5qKRsiSdJqY+6UJE2TkYu/JNsBrwf2Ae7OrJvFVNWdx9s0SZJWNnOnJGmajFz8AUcCDwUOAy5m7ruXSZKkTcydkqSpsZDibx/gcVV1ylI1RpKkVcbcKUmaGgt5zt9lwMalaogkSauQuVOSNDUWUvy9CvjrJHdcqsZIkrTKmDslSVNjId0+/wJYC1yW5AfA9YMjq+rBY2yXJEmrgblTkjQ1FlL8HbdkrZAkaXUyd0qSpobP+ZMkaYmYOyVJ02Qh1/xJkiRJklaohTzk/RrmeT6RD6qVJOnmzJ2SpGmykGv+XjTr9W1oD659CvD6sbVIkqTVw9wpSZoaC7nm76i5hic5nfYQ23ePq1GSJK0G5k5J0jQZxzV/XwJ+ewzLkSSpL8ydkqRlN47i7+nAFWNYjiRJfWHulCQtu4Xc8OUMbn7ReoA1wHbA88fcLkmSVjxzpyRpmizmIe83ApcD66vqu+NrkiRJq4a5U5I0NXzIuyRJS8TcKUmaJgs58wdAkscCu9K6sXy7qtaPu1GSJK0m5k5J0jRYyDV/OwKfAh4GXNwNvmeSU4EnV9XFQ2eWJKmHzJ2SpGmykLt9vgv4OXDfqtqpqnYCdumGvWspGidJ0gpn7pQkTY2FdPt8HLCuqs6bGVBV30/yEuDksbdMkqSVz9wpSZoa43jO341jWIYkSX1i7pQkLbuFFH8nA+9KstPMgCT3Bt6JRy8lSZqLuVOSNDUWUvy9BNgG+H6SHyQ5H/jvbthLlqBtkiStdOZOSdLUWMhz/i4E9kjyOOD+QIDvVNUXlqpxkiStZOZOSdI02eyZvyT7Jjk/yV0Aquqkqnp3Vb0L+Ho37jeXvKWSJK0Q5k5J0jQapdvni4C/q6qrZ4/ohr0JeOm4GyZJ0gpm7pQkTZ1Rir8HA/N1T/ki8JDxNEeSpFXB3ClJmjqjFH93Y/5bUhfwC+NpjiRJq4K5U5I0dUYp/jbQjmAO82DgovE0R5KkVcHcKUmaOqMUfycCr0uy9ewRSbYB/rqbRpIkNeZOSdLUGeVRD68Hngqck+TdwHe74Q+gXdAe4G+XpnmSJK1I5k5J0tTZbPFXVZcleQTwj7RElZlRwOeAF1TVpUvXREmSVhZzpyRpGo30kPeq+gHwxCTbAvelJbFzqurKpWycJEkrlblTkjRtRir+ZnQJ6+tL1BZJklYdc6ckaVqMcsMXSZIkSdIKZ/EnSdKUS3LrJN9I8unu9c5JTklyTpKPJbntpNsoSZp+y1b8JXl/ksuSnDkwbLskJ3XJ66TuugjSvCvJuUm+lWSP5WqnJElT6KXAWQOv3wS8vap2Aa4EnjuRVkmSVpTlPPP3QeAJs4YdApzcJa+Tu9cA+wK7dD8H0+6WJklS7yS5F7AfcET3OsBjgeO6SY4CnjSZ1kmSVpJlK/6q6svAj2YN3p+WtODmyWt/4EPVfA24a5IdlqelkiRNlXcAfw7c2L3+BeCqqrqhe70B2HESDZMkrSwLutvnElhTVZcAVNUlSe7eDd8RuHBgupnEdskyt0+SpIlJ8lvAZVV1WpJ1M4PnmLSGzH8wrQcNa9asYf369Ytqz8t3u2HzE23GYtuwWBs3brypDathfcZt1Jis2Xr4tKstJkttcJvUlpuGOK6Efcqki79hJpbY5tuZzWXSG9lym4Z/rGllbIYzNvMzPsMZGx4J/E6SJwK3B+5MOxN41yRbdWf/7gVcPNfMVXUYcBjAnnvuWevWrVtUYw485MRFzQ9w/jMX14bFWr9+PTNxWA3rM26jxuTlu93AW8+Y+2vkaovJUhvcJrXlpiGOK2GfMuni79IkO3Rn/XYALuuGbwB2Gphu2RLbu48+fujObC5928FNwz/WtDI2wxmb+Rmf4foem6o6FDgUoDvz96dV9cwkHweeChwDHAAcP7FGSpJWjEk/6uEEWtKCmyevE4Bnd3f93Bu4eqZ7qCRJ4hXAnyQ5l3YN4JETbo8kaQVYtjN/ST4KrAO2T7IBeA3wRuDYJM8FLgCe1k3+GeCJwLnA/wIHLVc7JUmaRlW1Hljf/f19YK9JtkeStPIsW/FXVc8YMmqfOaYt4IVL2yJJkiRJ6o9Jd/uUJEmSJC0Diz9JkiRJ6gGLP0mSJEnqAYs/SZIkSeoBiz9JkiRJ6gGLP0mSJEnqAYs/SZIkSeoBiz9JkiRJ6gGLP0mSJEnqAYs/SZIkSeoBiz9JkiRJ6gGLP0mSJEnqAYs/SZIkSeoBiz9JkiRJ6gGLP0mSJEnqAYs/SZIkSeoBiz9JkiRJ6gGLP0mSJEnqAYs/SZIkSeoBiz9JkiRJ6gGLP0mSJEnqAYs/SZIkSeoBiz9JkiRJ6gGLP0mSJEnqAYs/SZIkSeoBiz9JkiRJ6gGLP0mSJEnqAYs/SZIkSeoBiz9JkiRJ6gGLP0mSJEnqAYs/SZIkSeoBiz9JkiRJ6gGLP0mSJEnqAYs/SZIkSeoBiz9JkiRJ6gGLP0mSJEnqAYs/SZIkSeoBiz9JkiRJ6gGLP0mSJEnqAYs/SZIkSeoBiz9JkiRJ6gGLP0mSJEnqAYs/SZIkSeoBiz9JkiRJ6gGLP0mSJEnqAYs/SZIkSeoBiz9JkiRJ6gGLP0mSJEnqAYs/SZIkSeoBiz9JkiRJ6gGLP0mSplSSnZJ8KclZSb6d5KXd8O2SnJTknO73tpNuqyRp+k1F8Zfk/CRnJPlmklO7YSY2SVLf3QC8vKoeAOwNvDDJrsAhwMlVtQtwcvdakqR5TUXx13lMVe1eVXt2r01skqReq6pLqur07u9rgLOAHYH9gaO6yY4CnjSZFkqSVpJpKv5mM7FJktRJshZ4KHAKsKaqLoFWIAJ3n1zLJEkrRapq0m0gyXnAlUAB76uqw5JcVVV3HZjmyqq6RdfPJAcDBwOsWbPmYcccc8yi2nLZj67m0mtHn363He+yqPdbaTZu3Mgd73jHSTdjKhmb4YzN/IzPcPPF5jGPecxpA71FVrUkdwT+FXh9VX1yUjnyjIuuXtT8MPm8ObhNrYb1GbdRY7Jma4Z+X1ptMVlq5oDxmIY4Tss+Zb78OC3F3z2r6uIkdwdOAl4MnDBKYhu055571qmnnrqotrz76ON56xlbjTz9+W/cb1Hvt9KsX7+edevWTboZU8nYDGds5md8hpsvNkl6UfwluQ3waeBzVfW2btjZwLqquiTJDsD6qrrffMsZR45ce8iJi5ofJp83B7ep1bA+4zZqTF6+2w1Dvy+ttpgsNXPAeExDHKdlnzJffpyKbp9VdXH3+zLgU8BewKVdQqP7fdnkWihJ0vJLEuBI4KyZwq9zAnBA9/cBwPHL3TZJ0soz8eIvyR2S3Gnmb+A3gTMxsUmS9EjgWcBjuztifzPJE4E3Ao9Lcg7wuO61JEnzGr1/49JZA3yqHdxkK+AjVfXZJF8Hjk3yXOAC4GkTbKMkScuuqr4CZMjofZazLZKklW/ixV9VfR94yBzD/wcTmyRJkiSNxcS7fUqSJEmSlp7FnyRJkiT1gMWfJEmSJPWAxZ8kSZIk9YDFnyRJkiT1gMWfJEmSJPWAxZ8kSZIk9YDFnyRJkiT1gMWfJEmSJPWAxZ8kSZIk9YDFnyRJkiT1gMWfJEmSJPWAxZ8kSZIk9YDFnyRJkiT1gMWfJEmSJPWAxZ8kSZIk9YDFnyRJkiT1gMWfJEmSJPWAxZ8kSZIk9YDFnyRJkiT1gMWfJEmSJPWAxZ8kSZIk9YDFnyRJkiT1gMWfJEmSJPWAxZ8kSZIk9YDFnyRJkiT1gMWfJEmSJPWAxZ8kSZIk9YDFnyRJkiT1gMWfJEmSJPUXW9yeAAASTklEQVSAxZ8kSZIk9YDFnyRJkiT1gMWfJEmSJPWAxZ8kSZIk9YDFnyRJkiT1wFaTboBWn7WHnLig6c9/435L1BJJkiRJMzzzJ0mSJEk9YPEnSZIkST1g8SdJkiRJPWDxJ0mSJEk94A1fltlCbobijVAkSZIkjYtn/iRJkiSpByz+JEmSJKkHLP4kSZIkqQcs/iRJkiSpByz+JEmSJKkHLP4kSZIkqQcs/iRJkiSpByz+JEmSJKkHfMj7Ii3koe1LvWwfCi9pUhayv3JfJUnSZEz9mb8kT0hydpJzkxwy6fZIkjQNzI+SpIWa6uIvya2Bvwf2BXYFnpFk18m2SpKkyTI/SpK2xFQXf8BewLlV9f2qug44Bth/wm2SJGnSzI+SpAWb9uJvR+DCgdcbumGSJPWZ+VGStGDTfsOXzDGsbjZBcjBwcPdyY5KzF/me2wNXLHIZE5E3LcvbjD0+y9Tu5bBit51lYGzm16v4LPB/fr7Y/OKiG7NybTY/wpLkyEWbgn3+WP/fpmB9JuIl88SxrzFZhF7lgCW0KuI4pv+foflx2ou/DcBOA6/vBVw8OEFVHQYcNq43THJqVe05ruWtNsZnOGMznLGZn/EZztgMtdn8COPPkauB29R4GMfxMZbjYRxHM+3dPr8O7JJk5yS3BZ4OnDDhNkmSNGnmR0nSgk31mb+quiHJi4DPAbcG3l9V355wsyRJmijzoyRpS0x18QdQVZ8BPrOMb2n3mPkZn+GMzXDGZn7GZzhjM8QE8uNq4TY1HsZxfIzleBjHEaTqFteHS5IkSZJWmWm/5k+SJEmSNAYWfwOSPCHJ2UnOTXLIpNszbkl2SvKlJGcl+XaSl3bDt0tyUpJzut/bDpn/0C42Zyd5/MDwOePW3YjglG65H+tuSjDVktw6yTeSfLp7vdl1SPOubv2/lWSPgXEHdPOek+SAgeEPS3JGN8+7ksx12/apkuSuSY5L8t1uG3q4206T5GXd/9SZST6a5PZ93naSvD/JZUnOHBg257YyXwxmLXNB20qS23Wvz+3Gr13atdZyWcj2Nce8q3pftBDxO8FYdPv7/0zyX10c/6ob3tscsFjxu9jSqip/WtfXWwP/DdwHuC3wX8Cuk27XmNdxB2CP7u87Ad8DdgXeDBzSDT8EeNMc8+7axeR2wM5drG49X9yAY4Gnd3+/F3j+pGMwQoz+BPgI8OlR1wF4IvAvtOdu7Q2c0g3fDvh+93vb7u9tu3H/CTy8m+dfgH0nve4jxOYo4Hnd37cF7uq2U9AerH0esPVA2w/s87YDPBrYAzhzYNic28qwGMxa3oK3FeAFwHu7v58OfGzScfFn+bevWfOt6n3RFsTR7wTjiWOAO3Z/3wY4pduX9TYHjCGmfhdbwh/P/G2yF3BuVX2/qq4DjgH2n3CbxqqqLqmq07u/rwHOon1x3Z/2xZ7u95PmmH1/4Jiq+llVnQecS4vZnHHrjp48FjhuM8udGknuBewHHNG9HnUd9gc+VM3XgLsm2QF4PHBSVf2oqq4ETgKe0I27c1X9R7W9z4eGLHdqJLkz7QvXkQBVdV1VXYXbzoytgK2TbAVsA1xCj7edqvoy8KNZg4dtK8NiMGhLtpXB9zsO2Kc3R3VXuQVuX7OnWe37opH5nWA8un3Xxu7lbbqfosc5YDH8Lrb0LP422RG4cOD1hm7YqpTWBeqhtCNUa6rqEmjJALj7HLMMi8+w4b8AXFVVN8waPs3eAfw5cGP3etR1WGhsduz+nj18mt0HuBz4QNcV44gkd8Bth6q6CHgLcAGt6LsaOA23ndmGbSuj7Hu3ZFu5aZ5u/NXd9Fqder8vWgy/EyxO103xm8BltOLivzEHbCm/iy0xi79N5joivCpvhZrkjsAngD+uqh+POtscw2oLhk+lJL8FXFZVpw0OnmPSudZhVcemsxWtm9U/VtVDgZ/QugONYlXHp7seZn9a16d7AncA9p1j0r5uO5szyjptSTxWY6y0OP6/zcHvBItXVT+vqt2Be9HOfj5grsnmGGYcB/hdbHlY/G2yAdhp4PW9gIsn1JYlk+Q2tJ380VX1yW7wpTPdrLrfl80x67D4DBt+Be2U+1azhk+rRwK/k+R8WjeVx9KOPo2yDguNzYbu79nDp9kGYENVndK9Po5WDLrtwG8A51XV5VV1PfBJ4BG47cw2bFsZZd+7JdvKTfN04+/CLbsKavVwX7QF/E4wXt3lEOtp15yZAxbO72LLwOJvk68Du3R3FLot7QYBJ0y4TWPV9Zs+Ejirqt42MOoEYObuRwcAx3fT75XkQwPTPD3tDno7A7vQLpSdM25d/+kvAU+dvdxpVFWHVtW9qmotbR2+WFXPZMg6JHlykjd0w08Ant3daWpv4Oquq8zngN9Msm13dug3gc91465Jsnf3mTybKY4NQFX9ELgwyf26QfsA38FtB1p3z72TbNN9njOxcdu5uTm3FYbHgCTf7abZkm1l8P2eSvuf7sVR3Z5yX7RAficYjyR3S3LX7u+taQcEz8IcsGB+F1smNQV3nZmWH9qdgr5H66v9qkm3ZwnW71G0U9rfAr7Z/TyR1p/6ZOCc7vd23fRPBd43MP+ruticzcAdkYbFjXad2H/SLgT/OHC7ScdgxDitY9MdpuZcB+BPgUO7vwP8fbf+ZwB7DizrOd285wIHDQzfEzizm+c9QCa93iPEZXfg1G77+X+0u2a57bT2/hXw3e4z/TDtDni93XaAj9Kuf7yednT1ufNsK3PGANgeOHtLtxXg9t3rc7vx95l0XPyZyPbVq33RAuPod4LxxPHBwDe6OJ4JvHq+9aUHOWBMcV2H38WW5Cfdyku3kOTvgA9X1bcm3ZZpk+SfgJdV1eWTbss0ctsZzm1nNN21H/epqndNui1audwXjY+xHA9zwPgYyy1j8SdJkiRJPeA1f5IkSZLUAxZ/kiRJktQDFn+SJEmS1AMWf5IkSZLUAxZ/WjWSVJKnbn5KSPLBJJ8e8/uv69qw/TiXO+J7j319JiHJxiQHDrwe+TOVJI1Hn/OptNpZ/GmqJfnnJF8YMu4BXXJ4XDdoB+CfR1z0S4E/GFjW+iTvWVxr+WrXhv9ZzEKSHJzkS0mu6tZv7SLbNTYDCXnm53+SfDHJI5foLRfymUqShuhjPu3as3uSjyX5YZKfJjm3K1h3W8AyVsUBVgks/jT9jgAeO6QAei7wA9pDaKmqH1bVz0ZZaFVdXVVXjauR3TKv69qw2OenbAN8Hnjt4lu1ZB5IS8zrgMuBE5PcfdxvspDPVJI0r97l0+55oacAdwSeBTwAeDpwCfDGRTd0QpLcZtJt0Mpl8adpdyJwKXDQ4MBux/cs4P1VdWM37GbdVJK8OskPkvysO+L3oYFxNx3FS/JB4NeBFw6c0Vqb5DZJ3pXk4m4ZFyYZmixmd1NJcmDXjXGfJGcm+Ul3Rm/n+Va4qt5RVW8AvrKwUN2sLQ9JckmS13evX9u14YAk53ft+kCS2yZ5Qbdu/5PkbUlG2S9c1iXmM4C/Ae4C/OrA+/9Kks8nuSLJj5N8JcnDZ7Xxvt0R4p8mObtL0rPX46bPtPtMKsmew6bpXg/93CWpx3qVT5NsA3wA+FxV7VdVJ1XVeVV1alUdCjyzm+7WSY5Mcl6Sa5Ock+TPZ3JhktcCBwD7DazTum7cjkmOSXJl93Nikl1mtePQJJd27f9QktckOX9g/K2S/GUXk58lOSPJ/gPjZ3LfM9J62lwLvKDLrU+d9V6PS3J9kjXD4iJZ/GmqVdUNwFHAgbOKkt8Gtqft2G8hyVOAPwVeAOwC/Bbwn0Pe5qXAf3TL2qH7uRB4CfBk2lHCXYDfB85e4CrcDjgUeA7wcOCuwHsXuIwFSfJrwJeAN1fVqwZGrQX2p8XiKcDTgOOBXwF+E3ge8GLaOo/6Xtuw6YvE9QOj7gR8GPg1YC/gm8BnBhL5rYBP0fZBD6fF57W0eG2xBX7uktQbPcynj6et15xF5sDZylsBFwG/Rzsz+CrglWzKbW8BjgW+MLBOX+3y35eAn9IK3ofTzih+oRtHkqcDr+mWuQdwFvAns5ryUuDPgFcAu9Fy4yeT7D5rujcA/wDsCnwC+GgXi0HPAT5dVZcOD4v6bqtJN0AawZG0neJv0LpDQuui8vmqunDIPL9I2wl/vqquBy4ATp1rwqq6Osl1wP9W1Q9nhif5ReB7wL91XU8uoF2HsBBbAS+sqrO7Zb4F+ECSW80cYR2n7uzZR4AXVdXsM163Bg6qqquBM5N8lpawdqyq64Czkvw78BhaYpnP+UmgdVENLbYnz4ysqi/OateLaQXnE4B/on2WuwI7V9UF3TR/DPzbglf65kb+3CWph/qUT2fOwJ0130K7dXr1wKDzk+wBPAM4sqo2dmfbfjZrnf6Alv8OmumemuQPgctoBfKxtMLug1V1RDfbG5I8Bvjlgff7U+AtVfWR7vWrkzy6G/4HA9O9u6qOG3j/w4GvJdmxqi5Ksi3wJNqBXWkoz/xp6lXVOcCX6Y5wJbkn7YjeEfPM9nHg9sB5XXeOpyVZ6FmlDwK7A99L8vdJ9stoXSIH/WwmUXUuBm5DO2I5bg+jHTF87hyFH8AFXeE341Lge13hNzhslGv3HkM7ivkM4DzggC6BApDk7knel+R7Sa4GrumWe+9ukgcAF80Ufp1TgMUWxOP43CVpVepZPs2oC07yR0lOTXJ5ko3Ay9iUr4Z5GLAzcE3XpXMjcDWwLfBL3TT355ZnSU8ZeN87A/cE/n3WNF+hHSAddLOCu6pOBc6gdUkF+D/AlcC/bKbd6jmLP60URwBPSrIdcCDwI+CEYRN3RzDvB/wh8GPgrcBpSe4w6htW1em0rpKvpP2vHAWctMCEdcPsxXa/l+J/7zzgO8BzhiTm62e9riHDRmnbeVX1var6GPBXtC4qg+95FK076cuAR9CS/gbgtt34kZPygJnC8KZ5M+ui93F87pK0yvUln36v+/2A+Raa5PeBd9AK1MfT8tU/sClfDXMr2iUNu8/6+WXgfXO0cz5zTTN72E/mmOYINnVPfQ7tLOPPR3g/9ZjFn1aK42j96v+AtoP70OCZprlU1U+r6sSqehmtEHkgMOyRBNfRukXOXsY1VfXxqno+sB/wWOC+W74aS+pHwD60o4ifWsYzXh+mHX194cCwR9G6qJxYVd+mnfnbYWD8d4Adk+w0MGwv5t8nXd79HlzO7GsiFvq5S1Lf9CWffh64AjhkrpFJZs4YPgo4pareU1WnV9W5bDpzN2OudTqd1v4rqurcWT8/6qb5Li23DbrpdVX9mHYG81GzpnkULU9uzj/RcumLaL1x5rxuUxrkNX9aEarq2iQfod0UZFvadQtDpT0ofCta94qNtIvLrwfOGTLL+cBeabfA3kgrpP6Ydp3DN7t5/w/tqOeGRazKZiW5B3APNl0TsGuXpC4YSChzqqorkuwDfJF2Nu53l/pRCVV1Y5J3AH+Z5H1V9RPaEdc/SHIKcAfgzbTkOeMLtKT4oSQvA7YG3s4tj+wOvs+1Sb4GvCLJf9PuMPqGwWm24HOXpF7pSz6tqp8keR7w8SQn0s7unQNsR7v5zB60IvR7tJvg7AucS7spza/TulAOrtO+Se5He/bg1cDRtOvyjk/yatp1jDvRbqz23q6L7Ttp1yV+nXZN+5Npd8YeXPbfAX+d5BzgNFpR/mu0bqWbW8erk3ycdjb2y917SvPyzJ9WkiNoieqrVTXvBdzAVbSL2P8NOJN2s5Hfrarzhkz/Flpx8h3aGaZ7085W/Rmtv/7ptLNM+1bV/y5yPTbnj4Bv0BILtNtzfwP4nVFmrqoraEdUdwI+sUxnAN9P+3Lw0u71c2jPVToNOKYbf/5AG2+kJcFb0b5QfIj2yIjNFaozdzb7Oq1bzV/MGr/Qz12S+qgX+bSqjqfdhfN/aWfJzqZdw7gT8OfdZO+j3ZzlI7TcspZWTA06nHbjmFNp6/TIru2PBr7fLfO7tO6s29IVd1V1DPA62h1HvwE8iHaH0p8OLPtdtALwzbT4Phl4SlV9c8TVPJLWRXXeIl6akUU+P1OSJEnSCJJ8Ctiqqn57TMv7fVoBe89lODitVcBun5IkSdKYdc/7ez7wWdplDU+hdQt9ypiWvZZ2E53DLfw0Krt9SpIkSeNXwL60x2t8g3a95LOq6lNjWPafA/9Fu6bydWNYnnrCbp+SJEmS1AOe+ZMkSZKkHrD4kyRJkqQesPiTJEmSpB6w+JMkSZKkHrD4kyRJkqQesPiTJEmSpB74/9vg0OW1027dAAAAAElFTkSuQmCC\n",
      "text/plain": [
       "<Figure size 1080x864 with 4 Axes>"
      ]
     },
     "metadata": {
      "needs_background": "light"
     },
     "output_type": "display_data"
    }
   ],
   "source": [
    "fig, ax = plt.subplots(2, 2, figsize=(15,12))\n",
    "ax[0,0].hist(\"min_dist\", bins=30, data=possible_df)\n",
    "ax[0,0].xaxis.set_major_formatter(FuncFormatter(lambda x, p: format(int(x), ',')))\n",
    "ax[0,0].set_xlabel(\"Minumum Distance from Category\", fontsize=14)\n",
    "ax[0,1].hist(\"num_nearby\", bins=30, data=possible_df)\n",
    "ax[0,1].set_xlabel(\"Venues Nearby in Category\", fontsize=14)\n",
    "ax[1,0].hist(\"RadiusVisits\", bins=30, data=possible_df)\n",
    "ax[1,0].set_xlabel(\"Visits in 1 km Radius\", fontsize=14)\n",
    "ax[1,1].hist(\"CatVisits\", bins=20, data=possible_df)\n",
    "ax[1,1].set_xlabel(\"Visits in Category\", fontsize=14)\n",
    "for i in range(2):\n",
    "    for j in range(2):\n",
    "        ax[i,j].set_ylabel(\"Count\", fontsize=14)\n",
    "        ax[i,j].grid(b=True)\n",
    "        if (i,j) != (0,1):\n",
    "            ax[i,j].xaxis.set_major_formatter(FuncFormatter(lambda x, p: format(int(x), ',')))           \n",
    "fig.suptitle(\"Distribution of evaluated metrics for all considered points\", y=0.95, fontsize=16)\n",
    "plt.show()"
   ]
  },
  {
   "cell_type": "markdown",
   "metadata": {},
   "source": [
    "A series of subplots was then used to further examine the distributions by category, shown in the figure below. These distributions are shown as boxplots for minimum distance from category, venues nearby, and visits in a 1 km radius. The outliers are excluded for this visualization. Because there are only 5 categories chosen, the visits by category is discrete and is shown again as a bar plot. American restaurants have the narrowest distribution for minimum distance with the lowest values for quartiles and median. This category also has the highest values for quartiles and median and the widest range for nearby venues. This indicates that American restaurants are widespread and numerous. \n",
    "\n",
    "Ice cream shops have the greatest range for minimum distance and the highest median and third quartile for number of venues nearby. These venues also appear to be nearby to a large number of pairs, while their distance from the pairs varies widely. Steakhouses appear to be the least common in nearby venues, with the by far the lowest third quartile. While the medians and ranges differ slightly, the number of visits within a 1 km radius seem to be fairly similarly distributed across all five categories. No single category is superior across all four metrics based on distribution."
   ]
  },
  {
   "cell_type": "code",
   "execution_count": 38,
   "metadata": {},
   "outputs": [
    {
     "data": {
      "image/png": "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\n",
      "text/plain": [
       "<Figure size 1080x864 with 4 Axes>"
      ]
     },
     "metadata": {
      "needs_background": "light"
     },
     "output_type": "display_data"
    }
   ],
   "source": [
    "colors = [\"#173F5F\", \"#20639B\", \"#3CAEA3\", \"#F6D55C\", \"#ED553B\"]\n",
    "sns.set_palette(sns.color_palette(colors))\n",
    "fig, ax = plt.subplots(2, 2, figsize=(15,12))\n",
    "fig.subplots_adjust(hspace=.6,wspace=.3)\n",
    "sns.boxplot(x=\"category\", y=\"min_dist\", data=possible_df, showfliers=False, ax=ax[0,0])\n",
    "ax[0,0].set_ylabel(\"Minumum Distance from Category\", fontsize=14)\n",
    "sns.boxplot(x=\"category\", y=\"num_nearby\", data=possible_df, showfliers=False, ax=ax[0,1])\n",
    "ax[0,1].set_ylabel(\"Venues Nearby in Category\", fontsize=14)\n",
    "sns.boxplot(x=\"category\", y=\"RadiusVisits\", data=possible_df, showfliers=False, ax=ax[1,0])\n",
    "ax[1,0].set_ylabel(\"Visits in 1 km Radius\", fontsize=14)\n",
    "ax[1,1].bar(x=\"category\", height=\"CatVisits\", \n",
    "            data=possible_df.groupby(\"category\").agg(\"first\").reset_index(), color=colors)\n",
    "ax[1,1].set_ylabel(\"Visits in Category\", fontsize=14)\n",
    "for i in range(2):\n",
    "    for j in range(2):\n",
    "        ax[i,j].set_xlabel(\"Category\", fontsize=14)\n",
    "        ax[i,j].set_xticklabels(possible_df[\"category\"].unique(), rotation=45, ha=\"right\")\n",
    "        ax[i,j].grid(b=True)\n",
    "        if (i,j) != (0,1):\n",
    "            ax[i,j].yaxis.set_major_formatter(FuncFormatter(lambda x, p: format(int(x), ',')))\n",
    "fig.suptitle(\"Distribution of evaluated metrics for all considered categories\", y=0.95, fontsize=16)\n",
    "plt.show()"
   ]
  },
  {
   "cell_type": "markdown",
   "metadata": {},
   "source": [
    "### Final location-categories choice"
   ]
  },
  {
   "cell_type": "markdown",
   "metadata": {},
   "source": [
    "A function was created to determine which category-point pairs were most ideal. This is accomplished by filtering out points deemed inherently inferior. To be inherently inferior, a pair has to be inferior to at least one other point in one metric and either equal to or inferior to that point in all other metrics. This function takes a dataframe, an index of the point considered, and a dictionary of the column index of considered metrics and whether the superior value of this metric is \"high\" or \"low\". It then returns whether the point is ideal."
   ]
  },
  {
   "cell_type": "code",
   "execution_count": 39,
   "metadata": {},
   "outputs": [],
   "source": [
    "def FindIdeal(df, start, index_dir):\n",
    "    \"\"\"\n",
    "    Determines whether a point is ideal based on criteria given \n",
    "    by their column index and direction (index_dir). Takes index_dir\n",
    "    in form {index:dir} where dir is 'low' indicating low values are ideal\n",
    "    or 'high' indicating high values are ideal. Also takes df and start row\n",
    "    index that is studied.\n",
    "    \"\"\"\n",
    "    all_s = list()\n",
    "    for i in range(df.shape[0]):\n",
    "        s = 0\n",
    "        for k,v in index_dir.items():\n",
    "            best1 = df.iloc[start,k]\n",
    "            best2 = df.iloc[i, k]\n",
    "            if best1 == best2:\n",
    "                continue\n",
    "            if v == \"high\":\n",
    "                if best1 > best2:\n",
    "                    s = 0\n",
    "                    break\n",
    "                else:\n",
    "                    s -= 1\n",
    "            elif v == \"low\":\n",
    "                if best1 < best2:\n",
    "                    s = 0\n",
    "                    break\n",
    "                else:\n",
    "                    s -= 1\n",
    "        all_s.append(s)\n",
    "    return sum(all_s) == 0"
   ]
  },
  {
   "cell_type": "markdown",
   "metadata": {},
   "source": [
    "The address of each ideal pair was also required in order to better present possible locations to developers. These addresses were determined using the Google Maps Geocoding API (Google, 2020). This API has a query that determines the address of a point based on its coordinates. A function was created to streamline this process."
   ]
  },
  {
   "cell_type": "code",
   "execution_count": 9,
   "metadata": {},
   "outputs": [],
   "source": [
    "GOOGLE_API_KEY = os.getenv('GOOGLE_KEY')\n",
    "\n",
    "def FindAddress(lat, long):\n",
    "    \"\"\"\n",
    "    Relies on Google Maps Geocoding API to match coordinates of a point with the point's address.\n",
    "    \"\"\"\n",
    "    geo_url = \"https://maps.googleapis.com/maps/api/geocode/json?latlng={},{}&key={}\"\\\n",
    "        .format(lat, long, GOOGLE_API_KEY)\n",
    "    geo_json = requests.get(geo_url).json()\n",
    "    return geo_json[\"results\"][0][\"formatted_address\"]"
   ]
  },
  {
   "cell_type": "markdown",
   "metadata": {},
   "source": [
    "The index of the column of each metric and the desired direction are first included in a dictionary, as is required by the **FindIdeal** function. This function is then used to find ideal locations. The **FindAddress** function is then used to determine the address of each of these ideal pairs."
   ]
  },
  {
   "cell_type": "code",
   "execution_count": 42,
   "metadata": {},
   "outputs": [],
   "source": [
    "index_dir = {3: \"high\", 4: \"low\", 5: \"high\", 6: \"high\"}\n",
    "\n",
    "best_options = possible_df[[FindIdeal(possible_df, i, index_dir) for i in range(possible_df.shape[0])]].copy()\n",
    "best_options.loc[:, \"Address\"] = best_options.apply(lambda x: FindAddress(x[0], x[1]), axis=1)\n"
   ]
  },
  {
   "cell_type": "markdown",
   "metadata": {},
   "source": [
    "## Results"
   ]
  },
  {
   "cell_type": "markdown",
   "metadata": {},
   "source": [
    "Finally, the best location category pairs were obtained. As seen below the pairs chosen span three categories: ice cream shop, liquor store, and steakhouse. All but the steakhouse location on Southland Drive and the steakhouse location on Beaumont Centre Circle have no venues in the same category located within 1 km. All pairs had a high number of visits by category and all but the steakhouse on Virginia Avenue had more than 5,000 visits within a 1 km radius. Both ice cream shop locations are located in close proximity to each other, as are the liquor stores locations to each other. "
   ]
  },
  {
   "cell_type": "code",
   "execution_count": 43,
   "metadata": {},
   "outputs": [
    {
     "data": {
      "text/html": [
       "<div>\n",
       "<style scoped>\n",
       "    .dataframe tbody tr th:only-of-type {\n",
       "        vertical-align: middle;\n",
       "    }\n",
       "\n",
       "    .dataframe tbody tr th {\n",
       "        vertical-align: top;\n",
       "    }\n",
       "\n",
       "    .dataframe thead th {\n",
       "        text-align: right;\n",
       "    }\n",
       "</style>\n",
       "<table border=\"1\" class=\"dataframe\">\n",
       "  <thead>\n",
       "    <tr style=\"text-align: right;\">\n",
       "      <th></th>\n",
       "      <th>Latitude</th>\n",
       "      <th>Longitude</th>\n",
       "      <th>category</th>\n",
       "      <th>min_dist</th>\n",
       "      <th>num_nearby</th>\n",
       "      <th>RadiusVisits</th>\n",
       "      <th>CatVisits</th>\n",
       "      <th>Address</th>\n",
       "    </tr>\n",
       "  </thead>\n",
       "  <tbody>\n",
       "    <tr>\n",
       "      <td>132</td>\n",
       "      <td>38.014208</td>\n",
       "      <td>-84.520193</td>\n",
       "      <td>Ice Cream Shop</td>\n",
       "      <td>2000.0</td>\n",
       "      <td>0</td>\n",
       "      <td>8600.0</td>\n",
       "      <td>19000.0</td>\n",
       "      <td>230 Plaza Dr UNIT D, Lexington, KY 40503, USA</td>\n",
       "    </tr>\n",
       "    <tr>\n",
       "      <td>133</td>\n",
       "      <td>38.014280</td>\n",
       "      <td>-84.523608</td>\n",
       "      <td>Ice Cream Shop</td>\n",
       "      <td>2000.0</td>\n",
       "      <td>0</td>\n",
       "      <td>8600.0</td>\n",
       "      <td>19000.0</td>\n",
       "      <td>278 Southland Dr, Lexington, KY 40503, USA</td>\n",
       "    </tr>\n",
       "    <tr>\n",
       "      <td>187</td>\n",
       "      <td>38.002625</td>\n",
       "      <td>-84.573761</td>\n",
       "      <td>Liquor Store</td>\n",
       "      <td>2000.0</td>\n",
       "      <td>0</td>\n",
       "      <td>97000.0</td>\n",
       "      <td>12000.0</td>\n",
       "      <td>3801 Harrodsburg Rd, Lexington, KY 40513, USA</td>\n",
       "    </tr>\n",
       "    <tr>\n",
       "      <td>190</td>\n",
       "      <td>38.005326</td>\n",
       "      <td>-84.573672</td>\n",
       "      <td>Liquor Store</td>\n",
       "      <td>2000.0</td>\n",
       "      <td>0</td>\n",
       "      <td>97000.0</td>\n",
       "      <td>12000.0</td>\n",
       "      <td>3765 Palomar Centre Dr, Lexington, KY 40513, USA</td>\n",
       "    </tr>\n",
       "    <tr>\n",
       "      <td>251</td>\n",
       "      <td>38.019755</td>\n",
       "      <td>-84.526841</td>\n",
       "      <td>Steakhouse</td>\n",
       "      <td>1123.0</td>\n",
       "      <td>1</td>\n",
       "      <td>6800.0</td>\n",
       "      <td>46000.0</td>\n",
       "      <td>455 Southland Dr, Lexington, KY 40503, USA</td>\n",
       "    </tr>\n",
       "    <tr>\n",
       "      <td>252</td>\n",
       "      <td>38.021252</td>\n",
       "      <td>-84.559478</td>\n",
       "      <td>Steakhouse</td>\n",
       "      <td>839.0</td>\n",
       "      <td>1</td>\n",
       "      <td>24000.0</td>\n",
       "      <td>46000.0</td>\n",
       "      <td>3191 Beaumont Centre Cir, Lexington, KY 40513,...</td>\n",
       "    </tr>\n",
       "    <tr>\n",
       "      <td>258</td>\n",
       "      <td>38.035280</td>\n",
       "      <td>-84.508228</td>\n",
       "      <td>Steakhouse</td>\n",
       "      <td>2000.0</td>\n",
       "      <td>0</td>\n",
       "      <td>320.0</td>\n",
       "      <td>46000.0</td>\n",
       "      <td>Virginia Avenue, Lexington, KY 40508, USA</td>\n",
       "    </tr>\n",
       "  </tbody>\n",
       "</table>\n",
       "</div>"
      ],
      "text/plain": [
       "      Latitude  Longitude        category  min_dist  num_nearby  RadiusVisits  \\\n",
       "132  38.014208 -84.520193  Ice Cream Shop    2000.0           0        8600.0   \n",
       "133  38.014280 -84.523608  Ice Cream Shop    2000.0           0        8600.0   \n",
       "187  38.002625 -84.573761    Liquor Store    2000.0           0       97000.0   \n",
       "190  38.005326 -84.573672    Liquor Store    2000.0           0       97000.0   \n",
       "251  38.019755 -84.526841      Steakhouse    1123.0           1        6800.0   \n",
       "252  38.021252 -84.559478      Steakhouse     839.0           1       24000.0   \n",
       "258  38.035280 -84.508228      Steakhouse    2000.0           0         320.0   \n",
       "\n",
       "     CatVisits                                            Address  \n",
       "132    19000.0      230 Plaza Dr UNIT D, Lexington, KY 40503, USA  \n",
       "133    19000.0         278 Southland Dr, Lexington, KY 40503, USA  \n",
       "187    12000.0      3801 Harrodsburg Rd, Lexington, KY 40513, USA  \n",
       "190    12000.0   3765 Palomar Centre Dr, Lexington, KY 40513, USA  \n",
       "251    46000.0         455 Southland Dr, Lexington, KY 40503, USA  \n",
       "252    46000.0  3191 Beaumont Centre Cir, Lexington, KY 40513,...  \n",
       "258    46000.0          Virginia Avenue, Lexington, KY 40508, USA  "
      ]
     },
     "execution_count": 43,
     "metadata": {},
     "output_type": "execute_result"
    }
   ],
   "source": [
    "best_options"
   ]
  },
  {
   "cell_type": "markdown",
   "metadata": {},
   "source": [
    "Shown in the figure below are the final chosen locations for location category pairs again shown overlaid with the heatmap of existing visited Keenland venues. Most of the pairs are closely aligned with clusters of visited locations. However, the steakhouse venue on Virginia Avenue, shown as the only singular marker, does not seem to be aligned with visited areas, although it is not too far from several clusters both downtown and along Harrodsburg Road. This is reflected in the best_options dataframe, as this location has significantly fewer visits in a 1 km radius. Although there is no venue nearby, the lack of nearby visits may indicate that this pair is less favorable than other locations. As previously described, many of the other pairs are clustered in similar areas that align with clusters of visited venues."
   ]
  },
  {
   "cell_type": "code",
   "execution_count": 44,
   "metadata": {},
   "outputs": [
    {
     "data": {
      "text/html": [
       "<div style=\"width:100%;\"><div style=\"position:relative;width:100%;height:0;padding-bottom:60%;\"><span style=\"color:#565656\">Make this Notebook Trusted to load map: File -> Trust Notebook</span><iframe src=\"about:blank\" style=\"position:absolute;width:100%;height:100%;left:0;top:0;border:none !important;\" data-html=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 onload=\"this.contentDocument.open();this.contentDocument.write(atob(this.getAttribute('data-html')));this.contentDocument.close();\" allowfullscreen webkitallowfullscreen mozallowfullscreen></iframe></div></div>"
      ],
      "text/plain": [
       "<folium.folium.Map at 0x7fcb19344f50>"
      ]
     },
     "execution_count": 44,
     "metadata": {},
     "output_type": "execute_result"
    }
   ],
   "source": [
    "lex_urban_arr = lex_urban[[\"Latitude\", \"Longitude\"]].values\n",
    "\n",
    "lex_lat = 38.0406\n",
    "lex_long = -84.5037\n",
    "\n",
    "lex_map = folium.Map(location=[lex_lat, lex_long], zoom_start=12)\n",
    "lex_cats = plugins.MarkerCluster().add_to(lex_map)\n",
    "\n",
    "\n",
    "for lat, lng, label, in zip(best_options.Latitude, best_options.Longitude, \n",
    "                            best_options.category):\n",
    "    folium.Marker(\n",
    "        location=[lat, lng],\n",
    "        icon=None,\n",
    "        popup=label,\n",
    "    ).add_to(lex_cats) \n",
    "\n",
    "lex_map.add_child(plugins.HeatMap(lex_urban_arr, radius=15))\n",
    "    \n",
    "lex_map"
   ]
  },
  {
   "cell_type": "markdown",
   "metadata": {},
   "source": [
    "## Discussion"
   ]
  },
  {
   "cell_type": "markdown",
   "metadata": {},
   "source": [
    "The impact of Keeneland on Lexington’s economy is vast and affects numerous areas based on the analysis of next venues. However, the number of visits is highly concentrated in a few areas, which impacts the relative favorability of location choice in developing a new venue. Additionally, the number of visits is heavily dominated by a few categories. These categories vary widely in their distance from studied pairs and number of venues within 1 km of the studied pairs. However, the majority of most ideal locations did not have any nearby venues in their categories. \n",
    "\n",
    "While there are relatively few locations category pairs that are not inherently inferior based on the metrics studies, these pairs all have varying strengths and weaknesses. The decision on which venue to develop will depend on how the developer weighs the importance of each metric and what type of venue the developer plans to open. If catering more to the Keeneland crowd specifically is deemed more important, the number of visits within 1 km and the number of visits within each category would be most relevant. Based on number of visits in the area, opening a liquor store at either of the two nearby locations would be preferable. Alternatively, if the developer is concerned primarily with opening a venue that is proven popular among visitors to Keeneland, opening a steakhouse would be most ideal.\n",
    "\n",
    "While developers looking to attract visitors from Keeneland must consider popularity of the category and area among Keeneland visitors, they must also consider how heavily concentrated that location already is with venues of the category. Thus, if a developer is more concerned with how feasible a venue is based on the number of venues of that category nearby and not frequented by Keeneland goers, the number of venues in that category within 1 km and the minimum distance to a venue in that category would be more important. Based on these metrics, all venues except for the steakhouse on Southland Drive and on Beaumont Centre Circle would be ideal as no venues in that category are within 1 km."
   ]
  },
  {
   "cell_type": "markdown",
   "metadata": {},
   "source": [
    "## Conclusion"
   ]
  },
  {
   "cell_type": "markdown",
   "metadata": {},
   "source": [
    "The focus of this project was determining an ideal location and category for placement of a venue catering to visitors from Keeneland. To determine this location, the number of visitors from Keeneland to various venues in Lexington was first determined using the Foursquare API next venues query tool and a weighing technique. The resulting weights and results were then grouped and clustered to determine ideal locations for venue placement. Locations were generated at 300 m intervals up to 1.5 km away from the cluster center. \n",
    "\n",
    "The distance from each visited venue to each location was measured, and the categories of venues within 1 km were determined. In addition, the categories of visited venues were grouped and ordered based on number of visitors. The top categories were chosen and the top categories of visited venue not located within 1 km of each location were found. \n",
    "\n",
    "After the top categories using visited venues that were not located near each point were found, the study was broadened to include all venues within 1 km. The Foursquare API nearby venues query tool was used to find all such venues nearby. Then, these venues were grouped by category, and the minimum distance of each location to the category and the total number of venues of that category roughly within 1 km were calculated.\n",
    "\n",
    "Based on the number of visits within 1 km, number of visits in the category, minimum distance to a venue in the category, and the number of venues of the category roughly within 1 km, the final location category pairs were determined. These pairs were found by filtering out pairs that were inherently inferior to other pairs using these four metrics. The pairs are shown in the best_options dataframe. These pairs each have varying strengths and weaknesses that must be weighed by the developer to determine final placement for a new venue. The focus of the venue can be used as the basis for deciding a final venue location. \n",
    "\n",
    "In addition to these metrics, additional metrics not included in this study can be used as the basis for deciding upon a final location. These metrics include the demographics of the studied neighborhood, the number of visits in the area for all visitors, not just those from Keeneland, and the availability of each location based on which businesses are already there and the willingness of the business owner to sell. However, this study focused solely on the impact from Keeneland, and as such provided developers with a number of venues with which to capitalize on the extensive impact of the racetrack on the local economy."
   ]
  },
  {
   "cell_type": "markdown",
   "metadata": {},
   "source": [
    "## References"
   ]
  },
  {
   "cell_type": "markdown",
   "metadata": {},
   "source": [
    "Bollinger, C. R. (2015). A Measure of the Economic Impact of Keeneland Racing and Sales on Lexington-Fayette County. Lexington: University of Kentucky.\n",
    "\n",
    "Breeders' Cup. (2015, November 17). Press Releases. Retrieved from breederscup.com: https://www.breederscup.com/media-center/press-releases/2015-11-17\n",
    "\n",
    "Foursquare. (2020). Documentation, Places API. Retrieved from developer.foursquare.com: https://developer.foursquare.com/docs/places-api/\n",
    "\n",
    "Google. (2020, June 5). Geocoding API. Retrieved from developers.google.com: https://developers.google.com/maps/documentation/geocoding/start?utm_source=google&utm_medium=cpc&utm_campaign=FY18-Q2-global-demandgen-paidsearchonnetworkhouseads-cs-maps_contactsal_saf&utm_content=text-ad-none-none-DEV_c-CRE_433476780160-ADGP_Hybrid+%7C\n",
    "\n",
    "Keeneland. (2019, April 26). Keeneland Closes 2019 Spring Meet With Strong Attendance And Wagering Results. Retrieved from keeneland.com: https://www.keeneland.com/media/news/keeneland-closes-2019-spring-meet-strong-attendance-and-wagering-results\n",
    "\n",
    "Keeneland. (2019, October 26). Strong Attendance And Community Events Highlight Keeneland Fall Meet. Retrieved from keeneland.com: https://keeneland.com/media/news/strong-attendance-and-community-events-highlight-keeneland-fall-meet\n",
    "\n",
    "LFUCG. (2020, January 29). Zoning. Retrieved from data.lexingtonky.gov: https://data.lexingtonky.gov/dataset/zoning\n",
    "\n",
    "LFUCG Planning Office. (2020). Zoning Ordinance Article 8: Schedule of Zones. Lexington, KY: LFUCG.\n",
    "\n",
    "Staff, H. L. (2019, June 26). Record purses, 10 Breeders’ Cup berths await Keeneland Fall Meet competitors. Lexington Herald Leader.\n",
    "\n",
    "US Census Bureau. (2019, July 1). QuickFacts Lexington-Fayette, Kentucky. Retrieved from census.gov: https://www.census.gov/quickfacts/lexingtonfayettekentuck\n",
    "\n",
    "US Census Bureau. (2019, June 20). TIGER/Line Shapefile, 2017, state, Kentucky, Current Block Group State-based. Retrieved from Data.gov: https://catalog.data.gov/dataset/tiger-line-shapefile-2017-state-kentucky-current-block-group-state-based
   ]
  }
 ],
 "metadata": {
  "kernelspec": {
   "display_name": "Python 3",
   "language": "python",
   "name": "python3"
  },
  "language_info": {
   "codemirror_mode": {
    "name": "ipython",
    "version": 3
   },
   "file_extension": ".py",
   "mimetype": "text/x-python",
   "name": "python",
   "nbconvert_exporter": "python",
   "pygments_lexer": "ipython3",
   "version": "3.7.4"
  }
 },
 "nbformat": 4,
 "nbformat_minor": 2
}
