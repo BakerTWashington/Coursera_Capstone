{
 "cells": [
  {
   "cell_type": "markdown",
   "metadata": {},
   "source": [
    "# Keeneland Venue Analysis and Investment Recommendations\n",
    "\n",
    "## Introduction\n",
    "Many people associate horse racing and breeding with the state of Kentucky, and Central Kentucky in particular. Lexington, Kentucky’s official slogan is “Horse Capital of the World,” and it’s impossible to travel backroads in the Bluegrass without driving by miles and miles of pristine horse farms. Although Lexington’s economy has expanded beyond horse racing alone, owing to a large university and decades of relatively rapid development, the city is still highly dependent on the industry and has established an urban/rural boundary to prevent over-development of farmland surrounding the city. \n",
    "\n",
    "The center of horse racing in the city is the racetrack Keeneland. Hosting 18 stakes races in its fall 2019 meet with six grade I races and purses topping out at $1 million (Staff, 2019), the track attracts spectators both from the US and globally. The 2019 fall meet had attendance of 262,630 people (Keeneland, 2019). Considering the size of the city is around 330,000 people (US Census Bureau, 2019), the track drives a large part of the local economy during this period. Another meet is scheduled every year in April, with the 2019 spring meet having an attendance of 242,547 people (Keeneland, 2019). The 2020 Breeders’ Cup, one of the premier racing events in the US and in the world, is also on the horizon in November 2020. When Keeneland last hosted this two-day event in 2015 it attracted record attendance with 95,102 attendees (Breeders' Cup, 2015).\n",
    "\n",
    "Because Keeneland is very important to the city and clearly attracts a great number of visitors, the indirect benefits of racing in the area could influence decision making and new development. As such, the central problem proposed is how to quantify the indirect impact of Keeneland on different neighborhoods and venues. Also, how can this information be leveraged by someone looking to start a business in the area that caters to racetrack attendees? Developing a business themed around horse racing could be a promising venture if placed in the correct location and in the right category. Ideally this business would be relatively easy to start without requiring a great deal of capital investment."
   ]
  },
  {
   "cell_type": "markdown",
   "metadata": {},
   "source": [
    "## Literature Review\n",
    "\n",
    "To analyze the economic impact of Keeneland and racing on the local economy a study was conducted at the University of Kentucky. This study (Bollinger, 2015) measured the economic impact in two areas: racing and sales. In racing, the author relied on survey and sales data to determine that the top categories of spending annually were in retail (over 12M USD), lodging (over 15M USD), food and beverages (over 19M USD), and gasoline (9M USD). The total annual economic impact from racing was estimated at 123M USD directly and 200M USD total. This study is the first to estimate Keeneland’s economic impact.\n",
    "\n",
    "Although this study measured the economic impact of racing in the area generally, it did not analyze which areas of the city were most impacted and how more specific categories were impacted. This study aims to further evaluate these areas and to recommend specific locations and categories of venues for investment. Based on the prior study, food and beverage may be the best categories for investment, and locations in the city with close proximity to Keeneland may be ideal for development."
   ]
  },
  {
   "cell_type": "markdown",
   "metadata": {},
   "source": [
    "## Data\n",
    "\n",
    "The following data sources were used in determining the ideal location and category placement:\n",
    "\n",
    "- The Foursquare API (Foursquare, 2020) was used to determine the next venues that users visit after checking       in to a prior venue. This process was needed to evaluate the impact of Keeneland’s visitors on the local         economy. The API was also used to determine what venues are nearby to each chosen location and category. This     was necessary to determine two metrics for determination of ideal locations and venue categories: number of       venues of that category within a 1 km radius and minimum distance to a venue of that category.\n",
    "\n",
    "- A shapefile for the state of Kentucky (US Census Bureau, 2019) provided by the census bureau was used to         determine the location of each studied point by tract.\n",
    "\n",
    "- A shapefile for zoning area for the city of Lexington (LFUCG, 2020) was obtained to filter possible locations     to include only those located in business zones\n",
    "\n",
    "- The Google Maps Geocoding API (Google, 2020) was used to determine the addresses of each chosen location based   on the location’s coordinates.\n"
   ]
  },
  {
   "cell_type": "markdown",
   "metadata": {},
   "source": [
    "## Methodology"
   ]
  },
  {
   "cell_type": "markdown",
   "metadata": {},
   "source": [
    "First, install utm and geopandas if necessary, import necessary packages, and set matplotlib inline. Also set chained assignment warning to exception to enable debugging."
   ]
  },
  {
   "cell_type": "code",
   "execution_count": 7,
   "metadata": {},
   "outputs": [],
   "source": [
    "#!pip install geopandas\n",
    "#!pip install utm\n",
    "\n",
    "import os\n",
    "from dotenv import load_dotenv\n",
    "from zipfile import ZipFile\n",
    "from io import BytesIO\n",
    "import geopandas\n",
    "import json\n",
    "import requests\n",
    "import utm\n",
    "import numpy as np\n",
    "from sklearn.cluster import KMeans\n",
    "from sklearn.preprocessing import StandardScaler\n",
    "import matplotlib.pyplot as plt\n",
    "import folium\n",
    "from folium import plugins\n",
    "from matplotlib.ticker import FuncFormatter\n",
    "import re\n",
    "import seaborn as sns\n",
    "import pandas as pd\n",
    "from pandas.io.json import json_normalize\n",
    "import config\n",
    "\n",
    "pd.set_option('mode.chained_assignment', 'raise')\n",
    "%matplotlib inline"
   ]
  },
  {
   "cell_type": "markdown",
   "metadata": {},
   "source": [
    "### Determination of next venues"
   ]
  },
  {
   "cell_type": "markdown",
   "metadata": {},
   "source": [
    "This class creates the series of dataframes that are compiled using the Foursquare API next venues query. \n",
    "\n",
    "The first method, **IterateVenues**, is used to call the API and create a dictionary of the responses. The method also takes a dictionary of venues that have already been assigned next venues. If a new venue is evaluated, the response from Foursquare (Foursquare, 2020) is stored in this dictionary. This saves substantially on compute time. In addition to querying for next venues, the method assignes a weight to each venue returned. The weights assigned are linearly related and are computed using the weights lambda function. The category, venue ID, venue name, and latitude and longitude are stored in a temporary dictionary. The next weight is computed based on the weight of the parent node and is also included for each venue. The results for each next venues call are stored in a list of all next venue results. The already compiled responses are also stored in a dictionary that is returned.\n",
    "\n",
    "The second method, **FindTract** is used to determine the tract that each venue belongs to. This is needed to filter out venues not in Fayette County and those in rural tracts. In order to determine tract, the method first checks if certain tracts have already been returned. It then orders the geoJSON file to include the tracts that have already been returned first. This substantially reduces the time needed to determine tracts. It then determines the tract ID and the coordinates of the tract. The method uses the geometrical definition of whether a point is inside of a polygon. If a line is drawn to the right from a point and that line either crosses a side of the polygon an odd number of times or the point lies on an edge, that point is inside that polygon. **An illustration of this concept is shown below:** \n",
    "![alt text](https://media.geeksforgeeks.org/wp-content/uploads/polygon1.png)\n",
    "The coordinates given by the geoJSON file are listed in order to draw the polygon. Thus, the sides of the polygon that they create and a slope intercept equation can be derived. First, the method creates a list of all of the min y and max y values as given by latitude, respectively. It searches the geoJSON file for sets of points that have a range of values in which the lattitude of the point lies. After filtering the points based on whether the lattitide lies in between the min and max values, the function determines an equation for the line. It uses the point-slope equation to determine slope and then point intercept to determine intercept. For each side of the tract that has been filtered the longitude value is computed based on the slope intercept equation and the latitude of the point. If the number of these longitude values greater than the slope's longitude is odd or the longitude value is equal to the predicted, the point is determined to be inside the tract. The tract ID of this tract is then returned.\n",
    "\n",
    "The third method, **TractDF**, compiles a dataframe for each level of analysis. This dataframe includes venue name, ID, latitude, longitude, weight, and tract. For each tract returned in the dataframe, the method checks if this tract has already been selected. If it has, the tract ID is returned from the list. If not, the tract is determined using the **FindTract** function and the tract and tract ID are appended to the tract list. The tract ID is then added to the dataframe.\n",
    "\n",
    "The fourth method, **LocationDFs**, first takes in the Foursquare credentials, latitude and longitude of the initial location studied, and the category ID of the starting location. The method uses this information to determine the latitude and longitude listed by Foursquare for the venue, category name, and venue name. This information is added as a tuple in a list. This list of one tuple is passed to the **IterateVenues** function, which is iterated a certain number of times defined by the class. The results from each layer are stored in a list and after all layers are iterated through the list of dataframes is returned."
   ]
  },
  {
   "cell_type": "code",
   "execution_count": 11,
   "metadata": {},
   "outputs": [],
   "source": [
    "class LocationDispersion:\n",
    "    \"\"\"\n",
    "    Create dataframes of next venue results at various levels. Each level \n",
    "    is dependent on the Foursquare next venue results from the previous level.\n",
    "    Starts with venue of certain latitude, longitude, and category id. \n",
    "    \n",
    "    Foursquare API credentials are needed to create the dataframes. For the \n",
    "    number of calls, the 'Personal' tier may be needed. None of the calls are \n",
    "    rated as 'Premium'.\n",
    "    \n",
    "    Available category ids are available at:\n",
    "    https://developer.foursquare.com/docs/build-with-foursquare/categories/.\n",
    "    \n",
    "    Note the the class structure is based on the KY census tract geojson available \n",
    "    from KY Geonet. This geojson is available at:\n",
    "    https://opendata.arcgis.com/datasets/d7e0ae24e6ea478eb405a2d292ce19f6_0.geojson.\n",
    "    Other geojson files may not be compatible. \n",
    "    \n",
    "    The parameter 'n' is the number of desired levels in the analysis.\n",
    "    \n",
    "    Note that the LocationDFs method may take a while to run as it iterates through\n",
    "    the geojson for each venue.\n",
    "    \"\"\"\n",
    "    weights = lambda self, x: [i * 1/((x+1)*(x//2)+(x%2)*((x+1)/2)) \n",
    "                               for i in range(x, 0, -1)]\n",
    "    \n",
    "    def __init__(self, latitude, longitude, category_id, census_json, n, \n",
    "                 CLIENT_ID, CLIENT_SECRET, VERSION):\n",
    "        self.latitude = latitude\n",
    "        self.longitude = longitude\n",
    "        self.category_id = category_id\n",
    "        self.census_json = census_json\n",
    "        self.n = n\n",
    "        self.CLIENT_ID = CLIENT_ID\n",
    "        self.CLIENT_SECRET = CLIENT_SECRET\n",
    "        self.VERSION = VERSION\n",
    "        \n",
    "    def IterateVenues(self, response, all_responses):\n",
    "        \"\"\"\n",
    "        Iterates through level of venues to create next level. \n",
    "        Outputs list with relevent information on next venues.\n",
    "        \"\"\"\n",
    "        next_responses = list()\n",
    "        for venue in response:\n",
    "            venue_id = venue[1]\n",
    "            if venue_id in all_responses.keys():\n",
    "                next_results = all_responses[venue_id]\n",
    "            else:\n",
    "                next_url = 'https://api.foursquare.com/v2/venues/{}/nextvenues?client_id={}&client_secret={}&v={}'\\\n",
    "                    .format(venue_id, self.CLIENT_ID, self.CLIENT_SECRET, self.VERSION)\n",
    "                next_results = requests.get(next_url).json()\n",
    "                all_responses[venue_id] = next_results\n",
    "            prev_weight = venue[5]\n",
    "            next_venues = list()\n",
    "            if not next_results[\"response\"]:\n",
    "                continue\n",
    "            count = next_results[\"response\"][\"nextVenues\"][\"count\"]\n",
    "            next_weights = [prev_weight * weight for weight in self.weights(count)]\n",
    "            results = next_results[\"response\"][\"nextVenues\"][\"items\"]\n",
    "            for i in range(len(results)):\n",
    "                next_id = results[i][\"id\"]\n",
    "                next_name = results[i][\"name\"]\n",
    "                category = results[i][\"categories\"][0][\"name\"]\n",
    "                lat = results[i][\"location\"][\"lat\"]\n",
    "                long = results[i][\"location\"][\"lng\"]\n",
    "                visit_weight = next_weights[i]\n",
    "                next_venues.append((next_name, next_id, category, lat, long, \n",
    "                                    visit_weight))\n",
    "            next_responses.extend(next_venues)\n",
    "        return next_responses, all_responses\n",
    "    \n",
    "    def FindTract(self, lat, long, prev=None):\n",
    "        \"\"\"\n",
    "        Iterates through geojson file to extract correct census tract using lat and long.\n",
    "        Utilizes basic geometrical definition of a polygon.\n",
    "        \"\"\"\n",
    "        tracts = sorted(self.census_json[\"features\"], key=lambda x: x[\"properties\"]\n",
    "                        [\"GEOID\"])\n",
    "        if prev and any(x for x in prev):\n",
    "            county_ids = set([x[2:5] for x in prev if x])\n",
    "            tracts1 = [tract for tract in tracts if tract[\"properties\"][\"COUNTYFP\"]\n",
    "                       in county_ids]\n",
    "            tracts2 = [tract for tract in tracts if tract[\"properties\"][\"COUNTYFP\"]\n",
    "                       not in county_ids]\n",
    "            tracts = tracts1 + tracts2\n",
    "        for tract in tracts:\n",
    "            tract_id = tract[\"properties\"][\"GEOID\"]\n",
    "            coords = tract[\"geometry\"][\"coordinates\"][0]\n",
    "            long_preds = list()\n",
    "            if len(coords) < 2:\n",
    "                continue\n",
    "            ymax = [max([coords[i][1], coords[i-1][1]]) for i in range(1, len(coords))]\n",
    "            ymin = [min([coords[i][1], coords[i-1][1]]) for i in range(1, len(coords))]    \n",
    "            new_coords = list()\n",
    "            for i in range(1, len(coords)):\n",
    "                if (lat > ymin[i-1] and lat < ymax[i-1]) \\\n",
    "                    or (i < len(ymin)-1 and lat == ymin[i - 1] and ymax[i - 1] > lat and ymin[i] < lat):\n",
    "                        new_coords.append([coords[i-1],coords[i]])\n",
    "            if new_coords:\n",
    "                for i in range(len(new_coords)):\n",
    "                    x_diff = new_coords[i][1][0] - new_coords[i][0][0]\n",
    "                    y_diff = new_coords[i][1][1] - new_coords[i][0][1]\n",
    "                    m = y_diff / x_diff\n",
    "                    b = new_coords[i][1][1] - m * new_coords[i][1][0]\n",
    "                    if m == 0:\n",
    "                        long_pred = -b\n",
    "                    else:\n",
    "                        long_pred = (lat-b)/m\n",
    "                    long_preds.append(long_pred)\n",
    "            if long_preds and (sum(pred > long for pred in long_preds) % 2 == 1\\\n",
    "                or any(long == pred for pred in long_preds)):\n",
    "                return tract_id\n",
    "        print(\"Venue outside of Kentucky\")\n",
    "        return None\n",
    "    \n",
    "    def TractDF(self, layer, prev_tracts=None):\n",
    "        \"\"\"\n",
    "        Creates dataframe for each layer. Uses FindTract to determine tract number \n",
    "        and GetLikes to determine like count.\n",
    "        \"\"\"\n",
    "        venues_df = pd.DataFrame()\n",
    "        venues_df[\"Venue\"] = [v[0] for v in layer]\n",
    "        venues_df[\"Id\"] = [v[1] for v in layer]\n",
    "        venues_df[\"Category\"] = [v[2] for v in layer]\n",
    "        venues_df[\"Latitude\"] = [v[3] for v in layer]\n",
    "        venues_df[\"Longitude\"] = [v[4] for v in layer]\n",
    "        venues_df[\"VisitWeight\"] = [v[5] for v in layer]\n",
    "        tracts = list()\n",
    "        if not prev_tracts:\n",
    "            prev_tracts = dict()\n",
    "        for i in range(venues_df.shape[0]):\n",
    "            ID = venues_df.iloc[i,1]\n",
    "            if ID in prev_tracts.keys():\n",
    "                tracts.append(prev_tracts[ID])\n",
    "            else:\n",
    "                lat = venues_df.iloc[i,3]\n",
    "                long = venues_df.iloc[i,4]\n",
    "                tract = self.FindTract(lat, long, tracts)\n",
    "                tracts.append(tract)\n",
    "                prev_tracts[ID] = tract\n",
    "        venues_df[\"Tract\"] = tracts\n",
    "        print(\"Layer finished.\")\n",
    "        return prev_tracts, venues_df\n",
    "    \n",
    "    def LocationDFs(self):\n",
    "        \"\"\"\n",
    "        Creates list of DFs for each desired level of analysis for given location. \n",
    "        Uses all prior functions to generate.\n",
    "        \"\"\"    \n",
    "        venues_url = 'https://api.foursquare.com/v2/venues/search?client_id={}&client_secret={}&v={}&ll={},{}'\\\n",
    "            .format(self.CLIENT_ID, self.CLIENT_SECRET, self.VERSION, self.latitude, \n",
    "                self.longitude, self.category_id)\n",
    "        venue_results = requests.get(venues_url).json()\n",
    "        venue_response = venue_results[\"response\"][\"venues\"][0]\n",
    "        venue_id = venue_response[\"id\"]\n",
    "        venue_name = venue_response[\"name\"]\n",
    "        venue_cat = venue_response[\"categories\"][0][\"name\"]\n",
    "        venue_lat = venue_response[\"location\"][\"lat\"]\n",
    "        venue_long = venue_response[\"location\"][\"lng\"]\n",
    "        venue = [(venue_name, venue_id, venue_cat, venue_lat, venue_long, 1)]\n",
    "        layers = [venue]\n",
    "        all_responses = dict()\n",
    "        for i in range(self.n):\n",
    "            next_responses, all_responses = self.IterateVenues(layers[i], all_responses)\n",
    "            layers.append(next_responses)\n",
    "        dfs = list()\n",
    "        prev_tracts = None\n",
    "        for layer in layers:\n",
    "            prev_tracts, df = self.TractDF(layer, prev_tracts)\n",
    "            dfs.append(df)\n",
    "        return dfs"
   ]
  },
  {
   "cell_type": "markdown",
   "metadata": {},
   "source": [
    "The census data for Kentucky is available from the census bureau as a shapefile (US Census Bureau, 2019). This shapefile is stored in a zip file. **Requests** is used along with the census URL to extract the data from the site for the zip file. This zip file is written to a zip file stored locally, which is then extracted using the **zipfile** package. The **geopandas** package is then used to read the contents of the shapefile and convert it into geoJSON format, which is then loaded and stored as the variable census_json."
   ]
  },
  {
   "cell_type": "code",
   "execution_count": 13,
   "metadata": {},
   "outputs": [],
   "source": [
    "census_url = \"https://www2.census.gov/geo/tiger/TIGER2017/BG/tl_2017_21_bg.zip\"\n",
    "\n",
    "request = requests.get(census_url)\n",
    "open('census.zip', 'wb').write(request.content)\n",
    "with ZipFile(\"census.zip\", 'r') as zip_ref:\n",
    "    zip_ref.extractall()\n",
    "\n",
    "myshpfile = geopandas.read_file('tl_2017_21_bg.shp')\n",
    "myshpfile.to_file('census.json', driver='GeoJSON')\n",
    "\n",
    "with open('census.json') as f:\n",
    "  census_json = json.load(f)"
   ]
  },
  {
   "cell_type": "markdown",
   "metadata": {},
   "source": [
    "The Foursquare credentials along with the category ID for racetracks is supplied."
   ]
  },
  {
   "cell_type": "code",
   "execution_count": 14,
   "metadata": {},
   "outputs": [],
   "source": [
    "load_dotenv()\n",
    "\n",
    "category_id = '4bf58dd8d48988d1f4931735'\n",
    "CLIENT_ID = os.getenv('CLIENT_ID')\n",
    "CLIENT_SECRET = os.getenv('CLIENT_SECRET')\n",
    "VERSION = '20200529'"
   ]
  },
  {
   "cell_type": "markdown",
   "metadata": {},
   "source": [
    "The latitude and longitude of Keeneland are supplied and the **LocationDFs** method of the **LocationDispersion** class is used to extract dataframes for six levels of analysis. Note that this process may take several seconds to complete."
   ]
  },
  {
   "cell_type": "code",
   "execution_count": 15,
   "metadata": {},
   "outputs": [
    {
     "name": "stdout",
     "output_type": "stream",
     "text": [
      "Layer finished.\n",
      "Layer finished.\n",
      "Layer finished.\n",
      "Layer finished.\n",
      "Layer finished.\n",
      "Layer finished.\n",
      "Layer finished.\n"
     ]
    }
   ],
   "source": [
    "keene_lat = 38.0461\n",
    "keene_long = -84.6080\n",
    "loc = LocationDispersion(keene_lat, keene_long, category_id, \n",
    "    census_json, 6, CLIENT_ID, CLIENT_SECRET, VERSION)\n",
    "keene_dfs = loc.LocationDFs()"
   ]
  },
  {
   "cell_type": "markdown",
   "metadata": {},
   "source": [
    "The dataframes from each level of analysis are concatenated to form a full dataframe. The Fall 2019 meet attendance is then used to determine the total number of visits by venue based on visit weight."
   ]
  },
  {
   "cell_type": "code",
   "execution_count": 16,
   "metadata": {},
   "outputs": [],
   "source": [
    "keene_df = pd.DataFrame()\n",
    "for layer in keene_dfs[1:]:\n",
    "    keene_df = pd.concat([keene_df, layer], axis=0)\n",
    "keene_attendance = 262630 # Source: https://keeneland.com/media/news/strong-attendance-and-community-events-highlight-keeneland-fall-meet\n",
    "keene_df[\"Visits\"] = keene_df[\"VisitWeight\"] * keene_attendance"
   ]
  },
  {
   "cell_type": "markdown",
   "metadata": {},
   "source": [
    "The dataframe is grouped by venue and the number of visits and number of mentions for each venue were determined."
   ]
  },
  {
   "cell_type": "code",
   "execution_count": 17,
   "metadata": {},
   "outputs": [],
   "source": [
    "agg_visit = {row:\"first\" for row in [\"Id\", \"Category\", \"Latitude\", \"Longitude\", \"Tract\"]}\n",
    "agg_visit[\"Visits\"] = \"sum\"\n",
    "agg_visit[\"VisitWeight\"] = \"count\"\n",
    "\n",
    "visit_df = keene_df.groupby(\"Venue\").agg(agg_visit)\n",
    "visit_df.rename(columns={\"VisitWeight\":\"Mentions\"}, inplace=True)"
   ]
  },
  {
   "cell_type": "markdown",
   "metadata": {},
   "source": [
    "### Creation of points of interest to study"
   ]
  },
  {
   "cell_type": "markdown",
   "metadata": {},
   "source": [
    "The county code for Fayette County is used to filter out all tracts from other counties, as they are not within the scope of this analysis."
   ]
  },
  {
   "cell_type": "code",
   "execution_count": 18,
   "metadata": {},
   "outputs": [],
   "source": [
    "fayette_code = '067'\n",
    "lex_visits = visit_df[visit_df[\"Tract\"].apply(lambda x: str(x)[2:5]) == fayette_code].copy()"
   ]
  },
  {
   "cell_type": "markdown",
   "metadata": {},
   "source": [
    "The generalized tract numbers are extracted and the latitude and longitude are converted to x and y coordinates using the **utm** package."
   ]
  },
  {
   "cell_type": "code",
   "execution_count": 19,
   "metadata": {},
   "outputs": [],
   "source": [
    "lex_visits.loc[:,\"Block\"] = lex_visits.loc[:,\"Tract\"]\n",
    "lex_visits.iloc[:,4] = lex_visits.iloc[:,4].apply(lambda x: str(x)[:-1])\n",
    "lex_visits.reset_index(inplace=True)\n",
    "lex_visits.loc[:,\"X\"], lex_visits.loc[:,\"Y\"], lex_visits.loc[:,\"zone_num\"], lex_visits.loc[:,\"zone_let\"] \\\n",
    "    = zip(*lex_visits.copy().apply(lambda x: utm.from_latlon(x[3], x[4]), axis=1))"
   ]
  },
  {
   "cell_type": "markdown",
   "metadata": {},
   "source": [
    "The rural tracts in Fayette County are excluded from this analysis as only venues in the city with other nearby venues are considered."
   ]
  },
  {
   "cell_type": "code",
   "execution_count": 20,
   "metadata": {},
   "outputs": [],
   "source": [
    "rural_tracts = ['21067003701', '21067003802','21067004207']\n",
    "lex_urban = lex_visits[~lex_visits[\"Tract\"].isin(rural_tracts)]\n",
    "lex_urban = lex_urban.reset_index().drop(\"index\", axis=1)"
   ]
  },
  {
   "cell_type": "markdown",
   "metadata": {},
   "source": [
    "The census json file is filtered to include only tracts within Fayette County."
   ]
  },
  {
   "cell_type": "code",
   "execution_count": 21,
   "metadata": {},
   "outputs": [],
   "source": [
    "lex_json = census_json.copy()\n",
    "lex_json[\"features\"] = [tract for tract in census_json[\"features\"] if tract[\"properties\"][\"COUNTYFP\"] == fayette_code]"
   ]
  },
  {
   "cell_type": "markdown",
   "metadata": {},
   "source": [
    "The x and y coordinates for each venue are extracted and scaled. These scaled coordinates are then passed into K Means clustering algorithms with number of cluseters ranging from 1 to 14. The sum of squared errors is appended to a list for each number of clusters used."
   ]
  },
  {
   "cell_type": "code",
   "execution_count": 22,
   "metadata": {},
   "outputs": [],
   "source": [
    "lex_urban_xy = lex_urban[[\"X\", \"Y\"]].values\n",
    "scaler1 = StandardScaler()\n",
    "lex_xy_scaled = scaler1.fit_transform(lex_urban_xy)\n",
    "sum_squared = list()\n",
    "K = range(1, 15)\n",
    "for k in K:\n",
    "    kmeans = KMeans(n_clusters=k, random_state=0)\n",
    "    kmeans.fit(lex_xy_scaled)\n",
    "    sum_squared.append(kmeans.inertia_)"
   ]
  },
  {
   "cell_type": "markdown",
   "metadata": {},
   "source": [
    "An elbow chart is created using the sum of squared distances for each value of number of clusters. Based on this chart, the elbow appears to be at either 3 or 4."
   ]
  },
  {
   "cell_type": "code",
   "execution_count": 23,
   "metadata": {},
   "outputs": [
    {
     "data": {
      "image/png": "[encoded data removed]",
      "text/plain": [
       "<Figure size 720x432 with 1 Axes>"
      ]
     },
     "metadata": {
      "needs_background": "light"
     },
     "output_type": "display_data"
    }
   ],
   "source": [
    "plt.figure(figsize=(10,6))\n",
    "plt.plot(range(1,15), sum_squared)\n",
    "plt.xlabel(\"Number of Clusuters\")\n",
    "plt.ylabel(\"Sum of Squared Distances\")\n",
    "plt.title(\"Elbow chart for K Means analysis of Lexington venues affected by Keeneland\")\n",
    "plt.xticks(ticks=range(1,15))\n",
    "plt.grid(b=True)\n",
    "plt.savefig(\"kmeans_all_venues.png\")\n",
    "plt.show()"
   ]
  },
  {
   "cell_type": "markdown",
   "metadata": {},
   "source": [
    "A final K Means algorithm is fitted using 4 clusters determined using the elbow method. The centers of the clusters are then inverse transformed to determine their centers in x and y coordinates."
   ]
  },
  {
   "cell_type": "code",
   "execution_count": 24,
   "metadata": {},
   "outputs": [],
   "source": [
    "k = 4 # Elbow on elbow chart.\n",
    "kmeans = KMeans(n_clusters=k, random_state=0)\n",
    "kmeans.fit(lex_xy_scaled)\n",
    "centers = scaler1.inverse_transform(kmeans.cluster_centers_)"
   ]
  },
  {
   "cell_type": "markdown",
   "metadata": {},
   "source": [
    "The zone number and letter for the region are extracted from the dataframe of urban venues, and these are used to transform the centers in x and y coordinates back to latitude and longitude so that the centers can be plotted."
   ]
  },
  {
   "cell_type": "code",
   "execution_count": 25,
   "metadata": {},
   "outputs": [],
   "source": [
    "zone_num = lex_urban.loc[0, \"zone_num\"]\n",
    "zone_let = lex_urban.loc[0, \"zone_let\"]\n",
    "centers_ll = list()\n",
    "for ll in centers:\n",
    "    centers_ll.append(utm.to_latlon(ll[0], ll[1], zone_num, zone_let))"
   ]
  },
  {
   "cell_type": "markdown",
   "metadata": {},
   "source": [
    "The cluster centers are plotted using **folium** and the latitude and longitude of downtown Lexington. The clusters are plotted as circles with a radius of 1 km. These centers are plotted on top of a heatmap showing the density of venues visited by Keeneland goers."
   ]
  },
  {
   "cell_type": "code",
   "execution_count": 26,
   "metadata": {},
   "outputs": [
    {
     "data": {
      "text/html": [
       "<div style=\"width:100%;\"><div style=\"position:relative;width:100%;height:0;padding-bottom:60%;\"><span style=\"color:#565656\">Make this Notebook Trusted to load map: File -> Trust Notebook</span><iframe src=\"about:blank\" style=\"position:absolute;width:100%;height:100%;left:0;top:0;border:none !important;\" data-html=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 onload=\"this.contentDocument.open();this.contentDocument.write(atob(this.getAttribute('data-html')));this.contentDocument.close();\" allowfullscreen webkitallowfullscreen mozallowfullscreen></iframe></div></div>"
      ],
      "text/plain": [
       "<folium.folium.Map at 0x7fa5d5326b10>"
      ]
     },
     "execution_count": 26,
     "metadata": {},
     "output_type": "execute_result"
    }
   ],
   "source": [
    "lex_urban_arr = lex_urban[[\"Latitude\", \"Longitude\"]].values\n",
    "\n",
    "lex_lat = 38.0406\n",
    "lex_long = -84.5037\n",
    "\n",
    "lex_map = folium.Map(location=[lex_lat, lex_long], zoom_start=12)\n",
    "for center in centers_ll:\n",
    "    folium.Circle([center[0], center[1]], radius=1000, color='green', fill=True, fill_opacity=0.25).add_to(lex_map)\n",
    "lex_map.add_child(plugins.HeatMap(lex_urban_arr, radius=15))\n",
    "\n",
    "lex_map.save('lex_map.html')\n",
    "\n",
    "lex_map"
   ]
  },
  {
   "cell_type": "markdown",
   "metadata": {},
   "source": [
    "Based on the x and y location of each cluster center, a series of points was generated at constant intervals away from those centers. These points were generated in an 11 x 11 grid spanning 1500 meters in every direction away from the center. The locations were then appended to a list with the x and y coordinates converted to latitude and longitude using the **utm** package. A dataframe was created using these coordinates."
   ]
  },
  {
   "cell_type": "code",
   "execution_count": 27,
   "metadata": {},
   "outputs": [],
   "source": [
    "chosen_loc_radius = 1500\n",
    "diff = 300\n",
    "\n",
    "locations = list()\n",
    "for center in centers:\n",
    "    new = [[center[0] + x, center[1] + y] \n",
    "           for x in range(-chosen_loc_radius, chosen_loc_radius+1, diff) \n",
    "           for y in range(-chosen_loc_radius, chosen_loc_radius+1, diff)]\n",
    "    for n in new:\n",
    "        locations.append(utm.to_latlon(n[0], n[1], zone_num, zone_let))\n",
    "loc_df = pd.DataFrame(locations, columns=[\"Latitude\", \"Longitude\"])"
   ]
  },
  {
   "cell_type": "markdown",
   "metadata": {},
   "source": [
    "Next, the zones for each point were determined in order to filter out points not zoned for business. This was completed using a shapefile of zoning in Lexington (LFUCG, 2020) obtained from the Lexington city datasets. The process of extracting the shapefile and converting this file to a usable GeoJSON file is the same as used to determine census tracts."
   ]
  },
  {
   "cell_type": "code",
   "execution_count": 28,
   "metadata": {},
   "outputs": [],
   "source": [
    "lex_zoning_zip_url = \"https://data.lexingtonky.gov/dataset/d99942a6-2828-496b-b675-82d3cb94e54d/resource/434a9cd5-f7b4-4af4-94a0-038d020081f2/download/zoning.zip\"\n",
    "\n",
    "request = requests.get(lex_zoning_zip_url)\n",
    "open('zoning.zip', 'wb').write(request.content)\n",
    "\n",
    "with ZipFile(\"zoning.zip\", 'r') as zip_ref:\n",
    "    zip_ref.extractall()\n",
    "\n",
    "myshpfile = geopandas.read_file('Zoning.shp')\n",
    "myshpfile.to_file('zoning.json', driver='GeoJSON')\n",
    "\n",
    "with open('zoning.json') as f:\n",
    "  zoning = json.load(f)"
   ]
  },
  {
   "cell_type": "markdown",
   "metadata": {},
   "source": [
    "This function is used to determine to which zone in Lexington a specific latitude and longitude coordinate belongs. The process of extracting coordinates is the same as that used to determine tract number. The definition of a point inside a polygon is used, in addition to coordinates supplied by the geojson, to determine to which zone each point belongs. The zone is returned. If the point is not inside the geoJSON file, None is returned."
   ]
  },
  {
   "cell_type": "code",
   "execution_count": 29,
   "metadata": {},
   "outputs": [],
   "source": [
    "def FindZone(lat, long, geojson):\n",
    "        \"\"\"\n",
    "        Iterates through geojson file to extract correct census tract using lat and long.\n",
    "        Utilizes basic geometrical definition of a polygon.\n",
    "        \"\"\"\n",
    "        for zone in geojson[\"features\"]:\n",
    "            zone_id = zone[\"properties\"][\"ZONING\"]\n",
    "            coords = zone[\"geometry\"][\"coordinates\"][0]\n",
    "            if len(coords) < 3:\n",
    "                coords = coords[0]\n",
    "            long_preds = list()\n",
    "            ymax = [max([coords[i][1], coords[i-1][1]]) for i in range(1, len(coords))]\n",
    "            ymin = [min([coords[i][1], coords[i-1][1]]) for i in range(1, len(coords))]\n",
    "            new_coords = list()\n",
    "            for i in range(1, len(coords)):\n",
    "                if lat > ymin[i-1] and lat < ymax[i-1]:\n",
    "                        new_coords.append([coords[i-1],coords[i]])\n",
    "            if new_coords:\n",
    "                for i in range(len(new_coords)):\n",
    "                    x_diff = new_coords[i][1][0] - new_coords[i][0][0]\n",
    "                    y_diff = new_coords[i][1][1] - new_coords[i][0][1]\n",
    "                    m = y_diff / x_diff\n",
    "                    b = new_coords[i][1][1] - m * new_coords[i][1][0]\n",
    "                    if m == 0:\n",
    "                        long_pred = -b\n",
    "                    else:\n",
    "                        long_pred = (lat-b)/m\n",
    "                    long_preds.append(long_pred)\n",
    "            if long_preds and (sum(pred > long for pred in long_preds) % 2 == 1\\\n",
    "                or any(long == pred for pred in long_preds)):\n",
    "                return zone_id\n",
    "        return None"
   ]
  },
  {
   "cell_type": "markdown",
   "metadata": {},
   "source": [
    "Now the **FindZone** function is used to filter out all points not in a business zone, excluding zone \"B-4\", which is a wholesale business zone and is outside of the scope of this analysis. The zone is then dropped after being used to filter the points."
   ]
  },
  {
   "cell_type": "code",
   "execution_count": 30,
   "metadata": {},
   "outputs": [],
   "source": [
    "loc_df[\"Zone\"] = loc_df.apply(lambda x: FindZone(x[0], x[1], zoning), axis=1)\n",
    "bus_df = loc_df[loc_df[\"Zone\"].apply(lambda x: False if not x else (x.split(\"-\")[0] == \"B\")\n",
    "                                     &(x.split(\"-\")[1] != \"4\"))]\n",
    "bus_df = bus_df.reset_index().drop([\"index\", \"Zone\"], axis=1)"
   ]
  },
  {
   "cell_type": "markdown",
   "metadata": {},
   "source": [
    "This **folium** map shows clusters of markers for the chosen locations. These markers are again overlayed on the heatmap of venues with Keeneland visits to give an understanding of where these locations are relative to visited venues. Most points are clustered in Downtown, along Harrodsburg Road, shown as \"US 68\", and along Nicholasville Road, shown as \"US 27\"."
   ]
  },
  {
   "cell_type": "code",
   "execution_count": 31,
   "metadata": {
    "scrolled": true
   },
   "outputs": [
    {
     "data": {
      "text/html": [
       "<div style=\"width:100%;\"><div style=\"position:relative;width:100%;height:0;padding-bottom:60%;\"><span style=\"color:#565656\">Make this Notebook Trusted to load map: File -> Trust Notebook</span><iframe src=\"about:blank\" style=\"position:absolute;width:100%;height:100%;left:0;top:0;border:none !important;\" data-html=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 onload=\"this.contentDocument.open();this.contentDocument.write(atob(this.getAttribute('data-html')));this.contentDocument.close();\" allowfullscreen webkitallowfullscreen mozallowfullscreen></iframe></div></div>"
      ],
      "text/plain": [
       "<folium.folium.Map at 0x7fa5d4176b50>"
      ]
     },
     "execution_count": 31,
     "metadata": {},
     "output_type": "execute_result"
    }
   ],
   "source": [
    "lex_lat = 38.0406\n",
    "lex_long = -84.5037\n",
    "\n",
    "bus_map = folium.Map(location=[lex_lat, lex_long], zoom_start=12)\n",
    "bus_cats = plugins.MarkerCluster().add_to(bus_map)\n",
    "\n",
    "\n",
    "for lat, lng in zip(bus_df.Latitude,bus_df.Longitude):\n",
    "    folium.Marker(\n",
    "        location=[lat, lng],\n",
    "        icon=None,\n",
    "        popup=None,\n",
    "    ).add_to(bus_cats) \n",
    "\n",
    "bus_map.add_child(plugins.HeatMap(lex_urban_arr, radius=15))\n",
    "\n",
    "bus_map.save(\"bus_map.html\")\n",
    "\n",
    "bus_map"
   ]
  },
  {
   "cell_type": "markdown",
   "metadata": {},
   "source": [
    "### Category choice by point"
   ]
  },
  {
   "cell_type": "markdown",
   "metadata": {},
   "source": [
    "This function converts latitude and longitude to x and y coordinates using the **utm** package. It then computes the distance between two points in meters. This will be used to determine how close visited venues are to each point."
   ]
  },
  {
   "cell_type": "code",
   "execution_count": 32,
   "metadata": {},
   "outputs": [],
   "source": [
    "def LatLonDist(latlon1, latlon2):\n",
    "    \"\"\"\n",
    "    Determines distance in m between two points based on latitude and longitude.\n",
    "    \"\"\"\n",
    "    x1, y1, zone1, d1 = utm.from_latlon(latlon1[0], latlon1[1])\n",
    "    x2, y2, zone2, d2 = utm.from_latlon(latlon2[0], latlon2[1])\n",
    "    return np.sqrt((x2-x1)**2+(y2-y1)**2)"
   ]
  },
  {
   "cell_type": "markdown",
   "metadata": {},
   "source": [
    "The **LatLongDist** function is used to determine the distance of each visited venue to each point studied. This is stored in a temporary dataframe and then concatenated."
   ]
  },
  {
   "cell_type": "code",
   "execution_count": 33,
   "metadata": {},
   "outputs": [],
   "source": [
    "loc_all_df = pd.DataFrame()\n",
    "for i in range(bus_df.shape[0]):\n",
    "    dist_df = lex_urban.iloc[:,:7]\n",
    "    dist_df[\"Distance\"] = dist_df.apply(lambda x: LatLonDist([x[3], x[4]], bus_df.iloc[i,:]), axis=1)\n",
    "    dist_df.drop([\"Latitude\", \"Longitude\"], axis=1, inplace=True)\n",
    "    dist_df[\"Latitude\"] = bus_df.iloc[i,0]\n",
    "    dist_df[\"Longitude\"] = bus_df.iloc[i,1]\n",
    "    loc_all_df = pd.concat([loc_all_df, dist_df], axis=0)"
   ]
  },
  {
   "cell_type": "markdown",
   "metadata": {},
   "source": [
    "Next the top categories were determined based on number of total visits. The top 5 of these categories were compiled excluding grocery stores and supermarkets that were deemed too large of investments. The indices for the top categories were derived to enable highlighting the chosen categories while plotting."
   ]
  },
  {
   "cell_type": "code",
   "execution_count": 34,
   "metadata": {},
   "outputs": [],
   "source": [
    "cat_visits = lex_urban.groupby(\"Category\").sum()[[\"Visits\"]].sort_values(by=\"Visits\", ascending=False)\n",
    "cat_limit = 5\n",
    "exc_cat = [\"Grocery Store\", \"Supermarket\"]\n",
    "cat_top = cat_visits[~cat_visits.index.isin(exc_cat)][:cat_limit]\n",
    "cat_visits.reset_index(inplace=True)\n",
    "cat_top_i = [i for i in range(cat_visits.shape[0]) if cat_visits.iloc[i,0] in cat_top.index.to_list()]"
   ]
  },
  {
   "cell_type": "markdown",
   "metadata": {},
   "source": [
    "The visits in each of the chosen top categories are shown below."
   ]
  },
  {
   "cell_type": "code",
   "execution_count": 35,
   "metadata": {},
   "outputs": [
    {
     "data": {
      "text/html": [
       "<div>\n",
       "<style scoped>\n",
       "    .dataframe tbody tr th:only-of-type {\n",
       "        vertical-align: middle;\n",
       "    }\n",
       "\n",
       "    .dataframe tbody tr th {\n",
       "        vertical-align: top;\n",
       "    }\n",
       "\n",
       "    .dataframe thead th {\n",
       "        text-align: right;\n",
       "    }\n",
       "</style>\n",
       "<table border=\"1\" class=\"dataframe\">\n",
       "  <thead>\n",
       "    <tr style=\"text-align: right;\">\n",
       "      <th></th>\n",
       "      <th>Visits</th>\n",
       "    </tr>\n",
       "    <tr>\n",
       "      <th>Category</th>\n",
       "      <th></th>\n",
       "    </tr>\n",
       "  </thead>\n",
       "  <tbody>\n",
       "    <tr>\n",
       "      <td>Steakhouse</td>\n",
       "      <td>45749.549408</td>\n",
       "    </tr>\n",
       "    <tr>\n",
       "      <td>Ice Cream Shop</td>\n",
       "      <td>19424.907373</td>\n",
       "    </tr>\n",
       "    <tr>\n",
       "      <td>American Restaurant</td>\n",
       "      <td>12108.653781</td>\n",
       "    </tr>\n",
       "    <tr>\n",
       "      <td>Liquor Store</td>\n",
       "      <td>11518.817783</td>\n",
       "    </tr>\n",
       "    <tr>\n",
       "      <td>German Restaurant</td>\n",
       "      <td>4147.527894</td>\n",
       "    </tr>\n",
       "  </tbody>\n",
       "</table>\n",
       "</div>"
      ],
      "text/plain": [
       "                           Visits\n",
       "Category                         \n",
       "Steakhouse           45749.549408\n",
       "Ice Cream Shop       19424.907373\n",
       "American Restaurant  12108.653781\n",
       "Liquor Store         11518.817783\n",
       "German Restaurant     4147.527894"
      ]
     },
     "execution_count": 35,
     "metadata": {},
     "output_type": "execute_result"
    }
   ],
   "source": [
    "cat_top"
   ]
  },
  {
   "cell_type": "markdown",
   "metadata": {},
   "source": [
    "These are the top 15 categories by visits. The chosen categories are highliqhted in red. They will be used to determine which categories to focus on for each point."
   ]
  },
  {
   "cell_type": "code",
   "execution_count": 36,
   "metadata": {},
   "outputs": [
    {
     "data": {
      "image/png": "[encoded data removed]",
      "text/plain": [
       "<Figure size 1080x864 with 1 Axes>"
      ]
     },
     "metadata": {
      "needs_background": "light"
     },
     "output_type": "display_data"
    }
   ],
   "source": [
    "plt.figure(figsize=(15,12))\n",
    "ax = plt.subplot(111)\n",
    "bar = ax.bar(\"Category\", \"Visits\", data=cat_visits.iloc[:15,:])\n",
    "for i in cat_top_i:\n",
    "    bar[i].set_color(\"#ED553B\")\n",
    "ax.set_xticklabels(labels=cat_visits.iloc[:15,:][\"Category\"],rotation=45, ha=\"right\")\n",
    "ax.set_xlabel(\"Category\", fontsize=14)\n",
    "ax.set_ylabel(\"Number of Keeneland Visitors\", fontsize=14)\n",
    "ax.yaxis.set_major_formatter(FuncFormatter(lambda x, p: format(int(x), ',')))\n",
    "ax.grid(b=True)\n",
    "ax.set_title(\"Top venue categories by number of Keeneland visitors\", fontsize=16)\n",
    "\n",
    "plt.savefig(\"top_venues.png\")\n",
    "plt.show()"
   ]
  },
  {
   "cell_type": "markdown",
   "metadata": {},
   "source": [
    "Next, the visited venues are filtered by distance from the studied point. This distance was chosen as 1 km. The dataframe containing nearby venues was then grouped by location and category of venue to determine which categories were at each location. The grouped dataframe was then used to extract the unique coordinates and the categories located near each of these coordinates."
   ]
  },
  {
   "cell_type": "code",
   "execution_count": 37,
   "metadata": {},
   "outputs": [],
   "source": [
    "loc_radius = 1000\n",
    "loc_radius_df = loc_all_df[loc_all_df[\"Distance\"] < loc_radius]\n",
    "loc_grouped = loc_radius_df.groupby([\"Latitude\", \"Longitude\", \"Category\"]).count()\n",
    "cat_lat = loc_grouped.index.get_level_values(0).unique().to_list()\n",
    "cat_long = loc_grouped.index.get_level_values(1).unique().to_list()\n",
    "groups = [loc_grouped.loc[cat_lat[i],:].index.get_level_values(1).to_list() for i in range(len(cat_lat))]"
   ]
  },
  {
   "cell_type": "markdown",
   "metadata": {},
   "source": [
    "The top categories not nearby each point were determined and these were saved back into the list of categories by point."
   ]
  },
  {
   "cell_type": "code",
   "execution_count": 38,
   "metadata": {},
   "outputs": [],
   "source": [
    "for i in range(len(groups)):\n",
    "    cats = cat_top.index.to_list()\n",
    "    for cat in groups[i]:\n",
    "        if cat in cats:\n",
    "            cats.remove(cat)\n",
    "    groups[i] = cats    "
   ]
  },
  {
   "cell_type": "markdown",
   "metadata": {},
   "source": [
    "### Nearby venues and metrics derivation"
   ]
  },
  {
   "cell_type": "markdown",
   "metadata": {},
   "source": [
    "This function is then used to convert the category names to ID numbers to be interpreted by the Foursquare API."
   ]
  },
  {
   "cell_type": "code",
   "execution_count": 39,
   "metadata": {},
   "outputs": [],
   "source": [
    "def GetCatID(cat):\n",
    "    \"\"\"\n",
    "    Determines the category ID by category using Foursquare API data.\n",
    "    \"\"\"\n",
    "    venues_url = 'https://api.foursquare.com/v2/venues/categories?client_id={}&client_secret={}&v={}'\\\n",
    "                .format(CLIENT_ID, CLIENT_SECRET, VERSION)\n",
    "    venue_results = requests.get(venues_url).json()\n",
    "    venue_text = json.dumps(venue_results)\n",
    "    cat_id = re.findall('(?<=id\\\"\\:\\s\\\")\\w+(?=[^\\}]+\\s\\\"%s\\\")' % cat, venue_text)[0]\n",
    "    return cat_id"
   ]
  },
  {
   "cell_type": "markdown",
   "metadata": {},
   "source": [
    "The IDs for catgories that do not have visited venues located nearby to each point, the latitude and longitude of each point, a 1 km radius, and a limit of 20 returned venues are then used to query the Foursquare API. For each category by point, the loop first checks if there are any categories not included at that venue. If not, it skips that location, appends None to the list of returned venues, and continues. \n",
    "\n",
    "It then determines the coordinated and the category ID, which it uses to query the API. If there are no nearby venues returned, the loop creates temporary dictionary with null values for the ID of the venue, name, and distance. It then appends this dictionary to a list of venues at each point. If the API does return nearby venues in that category, these reusults are looped to obtain a dictionary of ID, name, and distance fro the point for each venue. \n",
    "\n",
    "These dictionaries are then appended to the list of venues for each point. This temporary list by point is then appended to the full list of returned venues by location. Note that this process may take several seconds."
   ]
  },
  {
   "cell_type": "code",
   "execution_count": 40,
   "metadata": {},
   "outputs": [],
   "source": [
    "limit = 20\n",
    "all_cats = list()\n",
    "for i in range(len(groups)):\n",
    "    if not groups[i]:\n",
    "        all_cats.append(None)\n",
    "        continue\n",
    "    group = groups[i]\n",
    "    lat = cat_lat[i]\n",
    "    long = cat_long[i]\n",
    "    cats = dict()\n",
    "    for cat in group:\n",
    "        cat_id = GetCatID(cat)\n",
    "        venue_url = \"https://api.foursquare.com/v2/venues/search?client_id={}&client_secret={}&v={}&ll={},{}&limit={}&radius={}&categoryId={}\"\\\n",
    "            .format(CLIENT_ID, CLIENT_SECRET, VERSION, lat, long, limit, loc_radius, cat_id)\n",
    "        venue_results = requests.get(venue_url).json()\n",
    "        venues = list()\n",
    "        if not venue_results[\"response\"][\"venues\"]:\n",
    "            venue_dict = dict()\n",
    "            venue_dict[\"ID\"] = np.nan\n",
    "            venue_dict[\"name\"] = np.nan\n",
    "            venue_dict[\"distance\"] = np.nan\n",
    "            venues.append(venue_dict)\n",
    "        else:\n",
    "            for venue in venue_results[\"response\"][\"venues\"]:\n",
    "                venue_dict = dict()\n",
    "                venue_dict[\"ID\"] = venue[\"id\"]\n",
    "                venue_dict[\"name\"] = venue[\"name\"]\n",
    "                venue_dict[\"distance\"] = venue[\"location\"][\"distance\"]\n",
    "                venues.append(venue_dict)\n",
    "        cats[cat] = venues\n",
    "    all_cats.append(cats)"
   ]
  },
  {
   "cell_type": "markdown",
   "metadata": {},
   "source": [
    "After a list of returned nearby venues by category is created, a dataframe is created for each point including its returned venues. This dataframe is then concatenated to form a complete dataframe of nearby venues in each category."
   ]
  },
  {
   "cell_type": "code",
   "execution_count": 41,
   "metadata": {},
   "outputs": [],
   "source": [
    "all_loc_cat = pd.DataFrame()\n",
    "for i in range(len(all_cats)):\n",
    "    if not all_cats[i]:\n",
    "        continue\n",
    "    all_cat_df = pd.DataFrame()\n",
    "    for k,v in all_cats[i].items():\n",
    "        cat_df = pd.DataFrame(all_cats[i][k])\n",
    "        cat_df[\"category\"] = k\n",
    "        all_cat_df = pd.concat([all_cat_df, cat_df], axis=0)\n",
    "    all_cat_df[\"Latitude\"] = cat_lat[i]\n",
    "    all_cat_df[\"Longitude\"] = cat_long[i]\n",
    "    all_loc_cat = pd.concat([all_loc_cat, all_cat_df], axis=0)"
   ]
  },
  {
   "cell_type": "markdown",
   "metadata": {},
   "source": [
    "The dataframe containing nearby venues is then grouped by location and category to determine minimum distance to a venue of that cateogory and the number of venues nearby in each category. If there are no nearby venues in that category, the grouped dataframe will include zero for number of venues nearby and null values for minimum distance."
   ]
  },
  {
   "cell_type": "code",
   "execution_count": 42,
   "metadata": {},
   "outputs": [],
   "source": [
    "loc_cat_agg = {\"distance\": \"min\", \"ID\": \"count\"}\n",
    "possible_df = all_loc_cat.groupby([\"Latitude\", \"Longitude\", \"category\"]).agg(loc_cat_agg)\n",
    "possible_df.reset_index(inplace=True)\n",
    "possible_df.rename(columns={\"distance\": \"min_dist\", \"ID\": \"num_nearby\"}, inplace=True)"
   ]
  },
  {
   "cell_type": "markdown",
   "metadata": {},
   "source": [
    "Below is the head of the dataframe containing category by coordinated with minimum distance to a venue in that category amd number of venues roughly within 1 km. The Foursquare call returns some venues that are outside of the radius given, so not all categories will have venues with minimum distance less than 1 km."
   ]
  },
  {
   "cell_type": "code",
   "execution_count": 43,
   "metadata": {},
   "outputs": [
    {
     "data": {
      "text/html": [
       "<div>\n",
       "<style scoped>\n",
       "    .dataframe tbody tr th:only-of-type {\n",
       "        vertical-align: middle;\n",
       "    }\n",
       "\n",
       "    .dataframe tbody tr th {\n",
       "        vertical-align: top;\n",
       "    }\n",
       "\n",
       "    .dataframe thead th {\n",
       "        text-align: right;\n",
       "    }\n",
       "</style>\n",
       "<table border=\"1\" class=\"dataframe\">\n",
       "  <thead>\n",
       "    <tr style=\"text-align: right;\">\n",
       "      <th></th>\n",
       "      <th>Latitude</th>\n",
       "      <th>Longitude</th>\n",
       "      <th>category</th>\n",
       "      <th>min_dist</th>\n",
       "      <th>num_nearby</th>\n",
       "    </tr>\n",
       "  </thead>\n",
       "  <tbody>\n",
       "    <tr>\n",
       "      <td>0</td>\n",
       "      <td>37.978356</td>\n",
       "      <td>-84.532091</td>\n",
       "      <td>American Restaurant</td>\n",
       "      <td>212.0</td>\n",
       "      <td>5</td>\n",
       "    </tr>\n",
       "    <tr>\n",
       "      <td>1</td>\n",
       "      <td>37.978356</td>\n",
       "      <td>-84.532091</td>\n",
       "      <td>German Restaurant</td>\n",
       "      <td>NaN</td>\n",
       "      <td>0</td>\n",
       "    </tr>\n",
       "    <tr>\n",
       "      <td>2</td>\n",
       "      <td>37.978356</td>\n",
       "      <td>-84.532091</td>\n",
       "      <td>Ice Cream Shop</td>\n",
       "      <td>456.0</td>\n",
       "      <td>3</td>\n",
       "    </tr>\n",
       "    <tr>\n",
       "      <td>3</td>\n",
       "      <td>37.978356</td>\n",
       "      <td>-84.532091</td>\n",
       "      <td>Liquor Store</td>\n",
       "      <td>1236.0</td>\n",
       "      <td>1</td>\n",
       "    </tr>\n",
       "    <tr>\n",
       "      <td>4</td>\n",
       "      <td>37.978356</td>\n",
       "      <td>-84.532091</td>\n",
       "      <td>Steakhouse</td>\n",
       "      <td>367.0</td>\n",
       "      <td>1</td>\n",
       "    </tr>\n",
       "  </tbody>\n",
       "</table>\n",
       "</div>"
      ],
      "text/plain": [
       "    Latitude  Longitude             category  min_dist  num_nearby\n",
       "0  37.978356 -84.532091  American Restaurant     212.0           5\n",
       "1  37.978356 -84.532091    German Restaurant       NaN           0\n",
       "2  37.978356 -84.532091       Ice Cream Shop     456.0           3\n",
       "3  37.978356 -84.532091         Liquor Store    1236.0           1\n",
       "4  37.978356 -84.532091           Steakhouse     367.0           1"
      ]
     },
     "execution_count": 43,
     "metadata": {},
     "output_type": "execute_result"
    }
   ],
   "source": [
    "possible_df.head()"
   ]
  },
  {
   "cell_type": "markdown",
   "metadata": {},
   "source": [
    "A metric for Keeneland visitor proximity was also derived. The first step in determing this metric for each point was grouping the dataframe including all visits within a 1 km radius by the location of each point. This was used to determine the number of visits within 1 km of each point."
   ]
  },
  {
   "cell_type": "code",
   "execution_count": 44,
   "metadata": {},
   "outputs": [],
   "source": [
    "loc_visits = loc_radius_df.groupby([\"Latitude\", \"Longitude\"]).sum()[[\"Visits\"]]\n",
    "loc_visits.reset_index(inplace=True)"
   ]
  },
  {
   "cell_type": "markdown",
   "metadata": {},
   "source": [
    "As the number of visits is an approximation, a function was created that takes in any number and rounds it to a certain number of significant figures."
   ]
  },
  {
   "cell_type": "code",
   "execution_count": 45,
   "metadata": {},
   "outputs": [],
   "source": [
    "def SigFigs(num, sig_figs):\n",
    "    \"\"\"\n",
    "    Takes number and rounds to certain number of significant figures.\n",
    "    \"\"\"\n",
    "    if num >= 1:\n",
    "        i = 0\n",
    "        while num // 10**i > 10:\n",
    "            i += 1\n",
    "    if num < 1:\n",
    "        i = -1\n",
    "        while num // 10**i == 0:\n",
    "            i-= 1\n",
    "    power_num = num * 10**-i\n",
    "    rounded = round(power_num, sig_figs-1)\n",
    "    return rounded * 10**i "
   ]
  },
  {
   "cell_type": "markdown",
   "metadata": {},
   "source": [
    "First, the number of signifant figures is set at 2 due to the high level of uncertainty. The minimum distance figure for locations without a nearby venue was set to 2 km, as the points are outside of a 1 km range but still likely not too far away from a venue of that category. \n",
    "\n",
    "The dataframe with visits within a 1 km radius by location was then merged with the dataframe containing data on proximity to nearby venues. Next the dataframe containing number of visits by category was merged with this dataframe. \n",
    "\n",
    "The number of visits within 1 km and the number of visits by category were then rounded to 2 significant figures using the **SigFigs** function. Finally the \"Category\" column was redundant and thus dropped.\n",
    "\n",
    "Thus, four metrics were derived for consideration in choosing a final venue: minimum distance to a venue in that category, number of venues in that category roughly within 1 km, number of visits within 1 km of the venue, and number of visits in that category."
   ]
  },
  {
   "cell_type": "code",
   "execution_count": 46,
   "metadata": {},
   "outputs": [],
   "source": [
    "sig_figs = 2\n",
    "\n",
    "possible_df[\"min_dist\"].fillna(2000,inplace=True)\n",
    "possible_df = pd.merge(possible_df, loc_visits, on=[\"Latitude\", \"Longitude\"])\n",
    "possible_df = pd.merge(possible_df, cat_visits, left_on=\"category\", right_on=\"Category\")\n",
    "possible_df.rename(columns={\"Visits_x\": \"RadiusVisits\", \"Visits_y\": \"CatVisits\"}, inplace=True)\n",
    "possible_df[\"RadiusVisits\"] = possible_df[\"RadiusVisits\"].apply(lambda x: SigFigs(x, sig_figs))\n",
    "possible_df[\"CatVisits\"] = possible_df[\"CatVisits\"].apply(lambda x: SigFigs(x, sig_figs))\n",
    "possible_df.drop(\"Category\", axis=1, inplace=True)"
   ]
  },
  {
   "cell_type": "markdown",
   "metadata": {},
   "source": [
    "In order to get a better understanding of the distribution of the four chosen metrics across all studied points, histogram subplots were generated for each metric. Each histogram was grouped using 30 bins, except for in category visits, which was grouped using 20 bins. \n",
    "\n",
    "As shown in the figure below, the minimum distance is skewed left with many of the points with nearby venues having a relatively short distance to those venues. However, there are a large number of venues with a 2 km minimum distance, which, as previously described, indicates that there were no nearby venues in that category within 1 km. The histogram for number of venues nearby indicates that again the distribution is skewed left, with most location category pairs having under 4 venues nearby. There is a sizable number of pairs with 0 nearby venues.\n",
    "\n",
    "Number of visits in a 1 km radius is heavily skewed left, with the vast majority of points having relatively very few visits. However, there is one area with vastly more visits, at around 97,000. This indicates that the number of visitors from Keeneland is highly concentrated in certain areas but relatively low at most locations. The number of visits in each category is again slightly left skewed, but relatively uniform."
   ]
  },
  {
   "cell_type": "code",
   "execution_count": 47,
   "metadata": {},
   "outputs": [
    {
     "data": {
      "image/png": "[encoded data removed]",
      "text/plain": [
       "<Figure size 1080x864 with 4 Axes>"
      ]
     },
     "metadata": {
      "needs_background": "light"
     },
     "output_type": "display_data"
    }
   ],
   "source": [
    "fig, ax = plt.subplots(2, 2, figsize=(15,12))\n",
    "ax[0,0].hist(\"min_dist\", bins=30, data=possible_df)\n",
    "ax[0,0].xaxis.set_major_formatter(FuncFormatter(lambda x, p: format(int(x), ',')))\n",
    "ax[0,0].set_xlabel(\"Minumum Distance from Category\", fontsize=14)\n",
    "ax[0,1].hist(\"num_nearby\", bins=30, data=possible_df)\n",
    "ax[0,1].set_xlabel(\"Venues Nearby in Category\", fontsize=14)\n",
    "ax[1,0].hist(\"RadiusVisits\", bins=30, data=possible_df)\n",
    "ax[1,0].set_xlabel(\"Visits in 1 km Radius\", fontsize=14)\n",
    "ax[1,1].hist(\"CatVisits\", bins=20, data=possible_df)\n",
    "ax[1,1].set_xlabel(\"Visits in Category\", fontsize=14)\n",
    "for i in range(2):\n",
    "    for j in range(2):\n",
    "        ax[i,j].set_ylabel(\"Count\", fontsize=14)\n",
    "        ax[i,j].grid(b=True)\n",
    "        if (i,j) != (0,1):\n",
    "            ax[i,j].xaxis.set_major_formatter(FuncFormatter(lambda x, p: format(int(x), ',')))           \n",
    "fig.suptitle(\"Distribution of evaluated metrics for all considered points\", y=0.95, fontsize=16)\n",
    "plt.show()"
   ]
  },
  {
   "cell_type": "markdown",
   "metadata": {},
   "source": [
    "A series of subplots was then used to further examine the distributions by category, shown in the figure below. These distributions are shown as boxplots for minimum distance from category, venues nearby, and visits in a 1 km radius. The outliers are excluded for this visualization. Because there are only 5 categories chosen, the visits by category is discrete and is shown again as a bar plot. American restaurants have the narrowest distribution for minimum distance with the lowest values for quartiles and median. This category also has the highest values for quartiles and median and the widest range for nearby venues. This indicates that American restaurants are widespread and numerous. \n",
    "\n",
    "Ice cream shops have the greatest range for minimum distance and the highest median and third quartile for number of venues nearby. These venues also appear to be nearby to a large number of pairs, while their distance from the pairs varies widely. Steakhouses appear to be the least common in nearby venues, with the by far the lowest third quartile. While the medians and ranges differ slightly, the number of visits within a 1 km radius seem to be fairly similarly distributed across all five categories. No single category is superior across all four metrics based on distribution."
   ]
  },
  {
   "cell_type": "code",
   "execution_count": 48,
   "metadata": {},
   "outputs": [
    {
     "data": {
      "image/png": "[encoded data removed]",
      "text/plain": [
       "<Figure size 1080x864 with 4 Axes>"
      ]
     },
     "metadata": {
      "needs_background": "light"
     },
     "output_type": "display_data"
    }
   ],
   "source": [
    "colors = [\"#173F5F\", \"#20639B\", \"#3CAEA3\", \"#F6D55C\", \"#ED553B\"]\n",
    "sns.set_palette(sns.color_palette(colors))\n",
    "fig, ax = plt.subplots(2, 2, figsize=(15,12))\n",
    "fig.subplots_adjust(hspace=.6,wspace=.3)\n",
    "sns.boxplot(x=\"category\", y=\"min_dist\", data=possible_df, showfliers=False, ax=ax[0,0])\n",
    "ax[0,0].set_ylabel(\"Minumum Distance from Category\", fontsize=14)\n",
    "sns.boxplot(x=\"category\", y=\"num_nearby\", data=possible_df, showfliers=False, ax=ax[0,1])\n",
    "ax[0,1].set_ylabel(\"Venues Nearby in Category\", fontsize=14)\n",
    "sns.boxplot(x=\"category\", y=\"RadiusVisits\", data=possible_df, showfliers=False, ax=ax[1,0])\n",
    "ax[1,0].set_ylabel(\"Visits in 1 km Radius\", fontsize=14)\n",
    "ax[1,1].bar(x=\"category\", height=\"CatVisits\", \n",
    "            data=possible_df.groupby(\"category\").agg(\"first\").reset_index(), color=colors)\n",
    "ax[1,1].set_ylabel(\"Visits in Category\", fontsize=14)\n",
    "for i in range(2):\n",
    "    for j in range(2):\n",
    "        ax[i,j].set_xlabel(\"Category\", fontsize=14)\n",
    "        ax[i,j].set_xticklabels(possible_df[\"category\"].unique(), rotation=45, ha=\"right\")\n",
    "        ax[i,j].grid(b=True)\n",
    "        if (i,j) != (0,1):\n",
    "            ax[i,j].yaxis.set_major_formatter(FuncFormatter(lambda x, p: format(int(x), ',')))\n",
    "fig.suptitle(\"Distribution of evaluated metrics for all considered categories\", y=0.95, fontsize=16)\n",
    "plt.show()"
   ]
  },
  {
   "cell_type": "markdown",
   "metadata": {},
   "source": [
    "### Final location-categories choice"
   ]
  },
  {
   "cell_type": "markdown",
   "metadata": {},
   "source": [
    "A function was created to determine which category-point pairs were most ideal. This is accomplished by filtering out points deemed inherently inferior. To be inherently inferior, a pair has to be inferior to at least one other point in one metric and either equal to or inferior to that point in all other metrics. This function takes a dataframe, an index of the point considered, and a dictionary of the column index of considered metrics and whether the superior value of this metric is \"high\" or \"low\". It then returns whether the point is ideal."
   ]
  },
  {
   "cell_type": "code",
   "execution_count": 49,
   "metadata": {},
   "outputs": [],
   "source": [
    "def FindIdeal(df, start, index_dir):\n",
    "    \"\"\"\n",
    "    Determines whether a point is ideal based on criteria given \n",
    "    by their column index and direction (index_dir). Takes index_dir\n",
    "    in form {index:dir} where dir is 'low' indicating low values are ideal\n",
    "    or 'high' indicating high values are ideal. Also takes df and start row\n",
    "    index that is studied.\n",
    "    \"\"\"\n",
    "    all_s = list()\n",
    "    for i in range(df.shape[0]):\n",
    "        s = 0\n",
    "        for k,v in index_dir.items():\n",
    "            best1 = df.iloc[start,k]\n",
    "            best2 = df.iloc[i, k]\n",
    "            if best1 == best2:\n",
    "                continue\n",
    "            if v == \"high\":\n",
    "                if best1 > best2:\n",
    "                    s = 0\n",
    "                    break\n",
    "                else:\n",
    "                    s -= 1\n",
    "            elif v == \"low\":\n",
    "                if best1 < best2:\n",
    "                    s = 0\n",
    "                    break\n",
    "                else:\n",
    "                    s -= 1\n",
    "        all_s.append(s)\n",
    "    return sum(all_s) == 0"
   ]
  },
  {
   "cell_type": "markdown",
   "metadata": {},
   "source": [
    "The address of each ideal pair was also required in order to better present possible locations to developers. These addresses were determined using the Google Maps Geocoding API (Google, 2020). This API has a query that determines the address of a point based on its coordinates. A function was created to streamline this process."
   ]
  },
  {
   "cell_type": "code",
   "execution_count": 58,
   "metadata": {},
   "outputs": [],
   "source": [
    "GOOGLE_API_KEY = os.getenv('GOOGLE_KEY')\n",
    "\n",
    "def FindAddress(lat, long):\n",
    "    \"\"\"\n",
    "    Relies on Google Maps Geocoding API to match coordinates of a point with the point's address.\n",
    "    \"\"\"\n",
    "    geo_url = \"https://maps.googleapis.com/maps/api/geocode/json?latlng={},{}&key={}\"\\\n",
    "        .format(lat, long, GOOGLE_API_KEY)\n",
    "    geo_json = requests.get(geo_url).json()\n",
    "    return geo_json[\"results\"][0][\"formatted_address\"]"
   ]
  },
  {
   "cell_type": "code",
   "execution_count": 59,
   "metadata": {},
   "outputs": [],
   "source": [
    "GOOGLE_API_KEY"
   ]
  },
  {
   "cell_type": "markdown",
   "metadata": {},
   "source": [
    "The index of the column of each metric and the desired direction are first included in a dictionary, as is required by the **FindIdeal** function. This function is then used to find ideal locations. The **FindAddress** function is then used to determine the address of each of these ideal pairs."
   ]
  },
  {
   "cell_type": "code",
   "execution_count": 60,
   "metadata": {},
   "outputs": [
    {
     "ename": "IndexError",
     "evalue": "('list index out of range', 'occurred at index 132')",
     "output_type": "error",
     "traceback": [
      "\u001b[0;31m---------------------------------------------------------------------------\u001b[0m",
      "\u001b[0;31mIndexError\u001b[0m                                Traceback (most recent call last)",
      "\u001b[0;32m<ipython-input-60-6918f330d239>\u001b[0m in \u001b[0;36m<module>\u001b[0;34m\u001b[0m\n\u001b[1;32m      2\u001b[0m \u001b[0;34m\u001b[0m\u001b[0m\n\u001b[1;32m      3\u001b[0m \u001b[0mbest_options\u001b[0m \u001b[0;34m=\u001b[0m \u001b[0mpossible_df\u001b[0m\u001b[0;34m[\u001b[0m\u001b[0;34m[\u001b[0m\u001b[0mFindIdeal\u001b[0m\u001b[0;34m(\u001b[0m\u001b[0mpossible_df\u001b[0m\u001b[0;34m,\u001b[0m \u001b[0mi\u001b[0m\u001b[0;34m,\u001b[0m \u001b[0mindex_dir\u001b[0m\u001b[0;34m)\u001b[0m \u001b[0;32mfor\u001b[0m \u001b[0mi\u001b[0m \u001b[0;32min\u001b[0m \u001b[0mrange\u001b[0m\u001b[0;34m(\u001b[0m\u001b[0mpossible_df\u001b[0m\u001b[0;34m.\u001b[0m\u001b[0mshape\u001b[0m\u001b[0;34m[\u001b[0m\u001b[0;36m0\u001b[0m\u001b[0;34m]\u001b[0m\u001b[0;34m)\u001b[0m\u001b[0;34m]\u001b[0m\u001b[0;34m]\u001b[0m\u001b[0;34m.\u001b[0m\u001b[0mcopy\u001b[0m\u001b[0;34m(\u001b[0m\u001b[0;34m)\u001b[0m\u001b[0;34m\u001b[0m\u001b[0;34m\u001b[0m\u001b[0m\n\u001b[0;32m----> 4\u001b[0;31m \u001b[0mbest_options\u001b[0m\u001b[0;34m.\u001b[0m\u001b[0mloc\u001b[0m\u001b[0;34m[\u001b[0m\u001b[0;34m:\u001b[0m\u001b[0;34m,\u001b[0m \u001b[0;34m\"Address\"\u001b[0m\u001b[0;34m]\u001b[0m \u001b[0;34m=\u001b[0m \u001b[0mbest_options\u001b[0m\u001b[0;34m.\u001b[0m\u001b[0mapply\u001b[0m\u001b[0;34m(\u001b[0m\u001b[0;32mlambda\u001b[0m \u001b[0mx\u001b[0m\u001b[0;34m:\u001b[0m \u001b[0mFindAddress\u001b[0m\u001b[0;34m(\u001b[0m\u001b[0mx\u001b[0m\u001b[0;34m[\u001b[0m\u001b[0;36m0\u001b[0m\u001b[0;34m]\u001b[0m\u001b[0;34m,\u001b[0m \u001b[0mx\u001b[0m\u001b[0;34m[\u001b[0m\u001b[0;36m1\u001b[0m\u001b[0;34m]\u001b[0m\u001b[0;34m)\u001b[0m\u001b[0;34m,\u001b[0m \u001b[0maxis\u001b[0m\u001b[0;34m=\u001b[0m\u001b[0;36m1\u001b[0m\u001b[0;34m)\u001b[0m\u001b[0;34m\u001b[0m\u001b[0;34m\u001b[0m\u001b[0m\n\u001b[0m",
      "\u001b[0;32m/opt/anaconda3/lib/python3.7/site-packages/pandas/core/frame.py\u001b[0m in \u001b[0;36mapply\u001b[0;34m(self, func, axis, broadcast, raw, reduce, result_type, args, **kwds)\u001b[0m\n\u001b[1;32m   6911\u001b[0m             \u001b[0mkwds\u001b[0m\u001b[0;34m=\u001b[0m\u001b[0mkwds\u001b[0m\u001b[0;34m,\u001b[0m\u001b[0;34m\u001b[0m\u001b[0;34m\u001b[0m\u001b[0m\n\u001b[1;32m   6912\u001b[0m         )\n\u001b[0;32m-> 6913\u001b[0;31m         \u001b[0;32mreturn\u001b[0m \u001b[0mop\u001b[0m\u001b[0;34m.\u001b[0m\u001b[0mget_result\u001b[0m\u001b[0;34m(\u001b[0m\u001b[0;34m)\u001b[0m\u001b[0;34m\u001b[0m\u001b[0;34m\u001b[0m\u001b[0m\n\u001b[0m\u001b[1;32m   6914\u001b[0m \u001b[0;34m\u001b[0m\u001b[0m\n\u001b[1;32m   6915\u001b[0m     \u001b[0;32mdef\u001b[0m \u001b[0mapplymap\u001b[0m\u001b[0;34m(\u001b[0m\u001b[0mself\u001b[0m\u001b[0;34m,\u001b[0m \u001b[0mfunc\u001b[0m\u001b[0;34m)\u001b[0m\u001b[0;34m:\u001b[0m\u001b[0;34m\u001b[0m\u001b[0;34m\u001b[0m\u001b[0m\n",
      "\u001b[0;32m/opt/anaconda3/lib/python3.7/site-packages/pandas/core/apply.py\u001b[0m in \u001b[0;36mget_result\u001b[0;34m(self)\u001b[0m\n\u001b[1;32m    184\u001b[0m             \u001b[0;32mreturn\u001b[0m \u001b[0mself\u001b[0m\u001b[0;34m.\u001b[0m\u001b[0mapply_raw\u001b[0m\u001b[0;34m(\u001b[0m\u001b[0;34m)\u001b[0m\u001b[0;34m\u001b[0m\u001b[0;34m\u001b[0m\u001b[0m\n\u001b[1;32m    185\u001b[0m \u001b[0;34m\u001b[0m\u001b[0m\n\u001b[0;32m--> 186\u001b[0;31m         \u001b[0;32mreturn\u001b[0m \u001b[0mself\u001b[0m\u001b[0;34m.\u001b[0m\u001b[0mapply_standard\u001b[0m\u001b[0;34m(\u001b[0m\u001b[0;34m)\u001b[0m\u001b[0;34m\u001b[0m\u001b[0;34m\u001b[0m\u001b[0m\n\u001b[0m\u001b[1;32m    187\u001b[0m \u001b[0;34m\u001b[0m\u001b[0m\n\u001b[1;32m    188\u001b[0m     \u001b[0;32mdef\u001b[0m \u001b[0mapply_empty_result\u001b[0m\u001b[0;34m(\u001b[0m\u001b[0mself\u001b[0m\u001b[0;34m)\u001b[0m\u001b[0;34m:\u001b[0m\u001b[0;34m\u001b[0m\u001b[0;34m\u001b[0m\u001b[0m\n",
      "\u001b[0;32m/opt/anaconda3/lib/python3.7/site-packages/pandas/core/apply.py\u001b[0m in \u001b[0;36mapply_standard\u001b[0;34m(self)\u001b[0m\n\u001b[1;32m    290\u001b[0m \u001b[0;34m\u001b[0m\u001b[0m\n\u001b[1;32m    291\u001b[0m         \u001b[0;31m# compute the result using the series generator\u001b[0m\u001b[0;34m\u001b[0m\u001b[0;34m\u001b[0m\u001b[0;34m\u001b[0m\u001b[0m\n\u001b[0;32m--> 292\u001b[0;31m         \u001b[0mself\u001b[0m\u001b[0;34m.\u001b[0m\u001b[0mapply_series_generator\u001b[0m\u001b[0;34m(\u001b[0m\u001b[0;34m)\u001b[0m\u001b[0;34m\u001b[0m\u001b[0;34m\u001b[0m\u001b[0m\n\u001b[0m\u001b[1;32m    293\u001b[0m \u001b[0;34m\u001b[0m\u001b[0m\n\u001b[1;32m    294\u001b[0m         \u001b[0;31m# wrap results\u001b[0m\u001b[0;34m\u001b[0m\u001b[0;34m\u001b[0m\u001b[0;34m\u001b[0m\u001b[0m\n",
      "\u001b[0;32m/opt/anaconda3/lib/python3.7/site-packages/pandas/core/apply.py\u001b[0m in \u001b[0;36mapply_series_generator\u001b[0;34m(self)\u001b[0m\n\u001b[1;32m    319\u001b[0m             \u001b[0;32mtry\u001b[0m\u001b[0;34m:\u001b[0m\u001b[0;34m\u001b[0m\u001b[0;34m\u001b[0m\u001b[0m\n\u001b[1;32m    320\u001b[0m                 \u001b[0;32mfor\u001b[0m \u001b[0mi\u001b[0m\u001b[0;34m,\u001b[0m \u001b[0mv\u001b[0m \u001b[0;32min\u001b[0m \u001b[0menumerate\u001b[0m\u001b[0;34m(\u001b[0m\u001b[0mseries_gen\u001b[0m\u001b[0;34m)\u001b[0m\u001b[0;34m:\u001b[0m\u001b[0;34m\u001b[0m\u001b[0;34m\u001b[0m\u001b[0m\n\u001b[0;32m--> 321\u001b[0;31m                     \u001b[0mresults\u001b[0m\u001b[0;34m[\u001b[0m\u001b[0mi\u001b[0m\u001b[0;34m]\u001b[0m \u001b[0;34m=\u001b[0m \u001b[0mself\u001b[0m\u001b[0;34m.\u001b[0m\u001b[0mf\u001b[0m\u001b[0;34m(\u001b[0m\u001b[0mv\u001b[0m\u001b[0;34m)\u001b[0m\u001b[0;34m\u001b[0m\u001b[0;34m\u001b[0m\u001b[0m\n\u001b[0m\u001b[1;32m    322\u001b[0m                     \u001b[0mkeys\u001b[0m\u001b[0;34m.\u001b[0m\u001b[0mappend\u001b[0m\u001b[0;34m(\u001b[0m\u001b[0mv\u001b[0m\u001b[0;34m.\u001b[0m\u001b[0mname\u001b[0m\u001b[0;34m)\u001b[0m\u001b[0;34m\u001b[0m\u001b[0;34m\u001b[0m\u001b[0m\n\u001b[1;32m    323\u001b[0m             \u001b[0;32mexcept\u001b[0m \u001b[0mException\u001b[0m \u001b[0;32mas\u001b[0m \u001b[0me\u001b[0m\u001b[0;34m:\u001b[0m\u001b[0;34m\u001b[0m\u001b[0;34m\u001b[0m\u001b[0m\n",
      "\u001b[0;32m<ipython-input-60-6918f330d239>\u001b[0m in \u001b[0;36m<lambda>\u001b[0;34m(x)\u001b[0m\n\u001b[1;32m      2\u001b[0m \u001b[0;34m\u001b[0m\u001b[0m\n\u001b[1;32m      3\u001b[0m \u001b[0mbest_options\u001b[0m \u001b[0;34m=\u001b[0m \u001b[0mpossible_df\u001b[0m\u001b[0;34m[\u001b[0m\u001b[0;34m[\u001b[0m\u001b[0mFindIdeal\u001b[0m\u001b[0;34m(\u001b[0m\u001b[0mpossible_df\u001b[0m\u001b[0;34m,\u001b[0m \u001b[0mi\u001b[0m\u001b[0;34m,\u001b[0m \u001b[0mindex_dir\u001b[0m\u001b[0;34m)\u001b[0m \u001b[0;32mfor\u001b[0m \u001b[0mi\u001b[0m \u001b[0;32min\u001b[0m \u001b[0mrange\u001b[0m\u001b[0;34m(\u001b[0m\u001b[0mpossible_df\u001b[0m\u001b[0;34m.\u001b[0m\u001b[0mshape\u001b[0m\u001b[0;34m[\u001b[0m\u001b[0;36m0\u001b[0m\u001b[0;34m]\u001b[0m\u001b[0;34m)\u001b[0m\u001b[0;34m]\u001b[0m\u001b[0;34m]\u001b[0m\u001b[0;34m.\u001b[0m\u001b[0mcopy\u001b[0m\u001b[0;34m(\u001b[0m\u001b[0;34m)\u001b[0m\u001b[0;34m\u001b[0m\u001b[0;34m\u001b[0m\u001b[0m\n\u001b[0;32m----> 4\u001b[0;31m \u001b[0mbest_options\u001b[0m\u001b[0;34m.\u001b[0m\u001b[0mloc\u001b[0m\u001b[0;34m[\u001b[0m\u001b[0;34m:\u001b[0m\u001b[0;34m,\u001b[0m \u001b[0;34m\"Address\"\u001b[0m\u001b[0;34m]\u001b[0m \u001b[0;34m=\u001b[0m \u001b[0mbest_options\u001b[0m\u001b[0;34m.\u001b[0m\u001b[0mapply\u001b[0m\u001b[0;34m(\u001b[0m\u001b[0;32mlambda\u001b[0m \u001b[0mx\u001b[0m\u001b[0;34m:\u001b[0m \u001b[0mFindAddress\u001b[0m\u001b[0;34m(\u001b[0m\u001b[0mx\u001b[0m\u001b[0;34m[\u001b[0m\u001b[0;36m0\u001b[0m\u001b[0;34m]\u001b[0m\u001b[0;34m,\u001b[0m \u001b[0mx\u001b[0m\u001b[0;34m[\u001b[0m\u001b[0;36m1\u001b[0m\u001b[0;34m]\u001b[0m\u001b[0;34m)\u001b[0m\u001b[0;34m,\u001b[0m \u001b[0maxis\u001b[0m\u001b[0;34m=\u001b[0m\u001b[0;36m1\u001b[0m\u001b[0;34m)\u001b[0m\u001b[0;34m\u001b[0m\u001b[0;34m\u001b[0m\u001b[0m\n\u001b[0m",
      "\u001b[0;32m<ipython-input-58-42db38289469>\u001b[0m in \u001b[0;36mFindAddress\u001b[0;34m(lat, long)\u001b[0m\n\u001b[1;32m      8\u001b[0m         \u001b[0;34m.\u001b[0m\u001b[0mformat\u001b[0m\u001b[0;34m(\u001b[0m\u001b[0mlat\u001b[0m\u001b[0;34m,\u001b[0m \u001b[0mlong\u001b[0m\u001b[0;34m,\u001b[0m \u001b[0mGOOGLE_API_KEY\u001b[0m\u001b[0;34m)\u001b[0m\u001b[0;34m\u001b[0m\u001b[0;34m\u001b[0m\u001b[0m\n\u001b[1;32m      9\u001b[0m     \u001b[0mgeo_json\u001b[0m \u001b[0;34m=\u001b[0m \u001b[0mrequests\u001b[0m\u001b[0;34m.\u001b[0m\u001b[0mget\u001b[0m\u001b[0;34m(\u001b[0m\u001b[0mgeo_url\u001b[0m\u001b[0;34m)\u001b[0m\u001b[0;34m.\u001b[0m\u001b[0mjson\u001b[0m\u001b[0;34m(\u001b[0m\u001b[0;34m)\u001b[0m\u001b[0;34m\u001b[0m\u001b[0;34m\u001b[0m\u001b[0m\n\u001b[0;32m---> 10\u001b[0;31m     \u001b[0;32mreturn\u001b[0m \u001b[0mgeo_json\u001b[0m\u001b[0;34m[\u001b[0m\u001b[0;34m\"results\"\u001b[0m\u001b[0;34m]\u001b[0m\u001b[0;34m[\u001b[0m\u001b[0;36m0\u001b[0m\u001b[0;34m]\u001b[0m\u001b[0;34m[\u001b[0m\u001b[0;34m\"formatted_address\"\u001b[0m\u001b[0;34m]\u001b[0m\u001b[0;34m\u001b[0m\u001b[0;34m\u001b[0m\u001b[0m\n\u001b[0m",
      "\u001b[0;31mIndexError\u001b[0m: ('list index out of range', 'occurred at index 132')"
     ]
    }
   ],
   "source": [
    "index_dir = {3: \"high\", 4: \"low\", 5: \"high\", 6: \"high\"}\n",
    "\n",
    "best_options = possible_df[[FindIdeal(possible_df, i, index_dir) for i in range(possible_df.shape[0])]].copy()\n",
    "best_options.loc[:, \"Address\"] = best_options.apply(lambda x: FindAddress(x[0], x[1]), axis=1)\n"
   ]
  },
  {
   "cell_type": "markdown",
   "metadata": {},
   "source": [
    "## Results"
   ]
  },
  {
   "cell_type": "markdown",
   "metadata": {},
   "source": [
    "Finally, the best location category pairs were obtained. As seen below the pairs chosen span three categories: ice cream shop, liquor store, and steakhouse. All but the steakhouse location on Southland Drive and the steakhouse location on Beaumont Centre Circle have no venues in the same category located within 1 km. All pairs had a high number of visits by category and all but the steakhouse on Virginia Avenue had more than 5,000 visits within a 1 km radius. Both ice cream shop locations are located in close proximity to each other, as are the liquor stores locations to each other. "
   ]
  },
  {
   "cell_type": "code",
   "execution_count": 61,
   "metadata": {},
   "outputs": [
    {
     "data": {
      "text/html": [
       "<div>\n",
       "<style scoped>\n",
       "    .dataframe tbody tr th:only-of-type {\n",
       "        vertical-align: middle;\n",
       "    }\n",
       "\n",
       "    .dataframe tbody tr th {\n",
       "        vertical-align: top;\n",
       "    }\n",
       "\n",
       "    .dataframe thead th {\n",
       "        text-align: right;\n",
       "    }\n",
       "</style>\n",
       "<table border=\"1\" class=\"dataframe\">\n",
       "  <thead>\n",
       "    <tr style=\"text-align: right;\">\n",
       "      <th></th>\n",
       "      <th>Latitude</th>\n",
       "      <th>Longitude</th>\n",
       "      <th>category</th>\n",
       "      <th>min_dist</th>\n",
       "      <th>num_nearby</th>\n",
       "      <th>RadiusVisits</th>\n",
       "      <th>CatVisits</th>\n",
       "    </tr>\n",
       "  </thead>\n",
       "  <tbody>\n",
       "    <tr>\n",
       "      <td>132</td>\n",
       "      <td>38.014208</td>\n",
       "      <td>-84.520193</td>\n",
       "      <td>Ice Cream Shop</td>\n",
       "      <td>2000.0</td>\n",
       "      <td>0</td>\n",
       "      <td>8600.0</td>\n",
       "      <td>19000.0</td>\n",
       "    </tr>\n",
       "    <tr>\n",
       "      <td>133</td>\n",
       "      <td>38.014280</td>\n",
       "      <td>-84.523608</td>\n",
       "      <td>Ice Cream Shop</td>\n",
       "      <td>2000.0</td>\n",
       "      <td>0</td>\n",
       "      <td>8600.0</td>\n",
       "      <td>19000.0</td>\n",
       "    </tr>\n",
       "    <tr>\n",
       "      <td>187</td>\n",
       "      <td>38.002625</td>\n",
       "      <td>-84.573761</td>\n",
       "      <td>Liquor Store</td>\n",
       "      <td>2000.0</td>\n",
       "      <td>0</td>\n",
       "      <td>97000.0</td>\n",
       "      <td>12000.0</td>\n",
       "    </tr>\n",
       "    <tr>\n",
       "      <td>190</td>\n",
       "      <td>38.005326</td>\n",
       "      <td>-84.573672</td>\n",
       "      <td>Liquor Store</td>\n",
       "      <td>2000.0</td>\n",
       "      <td>0</td>\n",
       "      <td>97000.0</td>\n",
       "      <td>12000.0</td>\n",
       "    </tr>\n",
       "    <tr>\n",
       "      <td>251</td>\n",
       "      <td>38.019755</td>\n",
       "      <td>-84.526841</td>\n",
       "      <td>Steakhouse</td>\n",
       "      <td>1123.0</td>\n",
       "      <td>1</td>\n",
       "      <td>6800.0</td>\n",
       "      <td>46000.0</td>\n",
       "    </tr>\n",
       "    <tr>\n",
       "      <td>252</td>\n",
       "      <td>38.021252</td>\n",
       "      <td>-84.559478</td>\n",
       "      <td>Steakhouse</td>\n",
       "      <td>839.0</td>\n",
       "      <td>1</td>\n",
       "      <td>24000.0</td>\n",
       "      <td>46000.0</td>\n",
       "    </tr>\n",
       "    <tr>\n",
       "      <td>258</td>\n",
       "      <td>38.035280</td>\n",
       "      <td>-84.508228</td>\n",
       "      <td>Steakhouse</td>\n",
       "      <td>2000.0</td>\n",
       "      <td>0</td>\n",
       "      <td>320.0</td>\n",
       "      <td>46000.0</td>\n",
       "    </tr>\n",
       "  </tbody>\n",
       "</table>\n",
       "</div>"
      ],
      "text/plain": [
       "      Latitude  Longitude        category  min_dist  num_nearby  RadiusVisits  \\\n",
       "132  38.014208 -84.520193  Ice Cream Shop    2000.0           0        8600.0   \n",
       "133  38.014280 -84.523608  Ice Cream Shop    2000.0           0        8600.0   \n",
       "187  38.002625 -84.573761    Liquor Store    2000.0           0       97000.0   \n",
       "190  38.005326 -84.573672    Liquor Store    2000.0           0       97000.0   \n",
       "251  38.019755 -84.526841      Steakhouse    1123.0           1        6800.0   \n",
       "252  38.021252 -84.559478      Steakhouse     839.0           1       24000.0   \n",
       "258  38.035280 -84.508228      Steakhouse    2000.0           0         320.0   \n",
       "\n",
       "     CatVisits  \n",
       "132    19000.0  \n",
       "133    19000.0  \n",
       "187    12000.0  \n",
       "190    12000.0  \n",
       "251    46000.0  \n",
       "252    46000.0  \n",
       "258    46000.0  "
      ]
     },
     "execution_count": 61,
     "metadata": {},
     "output_type": "execute_result"
    }
   ],
   "source": [
    "best_options"
   ]
  },
  {
   "cell_type": "markdown",
   "metadata": {},
   "source": [
    "Shown in the figure below are the final chosen locations for location category pairs again shown overlaid with the heatmap of existing visited Keenland venues. Most of the pairs are closely aligned with clusters of visited locations. However, the steakhouse venue on Virginia Avenue, shown as the only singular marker, does not seem to be aligned with visited areas, although it is not too far from several clusters both downtown and along Harrodsburg Road. This is reflected in the best_options dataframe, as this location has significantly fewer visits in a 1 km radius. Although there is no venue nearby, the lack of nearby visits may indicate that this pair is less favorable than other locations. As previously described, many of the other pairs are clustered in similar areas that align with clusters of visited venues."
   ]
  },
  {
   "cell_type": "code",
   "execution_count": 62,
   "metadata": {},
   "outputs": [
    {
     "data": {
      "text/html": [
       "<div style=\"width:100%;\"><div style=\"position:relative;width:100%;height:0;padding-bottom:60%;\"><span style=\"color:#565656\">Make this Notebook Trusted to load map: File -> Trust Notebook</span><iframe src=\"about:blank\" style=\"position:absolute;width:100%;height:100%;left:0;top:0;border:none !important;\" data-html=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 onload=\"this.contentDocument.open();this.contentDocument.write(atob(this.getAttribute('data-html')));this.contentDocument.close();\" allowfullscreen webkitallowfullscreen mozallowfullscreen></iframe></div></div>"
      ],
      "text/plain": [
       "<folium.folium.Map at 0x7fa5d3d364d0>"
      ]
     },
     "execution_count": 62,
     "metadata": {},
     "output_type": "execute_result"
    }
   ],
   "source": [
    "lex_urban_arr = lex_urban[[\"Latitude\", \"Longitude\"]].values\n",
    "\n",
    "lex_lat = 38.0406\n",
    "lex_long = -84.5037\n",
    "\n",
    "lex_map = folium.Map(location=[lex_lat, lex_long], zoom_start=12)\n",
    "lex_cats = plugins.MarkerCluster().add_to(lex_map)\n",
    "\n",
    "\n",
    "for lat, lng, label, in zip(best_options.Latitude, best_options.Longitude, \n",
    "                            best_options.category):\n",
    "    folium.Marker(\n",
    "        location=[lat, lng],\n",
    "        icon=None,\n",
    "        popup=label,\n",
    "    ).add_to(lex_cats) \n",
    "\n",
    "lex_map.add_child(plugins.HeatMap(lex_urban_arr, radius=15))\n",
    "    \n",
    "lex_map"
   ]
  },
  {
   "cell_type": "markdown",
   "metadata": {},
   "source": [
    "## Discussion"
   ]
  },
  {
   "cell_type": "markdown",
   "metadata": {},
   "source": [
    "The impact of Keeneland on Lexington’s economy is vast and affects numerous areas based on the analysis of next venues. However, the number of visits is highly concentrated in a few areas, which impacts the relative favorability of location choice in developing a new venue. Additionally, the number of visits is heavily dominated by a few categories. These categories vary widely in their distance from studied pairs and number of venues within 1 km of the studied pairs. However, the majority of most ideal locations did not have any nearby venues in their categories. \n",
    "\n",
    "While there are relatively few locations category pairs that are not inherently inferior based on the metrics studies, these pairs all have varying strengths and weaknesses. The decision on which venue to develop will depend on how the developer weighs the importance of each metric and what type of venue the developer plans to open. If catering more to the Keeneland crowd specifically is deemed more important, the number of visits within 1 km and the number of visits within each category would be most relevant. Based on number of visits in the area, opening a liquor store at either of the two nearby locations would be preferable. Alternatively, if the developer is concerned primarily with opening a venue that is proven popular among visitors to Keeneland, opening a steakhouse would be most ideal.\n",
    "\n",
    "While developers looking to attract visitors from Keeneland must consider popularity of the category and area among Keeneland visitors, they must also consider how heavily concentrated that location already is with venues of the category. Thus, if a developer is more concerned with how feasible a venue is based on the number of venues of that category nearby and not frequented by Keeneland goers, the number of venues in that category within 1 km and the minimum distance to a venue in that category would be more important. Based on these metrics, all venues except for the steakhouse on Southland Drive and on Beaumont Centre Circle would be ideal as no venues in that category are within 1 km."
   ]
  },
  {
   "cell_type": "markdown",
   "metadata": {},
   "source": [
    "## Conclusion"
   ]
  },
  {
   "cell_type": "markdown",
   "metadata": {},
   "source": [
    "The focus of this project was determining an ideal location and category for placement of a venue catering to visitors from Keeneland. To determine this location, the number of visitors from Keeneland to various venues in Lexington was first determined using the Foursquare API next venues query tool and a weighing technique. The resulting weights and results were then grouped and clustered to determine ideal locations for venue placement. Locations were generated at 300 m intervals up to 1.5 km away from the cluster center. \n",
    "\n",
    "The distance from each visited venue to each location was measured, and the categories of venues within 1 km were determined. In addition, the categories of visited venues were grouped and ordered based on number of visitors. The top categories were chosen and the top categories of visited venue not located within 1 km of each location were found. \n",
    "\n",
    "After the top categories using visited venues that were not located near each point were found, the study was broadened to include all venues within 1 km. The Foursquare API nearby venues query tool was used to find all such venues nearby. Then, these venues were grouped by category, and the minimum distance of each location to the category and the total number of venues of that category roughly within 1 km were calculated.\n",
    "\n",
    "Based on the number of visits within 1 km, number of visits in the category, minimum distance to a venue in the category, and the number of venues of the category roughly within 1 km, the final location category pairs were determined. These pairs were found by filtering out pairs that were inherently inferior to other pairs using these four metrics. The pairs are shown in the best_options dataframe. These pairs each have varying strengths and weaknesses that must be weighed by the developer to determine final placement for a new venue. The focus of the venue can be used as the basis for deciding a final venue location. \n",
    "\n",
    "In addition to these metrics, additional metrics not included in this study can be used as the basis for deciding upon a final location. These metrics include the demographics of the studied neighborhood, the number of visits in the area for all visitors, not just those from Keeneland, and the availability of each location based on which businesses are already there and the willingness of the business owner to sell. However, this study focused solely on the impact from Keeneland, and as such provided developers with a number of venues with which to capitalize on the extensive impact of the racetrack on the local economy."
   ]
  },
  {
   "cell_type": "markdown",
   "metadata": {},
   "source": [
    "## References"
   ]
  },
  {
   "cell_type": "markdown",
   "metadata": {},
   "source": [
    "Bollinger, C. R. (2015). A Measure of the Economic Impact of Keeneland Racing and Sales on Lexington-Fayette County. Lexington: University of Kentucky.\n",
    "\n",
    "Breeders' Cup. (2015, November 17). Press Releases. Retrieved from breederscup.com: https://www.breederscup.com/media-center/press-releases/2015-11-17\n",
    "\n",
    "Foursquare. (2020). Documentation, Places API. Retrieved from developer.foursquare.com: https://developer.foursquare.com/docs/places-api/\n",
    "\n",
    "Google. (2020, June 5). Geocoding API. Retrieved from developers.google.com: https://developers.google.com/maps/documentation/geocoding/start?utm_source=google&utm_medium=cpc&utm_campaign=FY18-Q2-global-demandgen-paidsearchonnetworkhouseads-cs-maps_contactsal_saf&utm_content=text-ad-none-none-DEV_c-CRE_433476780160-ADGP_Hybrid+%7C\n",
    "\n",
    "Keeneland. (2019, April 26). Keeneland Closes 2019 Spring Meet With Strong Attendance And Wagering Results. Retrieved from keeneland.com: https://www.keeneland.com/media/news/keeneland-closes-2019-spring-meet-strong-attendance-and-wagering-results\n",
    "\n",
    "Keeneland. (2019, October 26). Strong Attendance And Community Events Highlight Keeneland Fall Meet. Retrieved from keeneland.com: https://keeneland.com/media/news/strong-attendance-and-community-events-highlight-keeneland-fall-meet\n",
    "\n",
    "LFUCG. (2020, January 29). Zoning. Retrieved from data.lexingtonky.gov: https://data.lexingtonky.gov/dataset/zoning\n",
    "\n",
    "LFUCG Planning Office. (2020). Zoning Ordinance Article 8: Schedule of Zones. Lexington, KY: LFUCG.\n",
    "\n",
    "Staff, H. L. (2019, June 26). Record purses, 10 Breeders’ Cup berths await Keeneland Fall Meet competitors. Lexington Herald Leader.\n",
    "\n",
    "US Census Bureau. (2019, July 1). QuickFacts Lexington-Fayette, Kentucky. Retrieved from census.gov: https://www.census.gov/quickfacts/lexingtonfayettekentuck\n",
    "\n",
    "US Census Bureau. (2019, June 20). TIGER/Line Shapefile, 2017, state, Kentucky, Current Block Group State-based. Retrieved from Data.gov: https://catalog.data.gov/dataset/tiger-line-shapefile-2017-state-kentucky-current-block-group-state-based"
   ]
  },
  {
   "cell_type": "code",
   "execution_count": null,
   "metadata": {},
   "outputs": [],
   "source": []
  }
 ],
 "metadata": {
  "kernelspec": {
   "display_name": "Python 3",
   "language": "python",
   "name": "python3"
  },
  "language_info": {
   "codemirror_mode": {
    "name": "ipython",
    "version": 3
   },
   "file_extension": ".py",
   "mimetype": "text/x-python",
   "name": "python",
   "nbconvert_exporter": "python",
   "pygments_lexer": "ipython3",
   "version": "3.7.4"
  }
 },
 "nbformat": 4,
 "nbformat_minor": 2
}
