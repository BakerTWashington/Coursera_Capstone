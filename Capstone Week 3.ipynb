{
 "cells": [
  {
   "cell_type": "markdown",
   "metadata": {},
   "source": [
    "# Clustering of neighborhoods in Toronto"
   ]
  },
  {
   "cell_type": "markdown",
   "metadata": {},
   "source": [
    "Import necessary packages. I will be using BeautifulSoup to read the table and requests to obtain the html text."
   ]
  },
  {
   "cell_type": "code",
   "execution_count": 1,
   "metadata": {},
   "outputs": [],
   "source": [
    "import pandas as pd\n",
    "from bs4 import BeautifulSoup\n",
    "import requests\n",
    "\n",
    "url = \"https://en.wikipedia.org/wiki/List_of_postal_codes_of_Canada:_M\"\n",
    "html_doc = requests.get(url).text\n",
    "soup = BeautifulSoup(html_doc, 'html.parser')"
   ]
  },
  {
   "cell_type": "markdown",
   "metadata": {},
   "source": [
    "Read table header from html and find row and header elements. Extract header names from \"th\" elements."
   ]
  },
  {
   "cell_type": "code",
   "execution_count": 2,
   "metadata": {},
   "outputs": [],
   "source": [
    "table_html = soup.table\n",
    "rows = table_html.find_all(\"tr\")\n",
    "header_row = rows[0].find_all(\"th\")\n",
    "headers = [x.get_text().strip() for x in header_row]"
   ]
  },
  {
   "cell_type": "markdown",
   "metadata": {},
   "source": [
    "Loop through rows of soup object and extract values for each row using the \"td\" elements. Skip unassigned boroughs as requested."
   ]
  },
  {
   "cell_type": "code",
   "execution_count": 3,
   "metadata": {},
   "outputs": [],
   "source": [
    "df = pd.DataFrame(columns=headers)\n",
    "for row in rows[1:]:\n",
    "    row_val = [x.get_text().strip() for x in row.find_all(\"td\")]\n",
    "    if row_val[1] == 'Not assigned':\n",
    "        continue\n",
    "    df = df.append({headers[i]:row_val[i] for i in range(len(headers))}, ignore_index=True)"
   ]
  },
  {
   "cell_type": "markdown",
   "metadata": {},
   "source": [
    "Rename columns to match those requested for the assignment. Show dataframe."
   ]
  },
  {
   "cell_type": "code",
   "execution_count": 4,
   "metadata": {},
   "outputs": [
    {
     "data": {
      "text/html": [
       "<div>\n",
       "<style scoped>\n",
       "    .dataframe tbody tr th:only-of-type {\n",
       "        vertical-align: middle;\n",
       "    }\n",
       "\n",
       "    .dataframe tbody tr th {\n",
       "        vertical-align: top;\n",
       "    }\n",
       "\n",
       "    .dataframe thead th {\n",
       "        text-align: right;\n",
       "    }\n",
       "</style>\n",
       "<table border=\"1\" class=\"dataframe\">\n",
       "  <thead>\n",
       "    <tr style=\"text-align: right;\">\n",
       "      <th></th>\n",
       "      <th>PostalCode</th>\n",
       "      <th>Borough</th>\n",
       "      <th>Neighborhood</th>\n",
       "    </tr>\n",
       "  </thead>\n",
       "  <tbody>\n",
       "    <tr>\n",
       "      <td>0</td>\n",
       "      <td>M3A</td>\n",
       "      <td>North York</td>\n",
       "      <td>Parkwoods</td>\n",
       "    </tr>\n",
       "    <tr>\n",
       "      <td>1</td>\n",
       "      <td>M4A</td>\n",
       "      <td>North York</td>\n",
       "      <td>Victoria Village</td>\n",
       "    </tr>\n",
       "    <tr>\n",
       "      <td>2</td>\n",
       "      <td>M5A</td>\n",
       "      <td>Downtown Toronto</td>\n",
       "      <td>Regent Park, Harbourfront</td>\n",
       "    </tr>\n",
       "    <tr>\n",
       "      <td>3</td>\n",
       "      <td>M6A</td>\n",
       "      <td>North York</td>\n",
       "      <td>Lawrence Manor, Lawrence Heights</td>\n",
       "    </tr>\n",
       "    <tr>\n",
       "      <td>4</td>\n",
       "      <td>M7A</td>\n",
       "      <td>Downtown Toronto</td>\n",
       "      <td>Queen's Park, Ontario Provincial Government</td>\n",
       "    </tr>\n",
       "    <tr>\n",
       "      <td>...</td>\n",
       "      <td>...</td>\n",
       "      <td>...</td>\n",
       "      <td>...</td>\n",
       "    </tr>\n",
       "    <tr>\n",
       "      <td>98</td>\n",
       "      <td>M8X</td>\n",
       "      <td>Etobicoke</td>\n",
       "      <td>The Kingsway, Montgomery Road, Old Mill North</td>\n",
       "    </tr>\n",
       "    <tr>\n",
       "      <td>99</td>\n",
       "      <td>M4Y</td>\n",
       "      <td>Downtown Toronto</td>\n",
       "      <td>Church and Wellesley</td>\n",
       "    </tr>\n",
       "    <tr>\n",
       "      <td>100</td>\n",
       "      <td>M7Y</td>\n",
       "      <td>East Toronto</td>\n",
       "      <td>Business reply mail Processing Centre, South C...</td>\n",
       "    </tr>\n",
       "    <tr>\n",
       "      <td>101</td>\n",
       "      <td>M8Y</td>\n",
       "      <td>Etobicoke</td>\n",
       "      <td>Old Mill South, King's Mill Park, Sunnylea, Hu...</td>\n",
       "    </tr>\n",
       "    <tr>\n",
       "      <td>102</td>\n",
       "      <td>M8Z</td>\n",
       "      <td>Etobicoke</td>\n",
       "      <td>Mimico NW, The Queensway West, South of Bloor,...</td>\n",
       "    </tr>\n",
       "  </tbody>\n",
       "</table>\n",
       "<p>103 rows × 3 columns</p>\n",
       "</div>"
      ],
      "text/plain": [
       "    PostalCode           Borough  \\\n",
       "0          M3A        North York   \n",
       "1          M4A        North York   \n",
       "2          M5A  Downtown Toronto   \n",
       "3          M6A        North York   \n",
       "4          M7A  Downtown Toronto   \n",
       "..         ...               ...   \n",
       "98         M8X         Etobicoke   \n",
       "99         M4Y  Downtown Toronto   \n",
       "100        M7Y      East Toronto   \n",
       "101        M8Y         Etobicoke   \n",
       "102        M8Z         Etobicoke   \n",
       "\n",
       "                                          Neighborhood  \n",
       "0                                            Parkwoods  \n",
       "1                                     Victoria Village  \n",
       "2                            Regent Park, Harbourfront  \n",
       "3                     Lawrence Manor, Lawrence Heights  \n",
       "4          Queen's Park, Ontario Provincial Government  \n",
       "..                                                 ...  \n",
       "98       The Kingsway, Montgomery Road, Old Mill North  \n",
       "99                                Church and Wellesley  \n",
       "100  Business reply mail Processing Centre, South C...  \n",
       "101  Old Mill South, King's Mill Park, Sunnylea, Hu...  \n",
       "102  Mimico NW, The Queensway West, South of Bloor,...  \n",
       "\n",
       "[103 rows x 3 columns]"
      ]
     },
     "execution_count": 4,
     "metadata": {},
     "output_type": "execute_result"
    }
   ],
   "source": [
    "df.columns = [\"PostalCode\", \"Borough\", \"Neighborhood\"]\n",
    "df"
   ]
  },
  {
   "cell_type": "markdown",
   "metadata": {},
   "source": [
    "Illustrate that there are no instances where a borough has been assigned, but a neighborhood has not."
   ]
  },
  {
   "cell_type": "code",
   "execution_count": 5,
   "metadata": {},
   "outputs": [
    {
     "data": {
      "text/html": [
       "<div>\n",
       "<style scoped>\n",
       "    .dataframe tbody tr th:only-of-type {\n",
       "        vertical-align: middle;\n",
       "    }\n",
       "\n",
       "    .dataframe tbody tr th {\n",
       "        vertical-align: top;\n",
       "    }\n",
       "\n",
       "    .dataframe thead th {\n",
       "        text-align: right;\n",
       "    }\n",
       "</style>\n",
       "<table border=\"1\" class=\"dataframe\">\n",
       "  <thead>\n",
       "    <tr style=\"text-align: right;\">\n",
       "      <th></th>\n",
       "      <th>PostalCode</th>\n",
       "      <th>Borough</th>\n",
       "      <th>Neighborhood</th>\n",
       "    </tr>\n",
       "  </thead>\n",
       "  <tbody>\n",
       "  </tbody>\n",
       "</table>\n",
       "</div>"
      ],
      "text/plain": [
       "Empty DataFrame\n",
       "Columns: [PostalCode, Borough, Neighborhood]\n",
       "Index: []"
      ]
     },
     "execution_count": 5,
     "metadata": {},
     "output_type": "execute_result"
    }
   ],
   "source": [
    "df[df[\"Neighborhood\"] == \"Not Assigned\"]"
   ]
  },
  {
   "cell_type": "code",
   "execution_count": 6,
   "metadata": {},
   "outputs": [
    {
     "data": {
      "text/plain": [
       "(103, 3)"
      ]
     },
     "execution_count": 6,
     "metadata": {},
     "output_type": "execute_result"
    }
   ],
   "source": [
    "df.shape"
   ]
  },
  {
   "cell_type": "markdown",
   "metadata": {},
   "source": [
    "Use given link to download latitude and longitude. Tried geocoder, but it didn't work."
   ]
  },
  {
   "cell_type": "code",
   "execution_count": 7,
   "metadata": {},
   "outputs": [
    {
     "data": {
      "text/html": [
       "<div>\n",
       "<style scoped>\n",
       "    .dataframe tbody tr th:only-of-type {\n",
       "        vertical-align: middle;\n",
       "    }\n",
       "\n",
       "    .dataframe tbody tr th {\n",
       "        vertical-align: top;\n",
       "    }\n",
       "\n",
       "    .dataframe thead th {\n",
       "        text-align: right;\n",
       "    }\n",
       "</style>\n",
       "<table border=\"1\" class=\"dataframe\">\n",
       "  <thead>\n",
       "    <tr style=\"text-align: right;\">\n",
       "      <th></th>\n",
       "      <th>Postal Code</th>\n",
       "      <th>Latitude</th>\n",
       "      <th>Longitude</th>\n",
       "    </tr>\n",
       "  </thead>\n",
       "  <tbody>\n",
       "    <tr>\n",
       "      <td>0</td>\n",
       "      <td>M1B</td>\n",
       "      <td>43.806686</td>\n",
       "      <td>-79.194353</td>\n",
       "    </tr>\n",
       "    <tr>\n",
       "      <td>1</td>\n",
       "      <td>M1C</td>\n",
       "      <td>43.784535</td>\n",
       "      <td>-79.160497</td>\n",
       "    </tr>\n",
       "    <tr>\n",
       "      <td>2</td>\n",
       "      <td>M1E</td>\n",
       "      <td>43.763573</td>\n",
       "      <td>-79.188711</td>\n",
       "    </tr>\n",
       "    <tr>\n",
       "      <td>3</td>\n",
       "      <td>M1G</td>\n",
       "      <td>43.770992</td>\n",
       "      <td>-79.216917</td>\n",
       "    </tr>\n",
       "    <tr>\n",
       "      <td>4</td>\n",
       "      <td>M1H</td>\n",
       "      <td>43.773136</td>\n",
       "      <td>-79.239476</td>\n",
       "    </tr>\n",
       "  </tbody>\n",
       "</table>\n",
       "</div>"
      ],
      "text/plain": [
       "  Postal Code   Latitude  Longitude\n",
       "0         M1B  43.806686 -79.194353\n",
       "1         M1C  43.784535 -79.160497\n",
       "2         M1E  43.763573 -79.188711\n",
       "3         M1G  43.770992 -79.216917\n",
       "4         M1H  43.773136 -79.239476"
      ]
     },
     "execution_count": 7,
     "metadata": {},
     "output_type": "execute_result"
    }
   ],
   "source": [
    "lat_long = pd.read_csv(\"https://cocl.us/Geospatial_data\")\n",
    "lat_long.head()"
   ]
  },
  {
   "cell_type": "markdown",
   "metadata": {},
   "source": [
    "Merge df with lat_long on Postal Code."
   ]
  },
  {
   "cell_type": "code",
   "execution_count": 8,
   "metadata": {},
   "outputs": [],
   "source": [
    "df = pd.merge(df, lat_long, how=\"left\", left_on=\"PostalCode\", right_on=\"Postal Code\")"
   ]
  },
  {
   "cell_type": "markdown",
   "metadata": {},
   "source": [
    "Drop redundant column."
   ]
  },
  {
   "cell_type": "code",
   "execution_count": 9,
   "metadata": {},
   "outputs": [],
   "source": [
    "df.drop(\"Postal Code\", axis=1, inplace=True)"
   ]
  },
  {
   "cell_type": "code",
   "execution_count": 10,
   "metadata": {},
   "outputs": [
    {
     "data": {
      "text/html": [
       "<div>\n",
       "<style scoped>\n",
       "    .dataframe tbody tr th:only-of-type {\n",
       "        vertical-align: middle;\n",
       "    }\n",
       "\n",
       "    .dataframe tbody tr th {\n",
       "        vertical-align: top;\n",
       "    }\n",
       "\n",
       "    .dataframe thead th {\n",
       "        text-align: right;\n",
       "    }\n",
       "</style>\n",
       "<table border=\"1\" class=\"dataframe\">\n",
       "  <thead>\n",
       "    <tr style=\"text-align: right;\">\n",
       "      <th></th>\n",
       "      <th>PostalCode</th>\n",
       "      <th>Borough</th>\n",
       "      <th>Neighborhood</th>\n",
       "      <th>Latitude</th>\n",
       "      <th>Longitude</th>\n",
       "    </tr>\n",
       "  </thead>\n",
       "  <tbody>\n",
       "    <tr>\n",
       "      <td>0</td>\n",
       "      <td>M3A</td>\n",
       "      <td>North York</td>\n",
       "      <td>Parkwoods</td>\n",
       "      <td>43.753259</td>\n",
       "      <td>-79.329656</td>\n",
       "    </tr>\n",
       "    <tr>\n",
       "      <td>1</td>\n",
       "      <td>M4A</td>\n",
       "      <td>North York</td>\n",
       "      <td>Victoria Village</td>\n",
       "      <td>43.725882</td>\n",
       "      <td>-79.315572</td>\n",
       "    </tr>\n",
       "    <tr>\n",
       "      <td>2</td>\n",
       "      <td>M5A</td>\n",
       "      <td>Downtown Toronto</td>\n",
       "      <td>Regent Park, Harbourfront</td>\n",
       "      <td>43.654260</td>\n",
       "      <td>-79.360636</td>\n",
       "    </tr>\n",
       "    <tr>\n",
       "      <td>3</td>\n",
       "      <td>M6A</td>\n",
       "      <td>North York</td>\n",
       "      <td>Lawrence Manor, Lawrence Heights</td>\n",
       "      <td>43.718518</td>\n",
       "      <td>-79.464763</td>\n",
       "    </tr>\n",
       "    <tr>\n",
       "      <td>4</td>\n",
       "      <td>M7A</td>\n",
       "      <td>Downtown Toronto</td>\n",
       "      <td>Queen's Park, Ontario Provincial Government</td>\n",
       "      <td>43.662301</td>\n",
       "      <td>-79.389494</td>\n",
       "    </tr>\n",
       "  </tbody>\n",
       "</table>\n",
       "</div>"
      ],
      "text/plain": [
       "  PostalCode           Borough                                 Neighborhood  \\\n",
       "0        M3A        North York                                    Parkwoods   \n",
       "1        M4A        North York                             Victoria Village   \n",
       "2        M5A  Downtown Toronto                    Regent Park, Harbourfront   \n",
       "3        M6A        North York             Lawrence Manor, Lawrence Heights   \n",
       "4        M7A  Downtown Toronto  Queen's Park, Ontario Provincial Government   \n",
       "\n",
       "    Latitude  Longitude  \n",
       "0  43.753259 -79.329656  \n",
       "1  43.725882 -79.315572  \n",
       "2  43.654260 -79.360636  \n",
       "3  43.718518 -79.464763  \n",
       "4  43.662301 -79.389494  "
      ]
     },
     "execution_count": 10,
     "metadata": {},
     "output_type": "execute_result"
    }
   ],
   "source": [
    "df.head()"
   ]
  },
  {
   "cell_type": "markdown",
   "metadata": {},
   "source": [
    "Limit to only neighborhoods in Toronto."
   ]
  },
  {
   "cell_type": "code",
   "execution_count": 11,
   "metadata": {},
   "outputs": [],
   "source": [
    "toronto = df[df[\"Borough\"].str.contains(\"Toronto\")]"
   ]
  },
  {
   "cell_type": "markdown",
   "metadata": {},
   "source": [
    "Provide Foursquare credentials and other inputs to url name, including 500 m radius and 100 venues only."
   ]
  },
  {
   "cell_type": "code",
   "execution_count": 12,
   "metadata": {},
   "outputs": [],
   "source": [
    "CLIENT_ID = 'KJE04CZL5523T4QADSED3SRCW0N1BRODX2AMKZBOIAY4NRLD'\n",
    "CLIENT_SECRET = 'JQA5H4XV3E5BPAVRTXKRUVWNORPQOF3B4OTDA212TZMHMAYA'\n",
    "VERSION = '20200531'\n",
    "radius = 500\n",
    "LIMIT = 100"
   ]
  },
  {
   "cell_type": "markdown",
   "metadata": {},
   "source": [
    "Use same function as in lab to determine category names."
   ]
  },
  {
   "cell_type": "code",
   "execution_count": 13,
   "metadata": {},
   "outputs": [],
   "source": [
    "def get_category_type(row):\n",
    "    try:\n",
    "        categories_list = row['categories']\n",
    "    except:\n",
    "        categories_list = row['venue.categories']\n",
    "        \n",
    "    if len(categories_list) == 0:\n",
    "        return None\n",
    "    else:\n",
    "        return categories_list[0]['name']"
   ]
  },
  {
   "cell_type": "markdown",
   "metadata": {},
   "source": [
    "Create loop that finds latitude and longitude for every postal code in Toronto and outputs a dataframe with information on 100 venues. Used some code from lab."
   ]
  },
  {
   "cell_type": "code",
   "execution_count": 14,
   "metadata": {},
   "outputs": [
    {
     "name": "stdout",
     "output_type": "stream",
     "text": [
      "M5A\n",
      "M7A\n",
      "M5B\n",
      "M5C\n",
      "M4E\n",
      "M5E\n",
      "M5G\n",
      "M6G\n",
      "M5H\n",
      "M6H\n",
      "M5J\n",
      "M6J\n",
      "M4K\n",
      "M5K\n",
      "M6K\n",
      "M4L\n",
      "M5L\n",
      "M4M\n",
      "M4N\n",
      "M5N\n",
      "M4P\n",
      "M5P\n",
      "M6P\n",
      "M4R\n",
      "M5R\n",
      "M6R\n",
      "M4S\n",
      "M5S\n",
      "M6S\n",
      "M4T\n",
      "M5T\n",
      "M4V\n",
      "M5V\n",
      "M4W\n",
      "M5W\n",
      "M4X\n",
      "M5X\n",
      "M4Y\n",
      "M7Y\n"
     ]
    }
   ],
   "source": [
    "from pandas.io.json import json_normalize\n",
    "\n",
    "response_df = pd.DataFrame()\n",
    "for i in range(toronto.shape[0]):\n",
    "    print(toronto.iloc[i,0])\n",
    "    latitude = toronto.iloc[i,3]\n",
    "    longitude = toronto.iloc[i,4]\n",
    "    url = 'https://api.foursquare.com/v2/venues/explore?client_id={}&client_secret={}&ll={},{}&v={}&radius={}&limit={}'\\\n",
    "        .format(CLIENT_ID, CLIENT_SECRET, latitude, longitude, VERSION, radius, LIMIT)\n",
    "    results = requests.get(url).json()\n",
    "    response = results[\"response\"][\"groups\"][0][\"items\"]\n",
    "    nearby_venues = json_normalize(response)\n",
    "    filtered_columns = ['venue.name', 'venue.categories', 'venue.location.lat', 'venue.location.lng']\n",
    "    nearby_venues =nearby_venues.loc[:, filtered_columns]\n",
    "    nearby_venues['venue.categories'] = nearby_venues.apply(get_category_type, axis=1)\n",
    "    nearby_venues.columns = [col.split(\".\")[-1] for col in nearby_venues.columns]\n",
    "    nearby_venues[\"PostalCode\"] = toronto.iloc[i,0]\n",
    "    response_df = pd.concat([response_df, nearby_venues], axis=0)"
   ]
  },
  {
   "cell_type": "code",
   "execution_count": 15,
   "metadata": {},
   "outputs": [
    {
     "data": {
      "text/plain": [
       "(1613, 5)"
      ]
     },
     "execution_count": 15,
     "metadata": {},
     "output_type": "execute_result"
    }
   ],
   "source": [
    "response_df.shape"
   ]
  },
  {
   "cell_type": "markdown",
   "metadata": {},
   "source": [
    "Set postal code as index of df."
   ]
  },
  {
   "cell_type": "code",
   "execution_count": 16,
   "metadata": {},
   "outputs": [],
   "source": [
    "response_df.set_index(\"PostalCode\", inplace=True)"
   ]
  },
  {
   "cell_type": "code",
   "execution_count": 17,
   "metadata": {},
   "outputs": [
    {
     "data": {
      "text/html": [
       "<div>\n",
       "<style scoped>\n",
       "    .dataframe tbody tr th:only-of-type {\n",
       "        vertical-align: middle;\n",
       "    }\n",
       "\n",
       "    .dataframe tbody tr th {\n",
       "        vertical-align: top;\n",
       "    }\n",
       "\n",
       "    .dataframe thead th {\n",
       "        text-align: right;\n",
       "    }\n",
       "</style>\n",
       "<table border=\"1\" class=\"dataframe\">\n",
       "  <thead>\n",
       "    <tr style=\"text-align: right;\">\n",
       "      <th></th>\n",
       "      <th>name</th>\n",
       "      <th>categories</th>\n",
       "      <th>lat</th>\n",
       "      <th>lng</th>\n",
       "    </tr>\n",
       "    <tr>\n",
       "      <th>PostalCode</th>\n",
       "      <th></th>\n",
       "      <th></th>\n",
       "      <th></th>\n",
       "      <th></th>\n",
       "    </tr>\n",
       "  </thead>\n",
       "  <tbody>\n",
       "    <tr>\n",
       "      <td>M5A</td>\n",
       "      <td>Roselle Desserts</td>\n",
       "      <td>Bakery</td>\n",
       "      <td>43.653447</td>\n",
       "      <td>-79.362017</td>\n",
       "    </tr>\n",
       "    <tr>\n",
       "      <td>M5A</td>\n",
       "      <td>Tandem Coffee</td>\n",
       "      <td>Coffee Shop</td>\n",
       "      <td>43.653559</td>\n",
       "      <td>-79.361809</td>\n",
       "    </tr>\n",
       "    <tr>\n",
       "      <td>M5A</td>\n",
       "      <td>Morning Glory Cafe</td>\n",
       "      <td>Breakfast Spot</td>\n",
       "      <td>43.653947</td>\n",
       "      <td>-79.361149</td>\n",
       "    </tr>\n",
       "    <tr>\n",
       "      <td>M5A</td>\n",
       "      <td>Cooper Koo Family YMCA</td>\n",
       "      <td>Distribution Center</td>\n",
       "      <td>43.653249</td>\n",
       "      <td>-79.358008</td>\n",
       "    </tr>\n",
       "    <tr>\n",
       "      <td>M5A</td>\n",
       "      <td>Body Blitz Spa East</td>\n",
       "      <td>Spa</td>\n",
       "      <td>43.654735</td>\n",
       "      <td>-79.359874</td>\n",
       "    </tr>\n",
       "  </tbody>\n",
       "</table>\n",
       "</div>"
      ],
      "text/plain": [
       "                              name           categories        lat        lng\n",
       "PostalCode                                                                   \n",
       "M5A               Roselle Desserts               Bakery  43.653447 -79.362017\n",
       "M5A                  Tandem Coffee          Coffee Shop  43.653559 -79.361809\n",
       "M5A             Morning Glory Cafe       Breakfast Spot  43.653947 -79.361149\n",
       "M5A         Cooper Koo Family YMCA  Distribution Center  43.653249 -79.358008\n",
       "M5A            Body Blitz Spa East                  Spa  43.654735 -79.359874"
      ]
     },
     "execution_count": 17,
     "metadata": {},
     "output_type": "execute_result"
    }
   ],
   "source": [
    "response_df.head()"
   ]
  },
  {
   "cell_type": "markdown",
   "metadata": {},
   "source": [
    "Use same process as in lab. Create one hot df with venue categories. Then group by postal code and reset index."
   ]
  },
  {
   "cell_type": "code",
   "execution_count": 18,
   "metadata": {},
   "outputs": [
    {
     "data": {
      "text/html": [
       "<div>\n",
       "<style scoped>\n",
       "    .dataframe tbody tr th:only-of-type {\n",
       "        vertical-align: middle;\n",
       "    }\n",
       "\n",
       "    .dataframe tbody tr th {\n",
       "        vertical-align: top;\n",
       "    }\n",
       "\n",
       "    .dataframe thead th {\n",
       "        text-align: right;\n",
       "    }\n",
       "</style>\n",
       "<table border=\"1\" class=\"dataframe\">\n",
       "  <thead>\n",
       "    <tr style=\"text-align: right;\">\n",
       "      <th></th>\n",
       "      <th>PostalCode</th>\n",
       "      <th>Afghan Restaurant</th>\n",
       "      <th>Airport</th>\n",
       "      <th>Airport Food Court</th>\n",
       "      <th>Airport Gate</th>\n",
       "      <th>Airport Lounge</th>\n",
       "      <th>Airport Service</th>\n",
       "      <th>Airport Terminal</th>\n",
       "      <th>American Restaurant</th>\n",
       "      <th>Antique Shop</th>\n",
       "      <th>...</th>\n",
       "      <th>Trail</th>\n",
       "      <th>Train Station</th>\n",
       "      <th>Vegetarian / Vegan Restaurant</th>\n",
       "      <th>Video Game Store</th>\n",
       "      <th>Video Store</th>\n",
       "      <th>Vietnamese Restaurant</th>\n",
       "      <th>Wine Bar</th>\n",
       "      <th>Wings Joint</th>\n",
       "      <th>Women's Store</th>\n",
       "      <th>Yoga Studio</th>\n",
       "    </tr>\n",
       "  </thead>\n",
       "  <tbody>\n",
       "    <tr>\n",
       "      <td>0</td>\n",
       "      <td>M4E</td>\n",
       "      <td>0.0</td>\n",
       "      <td>0.0</td>\n",
       "      <td>0.0</td>\n",
       "      <td>0.0</td>\n",
       "      <td>0.0</td>\n",
       "      <td>0.0</td>\n",
       "      <td>0.0</td>\n",
       "      <td>0.00000</td>\n",
       "      <td>0.0</td>\n",
       "      <td>...</td>\n",
       "      <td>0.20000</td>\n",
       "      <td>0.0</td>\n",
       "      <td>0.0</td>\n",
       "      <td>0.0</td>\n",
       "      <td>0.0</td>\n",
       "      <td>0.0</td>\n",
       "      <td>0.000</td>\n",
       "      <td>0.0</td>\n",
       "      <td>0.0</td>\n",
       "      <td>0.00000</td>\n",
       "    </tr>\n",
       "    <tr>\n",
       "      <td>1</td>\n",
       "      <td>M4K</td>\n",
       "      <td>0.0</td>\n",
       "      <td>0.0</td>\n",
       "      <td>0.0</td>\n",
       "      <td>0.0</td>\n",
       "      <td>0.0</td>\n",
       "      <td>0.0</td>\n",
       "      <td>0.0</td>\n",
       "      <td>0.02381</td>\n",
       "      <td>0.0</td>\n",
       "      <td>...</td>\n",
       "      <td>0.02381</td>\n",
       "      <td>0.0</td>\n",
       "      <td>0.0</td>\n",
       "      <td>0.0</td>\n",
       "      <td>0.0</td>\n",
       "      <td>0.0</td>\n",
       "      <td>0.000</td>\n",
       "      <td>0.0</td>\n",
       "      <td>0.0</td>\n",
       "      <td>0.02381</td>\n",
       "    </tr>\n",
       "    <tr>\n",
       "      <td>2</td>\n",
       "      <td>M4L</td>\n",
       "      <td>0.0</td>\n",
       "      <td>0.0</td>\n",
       "      <td>0.0</td>\n",
       "      <td>0.0</td>\n",
       "      <td>0.0</td>\n",
       "      <td>0.0</td>\n",
       "      <td>0.0</td>\n",
       "      <td>0.00000</td>\n",
       "      <td>0.0</td>\n",
       "      <td>...</td>\n",
       "      <td>0.00000</td>\n",
       "      <td>0.0</td>\n",
       "      <td>0.0</td>\n",
       "      <td>0.0</td>\n",
       "      <td>0.0</td>\n",
       "      <td>0.0</td>\n",
       "      <td>0.000</td>\n",
       "      <td>0.0</td>\n",
       "      <td>0.0</td>\n",
       "      <td>0.00000</td>\n",
       "    </tr>\n",
       "    <tr>\n",
       "      <td>3</td>\n",
       "      <td>M4M</td>\n",
       "      <td>0.0</td>\n",
       "      <td>0.0</td>\n",
       "      <td>0.0</td>\n",
       "      <td>0.0</td>\n",
       "      <td>0.0</td>\n",
       "      <td>0.0</td>\n",
       "      <td>0.0</td>\n",
       "      <td>0.05000</td>\n",
       "      <td>0.0</td>\n",
       "      <td>...</td>\n",
       "      <td>0.00000</td>\n",
       "      <td>0.0</td>\n",
       "      <td>0.0</td>\n",
       "      <td>0.0</td>\n",
       "      <td>0.0</td>\n",
       "      <td>0.0</td>\n",
       "      <td>0.025</td>\n",
       "      <td>0.0</td>\n",
       "      <td>0.0</td>\n",
       "      <td>0.02500</td>\n",
       "    </tr>\n",
       "    <tr>\n",
       "      <td>4</td>\n",
       "      <td>M4N</td>\n",
       "      <td>0.0</td>\n",
       "      <td>0.0</td>\n",
       "      <td>0.0</td>\n",
       "      <td>0.0</td>\n",
       "      <td>0.0</td>\n",
       "      <td>0.0</td>\n",
       "      <td>0.0</td>\n",
       "      <td>0.00000</td>\n",
       "      <td>0.0</td>\n",
       "      <td>...</td>\n",
       "      <td>0.00000</td>\n",
       "      <td>0.0</td>\n",
       "      <td>0.0</td>\n",
       "      <td>0.0</td>\n",
       "      <td>0.0</td>\n",
       "      <td>0.0</td>\n",
       "      <td>0.000</td>\n",
       "      <td>0.0</td>\n",
       "      <td>0.0</td>\n",
       "      <td>0.00000</td>\n",
       "    </tr>\n",
       "  </tbody>\n",
       "</table>\n",
       "<p>5 rows × 240 columns</p>\n",
       "</div>"
      ],
      "text/plain": [
       "  PostalCode  Afghan Restaurant  Airport  Airport Food Court  Airport Gate  \\\n",
       "0        M4E                0.0      0.0                 0.0           0.0   \n",
       "1        M4K                0.0      0.0                 0.0           0.0   \n",
       "2        M4L                0.0      0.0                 0.0           0.0   \n",
       "3        M4M                0.0      0.0                 0.0           0.0   \n",
       "4        M4N                0.0      0.0                 0.0           0.0   \n",
       "\n",
       "   Airport Lounge  Airport Service  Airport Terminal  American Restaurant  \\\n",
       "0             0.0              0.0               0.0              0.00000   \n",
       "1             0.0              0.0               0.0              0.02381   \n",
       "2             0.0              0.0               0.0              0.00000   \n",
       "3             0.0              0.0               0.0              0.05000   \n",
       "4             0.0              0.0               0.0              0.00000   \n",
       "\n",
       "   Antique Shop  ...    Trail  Train Station  Vegetarian / Vegan Restaurant  \\\n",
       "0           0.0  ...  0.20000            0.0                            0.0   \n",
       "1           0.0  ...  0.02381            0.0                            0.0   \n",
       "2           0.0  ...  0.00000            0.0                            0.0   \n",
       "3           0.0  ...  0.00000            0.0                            0.0   \n",
       "4           0.0  ...  0.00000            0.0                            0.0   \n",
       "\n",
       "   Video Game Store  Video Store  Vietnamese Restaurant  Wine Bar  \\\n",
       "0               0.0          0.0                    0.0     0.000   \n",
       "1               0.0          0.0                    0.0     0.000   \n",
       "2               0.0          0.0                    0.0     0.000   \n",
       "3               0.0          0.0                    0.0     0.025   \n",
       "4               0.0          0.0                    0.0     0.000   \n",
       "\n",
       "   Wings Joint  Women's Store  Yoga Studio  \n",
       "0          0.0            0.0      0.00000  \n",
       "1          0.0            0.0      0.02381  \n",
       "2          0.0            0.0      0.00000  \n",
       "3          0.0            0.0      0.02500  \n",
       "4          0.0            0.0      0.00000  \n",
       "\n",
       "[5 rows x 240 columns]"
      ]
     },
     "execution_count": 18,
     "metadata": {},
     "output_type": "execute_result"
    }
   ],
   "source": [
    "toronto_one_hot = pd.get_dummies(response_df[[\"categories\"]], prefix=\"\", prefix_sep=\"\")\n",
    "toronto_grouped = toronto_one_hot.groupby(toronto_one_hot.index).mean().reset_index()\n",
    "toronto_grouped.head()"
   ]
  },
  {
   "cell_type": "code",
   "execution_count": 19,
   "metadata": {},
   "outputs": [
    {
     "data": {
      "text/plain": [
       "(39, 240)"
      ]
     },
     "execution_count": 19,
     "metadata": {},
     "output_type": "execute_result"
    }
   ],
   "source": [
    "toronto_grouped.shape"
   ]
  },
  {
   "cell_type": "markdown",
   "metadata": {},
   "source": [
    "Create function to select most common categories for each postal code."
   ]
  },
  {
   "cell_type": "code",
   "execution_count": 20,
   "metadata": {},
   "outputs": [],
   "source": [
    "def most_common_cats(postal_code, num_values):\n",
    "    postal_cats = toronto_grouped.set_index(\"PostalCode\").loc[postal_code,:]\n",
    "    most_common = postal_cats.sort_values(ascending=False).iloc[:num_values]\n",
    "    most_common_cats = list(most_common.index)\n",
    "    return most_common_cats"
   ]
  },
  {
   "cell_type": "markdown",
   "metadata": {},
   "source": [
    "Use lab code, adjusted with change in common venue function format. Create dataframe of top 10 most common venues."
   ]
  },
  {
   "cell_type": "code",
   "execution_count": 21,
   "metadata": {},
   "outputs": [
    {
     "data": {
      "text/html": [
       "<div>\n",
       "<style scoped>\n",
       "    .dataframe tbody tr th:only-of-type {\n",
       "        vertical-align: middle;\n",
       "    }\n",
       "\n",
       "    .dataframe tbody tr th {\n",
       "        vertical-align: top;\n",
       "    }\n",
       "\n",
       "    .dataframe thead th {\n",
       "        text-align: right;\n",
       "    }\n",
       "</style>\n",
       "<table border=\"1\" class=\"dataframe\">\n",
       "  <thead>\n",
       "    <tr style=\"text-align: right;\">\n",
       "      <th></th>\n",
       "      <th>PostalCode</th>\n",
       "      <th>1st Most Common Venue</th>\n",
       "      <th>2nd Most Common Venue</th>\n",
       "      <th>3rd Most Common Venue</th>\n",
       "      <th>4th Most Common Venue</th>\n",
       "      <th>5th Most Common Venue</th>\n",
       "      <th>6th Most Common Venue</th>\n",
       "      <th>7th Most Common Venue</th>\n",
       "      <th>8th Most Common Venue</th>\n",
       "      <th>9th Most Common Venue</th>\n",
       "      <th>10th Most Common Venue</th>\n",
       "    </tr>\n",
       "  </thead>\n",
       "  <tbody>\n",
       "    <tr>\n",
       "      <td>0</td>\n",
       "      <td>M4E</td>\n",
       "      <td>Trail</td>\n",
       "      <td>Health Food Store</td>\n",
       "      <td>Neighborhood</td>\n",
       "      <td>Coffee Shop</td>\n",
       "      <td>Pub</td>\n",
       "      <td>Donut Shop</td>\n",
       "      <td>Discount Store</td>\n",
       "      <td>Distribution Center</td>\n",
       "      <td>Dog Run</td>\n",
       "      <td>Doner Restaurant</td>\n",
       "    </tr>\n",
       "    <tr>\n",
       "      <td>1</td>\n",
       "      <td>M4K</td>\n",
       "      <td>Greek Restaurant</td>\n",
       "      <td>Coffee Shop</td>\n",
       "      <td>Italian Restaurant</td>\n",
       "      <td>Ice Cream Shop</td>\n",
       "      <td>Furniture / Home Store</td>\n",
       "      <td>Restaurant</td>\n",
       "      <td>Bubble Tea Shop</td>\n",
       "      <td>Indian Restaurant</td>\n",
       "      <td>Spa</td>\n",
       "      <td>Juice Bar</td>\n",
       "    </tr>\n",
       "    <tr>\n",
       "      <td>2</td>\n",
       "      <td>M4L</td>\n",
       "      <td>Sandwich Place</td>\n",
       "      <td>Park</td>\n",
       "      <td>Fast Food Restaurant</td>\n",
       "      <td>Ice Cream Shop</td>\n",
       "      <td>Pub</td>\n",
       "      <td>Burrito Place</td>\n",
       "      <td>Board Shop</td>\n",
       "      <td>Fish &amp; Chips Shop</td>\n",
       "      <td>Italian Restaurant</td>\n",
       "      <td>Restaurant</td>\n",
       "    </tr>\n",
       "    <tr>\n",
       "      <td>3</td>\n",
       "      <td>M4M</td>\n",
       "      <td>Café</td>\n",
       "      <td>Coffee Shop</td>\n",
       "      <td>Bakery</td>\n",
       "      <td>Gastropub</td>\n",
       "      <td>American Restaurant</td>\n",
       "      <td>Brewery</td>\n",
       "      <td>Yoga Studio</td>\n",
       "      <td>Sandwich Place</td>\n",
       "      <td>Fish Market</td>\n",
       "      <td>Italian Restaurant</td>\n",
       "    </tr>\n",
       "    <tr>\n",
       "      <td>4</td>\n",
       "      <td>M4N</td>\n",
       "      <td>Park</td>\n",
       "      <td>Swim School</td>\n",
       "      <td>Bus Line</td>\n",
       "      <td>Yoga Studio</td>\n",
       "      <td>Diner</td>\n",
       "      <td>Falafel Restaurant</td>\n",
       "      <td>Event Space</td>\n",
       "      <td>Ethiopian Restaurant</td>\n",
       "      <td>Electronics Store</td>\n",
       "      <td>Eastern European Restaurant</td>\n",
       "    </tr>\n",
       "  </tbody>\n",
       "</table>\n",
       "</div>"
      ],
      "text/plain": [
       "  PostalCode 1st Most Common Venue 2nd Most Common Venue  \\\n",
       "0        M4E                 Trail     Health Food Store   \n",
       "1        M4K      Greek Restaurant           Coffee Shop   \n",
       "2        M4L        Sandwich Place                  Park   \n",
       "3        M4M                  Café           Coffee Shop   \n",
       "4        M4N                  Park           Swim School   \n",
       "\n",
       "  3rd Most Common Venue 4th Most Common Venue   5th Most Common Venue  \\\n",
       "0          Neighborhood           Coffee Shop                     Pub   \n",
       "1    Italian Restaurant        Ice Cream Shop  Furniture / Home Store   \n",
       "2  Fast Food Restaurant        Ice Cream Shop                     Pub   \n",
       "3                Bakery             Gastropub     American Restaurant   \n",
       "4              Bus Line           Yoga Studio                   Diner   \n",
       "\n",
       "  6th Most Common Venue 7th Most Common Venue 8th Most Common Venue  \\\n",
       "0            Donut Shop        Discount Store   Distribution Center   \n",
       "1            Restaurant       Bubble Tea Shop     Indian Restaurant   \n",
       "2         Burrito Place            Board Shop     Fish & Chips Shop   \n",
       "3               Brewery           Yoga Studio        Sandwich Place   \n",
       "4    Falafel Restaurant           Event Space  Ethiopian Restaurant   \n",
       "\n",
       "  9th Most Common Venue       10th Most Common Venue  \n",
       "0               Dog Run             Doner Restaurant  \n",
       "1                   Spa                    Juice Bar  \n",
       "2    Italian Restaurant                   Restaurant  \n",
       "3           Fish Market           Italian Restaurant  \n",
       "4     Electronics Store  Eastern European Restaurant  "
      ]
     },
     "execution_count": 21,
     "metadata": {},
     "output_type": "execute_result"
    }
   ],
   "source": [
    "import numpy as np\n",
    "\n",
    "num_top_venues = 10\n",
    "indicators = ['st', 'nd', 'rd']\n",
    "columns = ['PostalCode']\n",
    "for ind in np.arange(num_top_venues):\n",
    "    try:\n",
    "        columns.append('{}{} Most Common Venue'.format(ind+1, indicators[ind]))\n",
    "    except:\n",
    "        columns.append('{}th Most Common Venue'.format(ind+1))\n",
    "postal_venues_sorted = pd.DataFrame(columns=columns)\n",
    "postal_venues_sorted['PostalCode'] = toronto_grouped['PostalCode']\n",
    "for ind in np.arange(toronto_grouped.shape[0]):\n",
    "    postal_venues_sorted.iloc[ind, 1:] = most_common_cats(toronto_grouped.iloc[ind, 0], num_top_venues)\n",
    "\n",
    "postal_venues_sorted.head()"
   ]
  },
  {
   "cell_type": "markdown",
   "metadata": {},
   "source": [
    "Cluster postal codes using K Means."
   ]
  },
  {
   "cell_type": "code",
   "execution_count": 22,
   "metadata": {},
   "outputs": [],
   "source": [
    "from sklearn.cluster import KMeans\n",
    "\n",
    "kclusters = 5\n",
    "toronto_grouped_clustering = toronto_grouped.drop('PostalCode', 1)\n",
    "kmeans = KMeans(n_clusters=kclusters, random_state=42).fit(toronto_grouped_clustering)"
   ]
  },
  {
   "cell_type": "markdown",
   "metadata": {},
   "source": [
    "Add K Means labels to venues and merge with data on latitude and longitude."
   ]
  },
  {
   "cell_type": "code",
   "execution_count": 23,
   "metadata": {},
   "outputs": [
    {
     "data": {
      "text/html": [
       "<div>\n",
       "<style scoped>\n",
       "    .dataframe tbody tr th:only-of-type {\n",
       "        vertical-align: middle;\n",
       "    }\n",
       "\n",
       "    .dataframe tbody tr th {\n",
       "        vertical-align: top;\n",
       "    }\n",
       "\n",
       "    .dataframe thead th {\n",
       "        text-align: right;\n",
       "    }\n",
       "</style>\n",
       "<table border=\"1\" class=\"dataframe\">\n",
       "  <thead>\n",
       "    <tr style=\"text-align: right;\">\n",
       "      <th></th>\n",
       "      <th>PostalCode</th>\n",
       "      <th>Borough</th>\n",
       "      <th>Neighborhood</th>\n",
       "      <th>Latitude</th>\n",
       "      <th>Longitude</th>\n",
       "      <th>1st Most Common Venue</th>\n",
       "      <th>2nd Most Common Venue</th>\n",
       "      <th>3rd Most Common Venue</th>\n",
       "      <th>4th Most Common Venue</th>\n",
       "      <th>5th Most Common Venue</th>\n",
       "      <th>6th Most Common Venue</th>\n",
       "      <th>7th Most Common Venue</th>\n",
       "      <th>8th Most Common Venue</th>\n",
       "      <th>9th Most Common Venue</th>\n",
       "      <th>10th Most Common Venue</th>\n",
       "      <th>Labels</th>\n",
       "    </tr>\n",
       "  </thead>\n",
       "  <tbody>\n",
       "    <tr>\n",
       "      <td>2</td>\n",
       "      <td>M5A</td>\n",
       "      <td>Downtown Toronto</td>\n",
       "      <td>Regent Park, Harbourfront</td>\n",
       "      <td>43.654260</td>\n",
       "      <td>-79.360636</td>\n",
       "      <td>Coffee Shop</td>\n",
       "      <td>Park</td>\n",
       "      <td>Pub</td>\n",
       "      <td>Bakery</td>\n",
       "      <td>Theater</td>\n",
       "      <td>Breakfast Spot</td>\n",
       "      <td>Café</td>\n",
       "      <td>Ice Cream Shop</td>\n",
       "      <td>French Restaurant</td>\n",
       "      <td>Chocolate Shop</td>\n",
       "      <td>3</td>\n",
       "    </tr>\n",
       "    <tr>\n",
       "      <td>4</td>\n",
       "      <td>M7A</td>\n",
       "      <td>Downtown Toronto</td>\n",
       "      <td>Queen's Park, Ontario Provincial Government</td>\n",
       "      <td>43.662301</td>\n",
       "      <td>-79.389494</td>\n",
       "      <td>Coffee Shop</td>\n",
       "      <td>Sushi Restaurant</td>\n",
       "      <td>Yoga Studio</td>\n",
       "      <td>Creperie</td>\n",
       "      <td>Beer Bar</td>\n",
       "      <td>Smoothie Shop</td>\n",
       "      <td>Sandwich Place</td>\n",
       "      <td>Burger Joint</td>\n",
       "      <td>Burrito Place</td>\n",
       "      <td>Café</td>\n",
       "      <td>3</td>\n",
       "    </tr>\n",
       "    <tr>\n",
       "      <td>9</td>\n",
       "      <td>M5B</td>\n",
       "      <td>Downtown Toronto</td>\n",
       "      <td>Garden District, Ryerson</td>\n",
       "      <td>43.657162</td>\n",
       "      <td>-79.378937</td>\n",
       "      <td>Clothing Store</td>\n",
       "      <td>Coffee Shop</td>\n",
       "      <td>Middle Eastern Restaurant</td>\n",
       "      <td>Cosmetics Shop</td>\n",
       "      <td>Japanese Restaurant</td>\n",
       "      <td>Italian Restaurant</td>\n",
       "      <td>Café</td>\n",
       "      <td>Bubble Tea Shop</td>\n",
       "      <td>Bookstore</td>\n",
       "      <td>Tea Room</td>\n",
       "      <td>3</td>\n",
       "    </tr>\n",
       "    <tr>\n",
       "      <td>15</td>\n",
       "      <td>M5C</td>\n",
       "      <td>Downtown Toronto</td>\n",
       "      <td>St. James Town</td>\n",
       "      <td>43.651494</td>\n",
       "      <td>-79.375418</td>\n",
       "      <td>Coffee Shop</td>\n",
       "      <td>Café</td>\n",
       "      <td>Cocktail Bar</td>\n",
       "      <td>American Restaurant</td>\n",
       "      <td>Restaurant</td>\n",
       "      <td>Gastropub</td>\n",
       "      <td>Creperie</td>\n",
       "      <td>Theater</td>\n",
       "      <td>Gym</td>\n",
       "      <td>Clothing Store</td>\n",
       "      <td>3</td>\n",
       "    </tr>\n",
       "    <tr>\n",
       "      <td>19</td>\n",
       "      <td>M4E</td>\n",
       "      <td>East Toronto</td>\n",
       "      <td>The Beaches</td>\n",
       "      <td>43.676357</td>\n",
       "      <td>-79.293031</td>\n",
       "      <td>Trail</td>\n",
       "      <td>Health Food Store</td>\n",
       "      <td>Neighborhood</td>\n",
       "      <td>Coffee Shop</td>\n",
       "      <td>Pub</td>\n",
       "      <td>Donut Shop</td>\n",
       "      <td>Discount Store</td>\n",
       "      <td>Distribution Center</td>\n",
       "      <td>Dog Run</td>\n",
       "      <td>Doner Restaurant</td>\n",
       "      <td>3</td>\n",
       "    </tr>\n",
       "  </tbody>\n",
       "</table>\n",
       "</div>"
      ],
      "text/plain": [
       "   PostalCode           Borough                                 Neighborhood  \\\n",
       "2         M5A  Downtown Toronto                    Regent Park, Harbourfront   \n",
       "4         M7A  Downtown Toronto  Queen's Park, Ontario Provincial Government   \n",
       "9         M5B  Downtown Toronto                     Garden District, Ryerson   \n",
       "15        M5C  Downtown Toronto                               St. James Town   \n",
       "19        M4E      East Toronto                                  The Beaches   \n",
       "\n",
       "     Latitude  Longitude 1st Most Common Venue 2nd Most Common Venue  \\\n",
       "2   43.654260 -79.360636           Coffee Shop                  Park   \n",
       "4   43.662301 -79.389494           Coffee Shop      Sushi Restaurant   \n",
       "9   43.657162 -79.378937        Clothing Store           Coffee Shop   \n",
       "15  43.651494 -79.375418           Coffee Shop                  Café   \n",
       "19  43.676357 -79.293031                 Trail     Health Food Store   \n",
       "\n",
       "        3rd Most Common Venue 4th Most Common Venue 5th Most Common Venue  \\\n",
       "2                         Pub                Bakery               Theater   \n",
       "4                 Yoga Studio              Creperie              Beer Bar   \n",
       "9   Middle Eastern Restaurant        Cosmetics Shop   Japanese Restaurant   \n",
       "15               Cocktail Bar   American Restaurant            Restaurant   \n",
       "19               Neighborhood           Coffee Shop                   Pub   \n",
       "\n",
       "   6th Most Common Venue 7th Most Common Venue 8th Most Common Venue  \\\n",
       "2         Breakfast Spot                  Café        Ice Cream Shop   \n",
       "4          Smoothie Shop        Sandwich Place          Burger Joint   \n",
       "9     Italian Restaurant                  Café       Bubble Tea Shop   \n",
       "15             Gastropub              Creperie               Theater   \n",
       "19            Donut Shop        Discount Store   Distribution Center   \n",
       "\n",
       "   9th Most Common Venue 10th Most Common Venue  Labels  \n",
       "2      French Restaurant         Chocolate Shop       3  \n",
       "4          Burrito Place                   Café       3  \n",
       "9              Bookstore               Tea Room       3  \n",
       "15                   Gym         Clothing Store       3  \n",
       "19               Dog Run       Doner Restaurant       3  "
      ]
     },
     "execution_count": 23,
     "metadata": {},
     "output_type": "execute_result"
    }
   ],
   "source": [
    "postal_venues_sorted[\"Labels\"] = kmeans.labels_\n",
    "toronto_merged = toronto.join(postal_venues_sorted.set_index('PostalCode'), on=\"PostalCode\")\n",
    "toronto_merged.head()"
   ]
  },
  {
   "cell_type": "markdown",
   "metadata": {},
   "source": [
    "Create map of clusters in Toronto. Use same format as used in lab with Folium. Note that the map does not render in GitHub."
   ]
  },
  {
   "cell_type": "code",
   "execution_count": 24,
   "metadata": {},
   "outputs": [
    {
     "data": {
      "text/html": [
       "<div style=\"width:100%;\"><div style=\"position:relative;width:100%;height:0;padding-bottom:60%;\"><span style=\"color:#565656\">Make this Notebook Trusted to load map: File -> Trust Notebook</span><iframe src=\"about:blank\" style=\"position:absolute;width:100%;height:100%;left:0;top:0;border:none !important;\" data-html=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 onload=\"this.contentDocument.open();this.contentDocument.write(atob(this.getAttribute('data-html')));this.contentDocument.close();\" allowfullscreen webkitallowfullscreen mozallowfullscreen></iframe></div></div>"
      ],
      "text/plain": [
       "<folium.folium.Map at 0x1361cf5d0>"
      ]
     },
     "execution_count": 24,
     "metadata": {},
     "output_type": "execute_result"
    }
   ],
   "source": [
    "import folium\n",
    "import matplotlib.cm as cm\n",
    "import matplotlib.colors as colors\n",
    "\n",
    "latitude = 43.6532\n",
    "longitude = -79.3832\n",
    "map_clusters = folium.Map(location=[latitude, longitude], zoom_start=11)\n",
    "x = np.arange(kclusters)\n",
    "ys = [i + x + (i*x)**2 for i in range(kclusters)]\n",
    "colors_array = cm.rainbow(np.linspace(0, 1, len(ys)))\n",
    "rainbow = [colors.rgb2hex(i) for i in colors_array]\n",
    "markers_colors = []\n",
    "for lat, lon, poi, cluster in zip(toronto_merged['Latitude'], toronto_merged['Longitude'], toronto_merged['PostalCode'], toronto_merged['Labels']):\n",
    "    label = folium.Popup(str(poi) + ' Cluster ' + str(cluster), parse_html=True)\n",
    "    folium.CircleMarker(\n",
    "        [lat, lon],\n",
    "        radius=5,\n",
    "        popup=label,\n",
    "        color=rainbow[cluster-1],\n",
    "        fill=True,\n",
    "        fill_color=rainbow[cluster-1],\n",
    "        fill_opacity=0.7).add_to(map_clusters)\n",
    "       \n",
    "map_clusters"
   ]
  },
  {
   "cell_type": "code",
   "execution_count": null,
   "metadata": {},
   "outputs": [],
   "source": []
  },
  {
   "cell_type": "code",
   "execution_count": null,
   "metadata": {},
   "outputs": [],
   "source": []
  }
 ],
 "metadata": {
  "kernelspec": {
   "display_name": "Python 3",
   "language": "python",
   "name": "python3"
  },
  "language_info": {
   "codemirror_mode": {
    "name": "ipython",
    "version": 3
   },
   "file_extension": ".py",
   "mimetype": "text/x-python",
   "name": "python",
   "nbconvert_exporter": "python",
   "pygments_lexer": "ipython3",
   "version": "3.7.4"
  }
 },
 "nbformat": 4,
 "nbformat_minor": 2
}
